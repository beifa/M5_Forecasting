{
  "nbformat": 4,
  "nbformat_minor": 0,
  "metadata": {
    "kernelspec": {
      "display_name": "Python 3",
      "language": "python",
      "name": "python3"
    },
    "language_info": {
      "codemirror_mode": {
        "name": "ipython",
        "version": 3
      },
      "file_extension": ".py",
      "mimetype": "text/x-python",
      "name": "python",
      "nbconvert_exporter": "python",
      "pygments_lexer": "ipython3",
      "version": "3.7.6"
    },
    "colab": {
      "name": "eval-lags-m5.ipynb",
      "provenance": [],
      "collapsed_sections": [],
      "include_colab_link": true
    }
  },
  "cells": [
    {
      "cell_type": "markdown",
      "metadata": {
        "id": "view-in-github",
        "colab_type": "text"
      },
      "source": [
        "<a href=\"https://colab.research.google.com/github/beifa/M5_Forecasting/blob/master/eval_lags_m5.ipynb\" target=\"_parent\"><img src=\"https://colab.research.google.com/assets/colab-badge.svg\" alt=\"Open In Colab\"/></a>"
      ]
    },
    {
      "cell_type": "code",
      "metadata": {
        "id": "8--fJJtl8YMK",
        "colab_type": "code",
        "colab": {}
      },
      "source": [
        "import gc\n",
        "import numpy as np\n",
        "import pandas as pd\n",
        "\n",
        "PATH =  '/kaggle/input/m5-forecasting-accuracy/'\n",
        "PATH_AGG = '/kaggle/input/eval-default-data-m5/'"
      ],
      "execution_count": null,
      "outputs": []
    },
    {
      "cell_type": "code",
      "metadata": {
        "_cell_guid": "79c7e3d0-c299-4dcb-8224-4455121ee9b0",
        "_uuid": "d629ff2d2480ee46fbb7e2d37f6b5fab8052498a",
        "id": "BOO77-cI8YMN",
        "colab_type": "code",
        "colab": {}
      },
      "source": [
        "#default reduce mem\n",
        "def reduce_mem_usage(df, verbose=True):\n",
        "  numerics = ['int16', 'int32', 'int64', 'float16', 'float32', 'float64']\n",
        "  start_mem = df.memory_usage().sum() / 1024**2    \n",
        "  for col in df.columns: \n",
        "    col_type = df[col].dtypes\n",
        "    if col_type in numerics: \n",
        "      c_min = df[col].min()\n",
        "      c_max = df[col].max()\n",
        "      if str(col_type)[:3] == 'int':\n",
        "        if c_min > np.iinfo(np.int8).min and c_max < np.iinfo(np.int8).max:\n",
        "          df[col] = df[col].astype(np.int8)\n",
        "        elif c_min > np.iinfo(np.int16).min and c_max < np.iinfo(np.int16).max:\n",
        "          df[col] = df[col].astype(np.int16)\n",
        "        elif c_min > np.iinfo(np.int32).min and c_max < np.iinfo(np.int32).max:\n",
        "          df[col] = df[col].astype(np.int32)\n",
        "        elif c_min > np.iinfo(np.int64).min and c_max < np.iinfo(np.int64).max:\n",
        "          df[col] = df[col].astype(np.int64)  \n",
        "      else:\n",
        "        if c_min > np.finfo(np.float16).min and c_max < np.finfo(np.float16).max:\n",
        "          df[col] = df[col].astype(np.float16)\n",
        "        elif c_min > np.finfo(np.float32).min and c_max < np.finfo(np.float32).max:\n",
        "          df[col] = df[col].astype(np.float32)\n",
        "        else:\n",
        "          df[col] = df[col].astype(np.float64)    \n",
        "  end_mem = df.memory_usage().sum() / 1024**2\n",
        "  if verbose: print('Mem. usage decreased to {:5.2f} Mb ({:.1f}% reduction)'.format(end_mem, 100 * (start_mem - end_mem) / start_mem))\n",
        "  return df"
      ],
      "execution_count": null,
      "outputs": []
    },
    {
      "cell_type": "code",
      "metadata": {
        "id": "8HSjAQf48YMP",
        "colab_type": "code",
        "colab": {},
        "outputId": "06b167eb-4788-4417-87da-84bb8c472a60"
      },
      "source": [
        "import time\n",
        "df = pd.read_pickle(PATH_AGG + 'default_m5.pkl')\n",
        "df = df[['id', 'd', 'sales']]\n",
        "\n",
        "# Lags\n",
        "# with 28 day shift\n",
        "start_time = time.time()\n",
        "print('Create lags')\n",
        "\n",
        "LAG_DAYS = [col for col in range(28,28+15)]\n",
        "df = df.assign(**{\n",
        "        '{}_lag_{}'.format(col, l): df.groupby(['id'])[col].transform(lambda x: x.shift(l))\n",
        "        for l in LAG_DAYS\n",
        "        for col in ['sales']\n",
        "    })\n",
        "\n",
        "# Minify lag columns\n",
        "for col in list(df):\n",
        "    if 'lag' in col:\n",
        "        df[col] = df[col].astype(np.float16)\n",
        "\n",
        "print('%0.2f min: Lags' % ((time.time() - start_time) / 60))\n",
        "\n",
        "# Rollings\n",
        "# with 28 day shift\n",
        "start_time = time.time()\n",
        "print('Create rolling aggs')\n",
        "\n",
        "for i in [7,14,30,60,180]:\n",
        "    print('Rolling period:', i)\n",
        "    df['rolling_mean_'+str(i)] = df.groupby(['id'])['sales'].transform(lambda x: x.shift(28).rolling(i).mean()).astype(np.float16)\n",
        "    df['rolling_std_'+str(i)]  = df.groupby(['id'])['sales'].transform(lambda x: x.shift(28).rolling(i).std()).astype(np.float16)\n",
        "\n",
        "# Rollings\n",
        "# with sliding shift\n",
        "for d_shift in [1,7,14]: \n",
        "    print('Shifting period:', d_shift)\n",
        "    for d_window in [7,14,30,60]:\n",
        "        col_name = 'rolling_mean_tmp_'+str(d_shift)+'_'+str(d_window)\n",
        "        df[col_name] = df.groupby(['id'])['sales'].transform(lambda x: x.shift(d_shift).rolling(d_window).mean()).astype(np.float16)\n",
        "    \n",
        "    \n",
        "print('%0.2f min: Lags' % ((time.time() - start_time) / 60))\n",
        "df = reduce_mem_usage(df, verbose=True)\n",
        "df.iloc[:, 3:].to_pickle('lags_m5.pkl')\n",
        "print('Saved')"
      ],
      "execution_count": null,
      "outputs": [
        {
          "output_type": "stream",
          "text": [
            "Create lags\n",
            "7.35 min: Lags\n",
            "Create rolling aggs\n",
            "Rolling period: 7\n",
            "Rolling period: 14\n",
            "Rolling period: 30\n",
            "Rolling period: 60\n",
            "Rolling period: 180\n",
            "Shifting period: 1\n",
            "Shifting period: 7\n",
            "Shifting period: 14\n",
            "17.53 min: Lags\n",
            "Mem. usage decreased to 3643.40 Mb (0.0% reduction)\n",
            "Saved\n"
          ],
          "name": "stdout"
        }
      ]
    }
  ]
}