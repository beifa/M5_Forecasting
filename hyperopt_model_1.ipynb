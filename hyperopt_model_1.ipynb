{
  "nbformat": 4,
  "nbformat_minor": 0,
  "metadata": {
    "kernelspec": {
      "display_name": "Python 3",
      "language": "python",
      "name": "python3"
    },
    "language_info": {
      "codemirror_mode": {
        "name": "ipython",
        "version": 3
      },
      "file_extension": ".py",
      "mimetype": "text/x-python",
      "name": "python",
      "nbconvert_exporter": "python",
      "pygments_lexer": "ipython3",
      "version": "3.7.6"
    },
    "colab": {
      "name": "hyperopt-model-1.ipynb",
      "provenance": [],
      "collapsed_sections": [],
      "include_colab_link": true
    }
  },
  "cells": [
    {
      "cell_type": "markdown",
      "metadata": {
        "id": "view-in-github",
        "colab_type": "text"
      },
      "source": [
        "<a href=\"https://colab.research.google.com/github/beifa/M5_Forecasting/blob/master/hyperopt_model_1.ipynb\" target=\"_parent\"><img src=\"https://colab.research.google.com/assets/colab-badge.svg\" alt=\"Open In Colab\"/></a>"
      ]
    },
    {
      "cell_type": "code",
      "metadata": {
        "id": "QNHVnLFqorMN",
        "colab_type": "code",
        "colab": {}
      },
      "source": [
        "import gc\n",
        "import pickle\n",
        "import random\n",
        "import numpy as np\n",
        "import pandas as pd\n",
        "import lightgbm as lgb\n",
        "\n",
        "PATH = '/kaggle/input/wmt-inc/'\n",
        "PATH_PLUS = '/kaggle/input/wmt-plus/'\n",
        "PATH_WEIGHT = '/kaggle/input/weight-wmt/' #d --> 1158 - 1914\n",
        "PATH_MODEL = ''\n",
        "\n",
        "PATH_D1 = ''\n",
        "PATH_D2 = ''\n",
        "PATH_D3 = ''\n",
        "PATH_D4 = ''\n",
        "\n",
        "\n",
        "SEED = 13\n",
        "random.seed(SEED)\n",
        "np.random.seed(SEED)\n",
        "   \n",
        "    \n",
        "    \n",
        "def read_data(store, start = 0):\n",
        "    \n",
        "    remove_features = ['id','state_id','store_id', 'd','sales'] \n",
        "    \n",
        "    encode_f = [\n",
        "        'enc_dept_id_mean',\n",
        "        'enc_item_id_mean',   \n",
        "        'enc_item_id_state_id_mean',      \n",
        "        'enc_item_id_store_id_mean'   \n",
        "        ]#best var, 0.47034\n",
        "\n",
        "    \n",
        "    ewm = [\n",
        "        'ewm_lags12_v2',\n",
        "        #'ewm_lags25_v2'\n",
        "          ]\n",
        "    \n",
        "    \n",
        "    df = pd.concat([\n",
        "                pd.read_pickle(PATH_D1),\n",
        "                pd.read_pickle(PATH_D1),\n",
        "                pd.read_pickle(PATH_D1)],\n",
        "                axis =1)\n",
        "    df= df[df.store_id == store]    \n",
        "    gc.collect()\n",
        "    \n",
        "    \n",
        "    lags = pd.read_pickle(PATH_D2)\n",
        "    lags = lags[lags.index.isin(df.index)]\n",
        "    df = pd.concat([df, lags], axis=1)\n",
        "    del lags\n",
        "    gc.collect()\n",
        "    \n",
        "\n",
        "    encode = pd.read_pickle(PATH_D3)[encode_f]\n",
        "    encode = encode[encode.index.isin(df.index)]\n",
        "    df = pd.concat([df, encode], axis=1)\n",
        "    del encode\n",
        "    gc.collect()  \n",
        "    \n",
        "    test = pd.read_pickle(PATH_D4)[ewm]\n",
        "    test = test[test.index.isin(df.index)]\n",
        "    df = pd.concat([df, test], axis=1)\n",
        "    del test\n",
        "    gc.collect()\n",
        "    \n",
        "    test = pd.read_pickle('../input/test-pred-wmt/predict_steps_ca.pkl')['pred_CA_1']\n",
        "    test = test[test.index.isin(df.index)]\n",
        "    df = pd.concat([df, test], axis=1)\n",
        "    del test\n",
        "    gc.collect()\n",
        "    \n",
        "    test = pd.read_pickle('../input/test-pred-wmt/predict_steps_wi.pkl')['pred_WI_1']\n",
        "    test = test[test.index.isin(df.index)]\n",
        "    df = pd.concat([df, test], axis=1)\n",
        "    del test\n",
        "    gc.collect()\n",
        "    \n",
        "    df['pred_mean_ca_wi'] = (df['pred_CA_1'] + df['pred_WI_1']) /2\n",
        "    df = df.drop(['pred_CA_1','pred_WI_1'], axis = 1)\n",
        "    \n",
        "    features = [col for col in list(df) if col not in remove_features]\n",
        "    df = df[['id','d','sales']+features]\n",
        "    \n",
        "    #skip row\n",
        "    df = df[df.d >= start].reset_index(drop=True)\n",
        "    return df, features"
      ],
      "execution_count": null,
      "outputs": []
    },
    {
      "cell_type": "code",
      "metadata": {
        "id": "TyoGYiBsorMQ",
        "colab_type": "code",
        "colab": {}
      },
      "source": [
        "from hyperopt import hp, fmin, tpe, STATUS_OK, Trials"
      ],
      "execution_count": null,
      "outputs": []
    },
    {
      "cell_type": "code",
      "metadata": {
        "id": "N8uaNeZyorMU",
        "colab_type": "code",
        "colab": {}
      },
      "source": [
        "store = 'CA_1'\n",
        "df, features = read_data(store, start = 0)\n",
        "tr_mask = df['d']<=1913\n",
        "train_data = lgb.Dataset(df[tr_mask][features], \n",
        "                            label=df[tr_mask]['sales'])"
      ],
      "execution_count": null,
      "outputs": []
    },
    {
      "cell_type": "code",
      "metadata": {
        "id": "2tg0xSiQorMW",
        "colab_type": "code",
        "colab": {}
      },
      "source": [
        "#index for folds\n",
        "start = [1745, 1801, 1829, 1857, 1885]\n",
        "split = []\n",
        "def iteratt(df, st):\n",
        "    tr_mask = df['d']<= st\n",
        "    va_mask = (df['d']>(st)) & (df['d']<= (st+28))\n",
        "    yield (df[tr_mask].index, df[va_mask].index)\n",
        "    \n",
        "for st in (start):    \n",
        "    for i in iteratt(df, st):\n",
        "        split.append(i)"
      ],
      "execution_count": null,
      "outputs": []
    },
    {
      "cell_type": "code",
      "metadata": {
        "id": "KzRqHDB4orMY",
        "colab_type": "code",
        "colab": {},
        "outputId": "c78b2df1-9e51-4c11-ddaa-8ed3a5417ab8"
      },
      "source": [
        "split"
      ],
      "execution_count": null,
      "outputs": [
        {
          "output_type": "execute_result",
          "data": {
            "text/plain": [
              "[(Int64Index([      0,       1,       2,       3,       4,       5,       6,\n",
              "                    7,       8,       9,\n",
              "              ...\n",
              "              4190911, 4190912, 4190913, 4190914, 4190915, 4190916, 4190917,\n",
              "              4190918, 4190919, 4190920],\n",
              "             dtype='int64', length=4190921),\n",
              "  Int64Index([4190921, 4190922, 4190923, 4190924, 4190925, 4190926, 4190927,\n",
              "              4190928, 4190929, 4190930,\n",
              "              ...\n",
              "              4276171, 4276172, 4276173, 4276174, 4276175, 4276176, 4276177,\n",
              "              4276178, 4276179, 4276180],\n",
              "             dtype='int64', length=85260)),\n",
              " (Int64Index([      0,       1,       2,       3,       4,       5,       6,\n",
              "                    7,       8,       9,\n",
              "              ...\n",
              "              4361449, 4361450, 4361451, 4361452, 4361453, 4361454, 4361455,\n",
              "              4361456, 4361457, 4361458],\n",
              "             dtype='int64', length=4361459),\n",
              "  Int64Index([4361459, 4361460, 4361461, 4361462, 4361463, 4361464, 4361465,\n",
              "              4361466, 4361467, 4361468,\n",
              "              ...\n",
              "              4446781, 4446782, 4446783, 4446784, 4446785, 4446786, 4446787,\n",
              "              4446788, 4446789, 4446790],\n",
              "             dtype='int64', length=85332)),\n",
              " (Int64Index([      0,       1,       2,       3,       4,       5,       6,\n",
              "                    7,       8,       9,\n",
              "              ...\n",
              "              4446781, 4446782, 4446783, 4446784, 4446785, 4446786, 4446787,\n",
              "              4446788, 4446789, 4446790],\n",
              "             dtype='int64', length=4446791),\n",
              "  Int64Index([4446791, 4446792, 4446793, 4446794, 4446795, 4446796, 4446797,\n",
              "              4446798, 4446799, 4446800,\n",
              "              ...\n",
              "              4532141, 4532142, 4532143, 4532144, 4532145, 4532146, 4532147,\n",
              "              4532148, 4532149, 4532150],\n",
              "             dtype='int64', length=85360)),\n",
              " (Int64Index([      0,       1,       2,       3,       4,       5,       6,\n",
              "                    7,       8,       9,\n",
              "              ...\n",
              "              4532141, 4532142, 4532143, 4532144, 4532145, 4532146, 4532147,\n",
              "              4532148, 4532149, 4532150],\n",
              "             dtype='int64', length=4532151),\n",
              "  Int64Index([4532151, 4532152, 4532153, 4532154, 4532155, 4532156, 4532157,\n",
              "              4532158, 4532159, 4532160,\n",
              "              ...\n",
              "              4617513, 4617514, 4617515, 4617516, 4617517, 4617518, 4617519,\n",
              "              4617520, 4617521, 4617522],\n",
              "             dtype='int64', length=85372)),\n",
              " (Int64Index([      0,       1,       2,       3,       4,       5,       6,\n",
              "                    7,       8,       9,\n",
              "              ...\n",
              "              4617513, 4617514, 4617515, 4617516, 4617517, 4617518, 4617519,\n",
              "              4617520, 4617521, 4617522],\n",
              "             dtype='int64', length=4617523),\n",
              "  Int64Index([4617523, 4617524, 4617525, 4617526, 4617527, 4617528, 4617529,\n",
              "              4617530, 4617531, 4617532,\n",
              "              ...\n",
              "              4702885, 4702886, 4702887, 4702888, 4702889, 4702890, 4702891,\n",
              "              4702892, 4702893, 4702894],\n",
              "             dtype='int64', length=85372))]"
            ]
          },
          "metadata": {
            "tags": []
          },
          "execution_count": 6
        }
      ]
    },
    {
      "cell_type": "code",
      "metadata": {
        "id": "2ZKUGtvoorMb",
        "colab_type": "code",
        "colab": {}
      },
      "source": [
        "def fin_param(data, num = 100, num_loop = 50, seed=13):\n",
        "    \"\"\"\n",
        "    bost: ary\n",
        "    ['gbdt', 'dart', 'goss']\n",
        "    num - num_boost_round in cv\n",
        "    num_loop - max_evals  \n",
        "    \"\"\"  \n",
        "    def objective(space):\n",
        "        print('Start......')\n",
        "        params = {\n",
        "            'objective': 'tweedie',\n",
        "            'boosting': 'gbdt',\n",
        "            'tweedie_variance_power': space['tweedie_variance_power'],\n",
        "            'metrics': 'rmse',\n",
        "            'learning_rate': 0.1,\n",
        "            'bagging_freq': 1,\n",
        "            'boost_from_average': False,\n",
        "            'seed': seed,\n",
        "            'num_leaves': int(space['num_leaves']),\n",
        "            #'learning_rate': space['learning_rate'],\n",
        "            'min_data_in_leaf': int(space['min_data_in_leaf']),\n",
        "            'bagging_fraction': 1, #space['bagging_fraction'],\n",
        "            'feature_fraction': 0.9, #space['feature_fraction'],\n",
        "            #'bagging_freq': int(space['bagging_freq']),         \n",
        "            'max_depth': -1, #int(space['max_depth']),\n",
        "            #'min_sum_hessian_in_leaf':  space['min_sum_hessian_in_leaf'],\n",
        "            #'lambda_l1': space['lambda_l1'],\n",
        "            #'lambda_l2': space['lambda_l2'],\n",
        "            #'min_gain_to_split': space['min_gain_to_split'],\n",
        "            #'max_bin': int(space['max_bin']),\n",
        "            #'cat_l2': space['cat_l2'],\n",
        "            #'cat_smooth': space['cat_smooth'] \n",
        "            'nthread': 4\n",
        "            }\n",
        "\n",
        "        print(params) #params['objective' / 'boosting']\n",
        "        seed_everything(SEED) \n",
        "        cv_results = lgb.cv(params,  data, num_boost_round = num, folds = split,\n",
        "                            stratified=False, verbose_eval = False, seed = seed)  \n",
        "\n",
        "        score = cv_results['rmse-mean'][-1]\n",
        "        print(f'Scores: {score}')\n",
        "        return {'loss': score, 'status':STATUS_OK}\n",
        "\n",
        "\n",
        "    space = {\n",
        "        'tweedie_variance_power': hp.quniform('tweedie_variance_power', 1, 1.9, 0.1),\n",
        "        #'learning_rate' : hp.loguniform('learning_rate', np.log(0.005), np.log(0.2)),\n",
        "        #'learning_rate' : hp.loguniform('learning_rate', np.log(0.1), np.log(0.5)),\n",
        "        'min_data_in_leaf': hp.choice('min_data_in_leaf',[200, 4095, 3049, 1000]),\n",
        "        #Я рекомендую использовать min_data_in_leaf, и вы можете установить его значение меньше, чем num_total_data / num_leaves.\n",
        "        'num_leaves': hp.choice('num_leaves',[2047, 100, 3000, 1000]),\n",
        "        #'num_leaves': hp.quniform('num_leaves', 20, 150, 1),\n",
        "        'bagging_fraction': hp.quniform('bagging_fraction', 0.7, 1, 0.1), \n",
        "        'feature_fraction': hp.quniform('feature_fraction', 0.7, 1, 0.1),\n",
        "        #Feature_fraction между (0,3 ~ 0,9), его лучшее значение зависит от вашего набора данных.\n",
        "        #'bagging_freq': hp.quniform('bagging_freq', 0, 5, 1),     \n",
        "        #'max_depth': hp.quniform('max_depth', -1, 63, 10),\n",
        "        #'min_sum_hessian_in_leaf':  hp.uniform('min_sum_hessian_in_leaf', 0.00001, 1),\n",
        "\n",
        "        \n",
        "        #если ваш набор данных большой, вы можете игнорировать lambda_l1, lambda_l2 и min_gain_to_split. \n",
        "        #Если набор данных маленький, вы можете попробовать сравнительно небольшие lambda_l1 и lambda_l2, например, 0,01 или 0,1.\n",
        "        #'min_gain_to_split': hp.quniform('min_gain_to_split', 0.1, 5, 0.01),\n",
        "        #'lambda_l1': hp.uniform('lambda_l1', 0.0, 1.0),\n",
        "        #'lambda_l2': hp.uniform('lambda_l2', 0.0, 1.0),\n",
        "        \n",
        "        #'max_bin': hp.quniform('max_bin', 32, 255, 25),\n",
        "        \n",
        "        #'cat_l2': hp.quniform('cat_l2', 1, 10, 1),\n",
        "        #'cat_smooth': hp.quniform('cat_smooth', 1, 10, 1)\n",
        "       \n",
        "        }\n",
        "\n",
        "    trials = Trials()\n",
        "    \n",
        "\n",
        "    best = fmin(fn=objective,\n",
        "                  space=space,\n",
        "                  algo=tpe.suggest,\n",
        "                  max_evals= num_loop,\n",
        "                  trials=trials)\n",
        "\n",
        "    print(best)\n",
        "    return best"
      ],
      "execution_count": null,
      "outputs": []
    },
    {
      "cell_type": "code",
      "metadata": {
        "id": "VqhtS85TorMe",
        "colab_type": "code",
        "colab": {},
        "outputId": "44fd2632-5cad-49f1-ed68-1bdf272a9a94"
      },
      "source": [
        "%%time\n",
        "out = fin_param(train_data, num = 100, num_loop = 10, seed = 13)"
      ],
      "execution_count": null,
      "outputs": [
        {
          "output_type": "stream",
          "text": [
            "Start......\n",
            "{'objective': 'tweedie', 'boosting': 'gbdt', 'tweedie_variance_power': 1.9000000000000001, 'metrics': 'rmse', 'learning_rate': 0.1, 'bagging_freq': 1, 'boost_from_average': False, 'seed': 13, 'num_leaves': 1000, 'min_data_in_leaf': 3049, 'bagging_fraction': 1, 'feature_fraction': 0.9, 'max_depth': -1, 'nthread': 4}\n",
            "Scores: 2.0292248891688534\n",
            "Start......\n",
            "{'objective': 'tweedie', 'boosting': 'gbdt', 'tweedie_variance_power': 1.8, 'metrics': 'rmse', 'learning_rate': 0.1, 'bagging_freq': 1, 'boost_from_average': False, 'seed': 13, 'num_leaves': 100, 'min_data_in_leaf': 200, 'bagging_fraction': 1, 'feature_fraction': 0.9, 'max_depth': -1, 'nthread': 4}\n",
            "Scores: 2.0512559626960196\n",
            "Start......\n",
            "{'objective': 'tweedie', 'boosting': 'gbdt', 'tweedie_variance_power': 1.4000000000000001, 'metrics': 'rmse', 'learning_rate': 0.1, 'bagging_freq': 1, 'boost_from_average': False, 'seed': 13, 'num_leaves': 1000, 'min_data_in_leaf': 200, 'bagging_fraction': 1, 'feature_fraction': 0.9, 'max_depth': -1, 'nthread': 4}\n",
            "Scores: 2.0125001714562467\n",
            "Start......\n",
            "{'objective': 'tweedie', 'boosting': 'gbdt', 'tweedie_variance_power': 1.3, 'metrics': 'rmse', 'learning_rate': 0.1, 'bagging_freq': 1, 'boost_from_average': False, 'seed': 13, 'num_leaves': 2047, 'min_data_in_leaf': 200, 'bagging_fraction': 1, 'feature_fraction': 0.9, 'max_depth': -1, 'nthread': 4}\n",
            "Scores: 2.0173593273811696\n",
            "Start......\n",
            "{'objective': 'tweedie', 'boosting': 'gbdt', 'tweedie_variance_power': 1.8, 'metrics': 'rmse', 'learning_rate': 0.1, 'bagging_freq': 1, 'boost_from_average': False, 'seed': 13, 'num_leaves': 2047, 'min_data_in_leaf': 1000, 'bagging_fraction': 1, 'feature_fraction': 0.9, 'max_depth': -1, 'nthread': 4}\n",
            "Scores: 2.017056311391636\n",
            "Start......\n",
            "{'objective': 'tweedie', 'boosting': 'gbdt', 'tweedie_variance_power': 1.1, 'metrics': 'rmse', 'learning_rate': 0.1, 'bagging_freq': 1, 'boost_from_average': False, 'seed': 13, 'num_leaves': 3000, 'min_data_in_leaf': 3049, 'bagging_fraction': 1, 'feature_fraction': 0.9, 'max_depth': -1, 'nthread': 4}\n",
            "Scores: 2.0171059627977797\n",
            "Start......\n",
            "{'objective': 'tweedie', 'boosting': 'gbdt', 'tweedie_variance_power': 1.2000000000000002, 'metrics': 'rmse', 'learning_rate': 0.1, 'bagging_freq': 1, 'boost_from_average': False, 'seed': 13, 'num_leaves': 1000, 'min_data_in_leaf': 3049, 'bagging_fraction': 1, 'feature_fraction': 0.9, 'max_depth': -1, 'nthread': 4}\n",
            "Scores: 2.0142412575698962\n",
            "Start......\n",
            "{'objective': 'tweedie', 'boosting': 'gbdt', 'tweedie_variance_power': 1.2000000000000002, 'metrics': 'rmse', 'learning_rate': 0.1, 'bagging_freq': 1, 'boost_from_average': False, 'seed': 13, 'num_leaves': 1000, 'min_data_in_leaf': 4095, 'bagging_fraction': 1, 'feature_fraction': 0.9, 'max_depth': -1, 'nthread': 4}\n",
            "Scores: 2.0184086955003737\n",
            "Start......\n",
            "{'objective': 'tweedie', 'boosting': 'gbdt', 'tweedie_variance_power': 1.8, 'metrics': 'rmse', 'learning_rate': 0.1, 'bagging_freq': 1, 'boost_from_average': False, 'seed': 13, 'num_leaves': 3000, 'min_data_in_leaf': 3049, 'bagging_fraction': 1, 'feature_fraction': 0.9, 'max_depth': -1, 'nthread': 4}\n",
            "Scores: 2.0215735316135266\n",
            "Start......\n",
            "{'objective': 'tweedie', 'boosting': 'gbdt', 'tweedie_variance_power': 1.6, 'metrics': 'rmse', 'learning_rate': 0.1, 'bagging_freq': 1, 'boost_from_average': False, 'seed': 13, 'num_leaves': 3000, 'min_data_in_leaf': 3049, 'bagging_fraction': 1, 'feature_fraction': 0.9, 'max_depth': -1, 'nthread': 4}\n",
            "Scores: 2.017665427211667\n",
            "100%|██████████| 10/10 [4:48:04<00:00, 1728.45s/trial, best loss: 2.0125001714562467]\n",
            "{'bagging_fraction': 0.7000000000000001, 'feature_fraction': 0.8, 'min_data_in_leaf': 0, 'num_leaves': 3, 'tweedie_variance_power': 1.4000000000000001}\n",
            "CPU times: user 18h 34min 46s, sys: 4min 36s, total: 18h 39min 22s\n",
            "Wall time: 4h 48min 4s\n"
          ],
          "name": "stdout"
        }
      ]
    },
    {
      "cell_type": "code",
      "metadata": {
        "id": "UhGvcjEzorMg",
        "colab_type": "code",
        "colab": {},
        "outputId": "0b53e8d9-23e0-40c7-832e-b99f363c74b0"
      },
      "source": [
        "out"
      ],
      "execution_count": null,
      "outputs": [
        {
          "output_type": "execute_result",
          "data": {
            "text/plain": [
              "{'bagging_fraction': 0.7000000000000001,\n",
              " 'feature_fraction': 0.8,\n",
              " 'min_data_in_leaf': 0,\n",
              " 'num_leaves': 3,\n",
              " 'tweedie_variance_power': 1.4000000000000001}"
            ]
          },
          "metadata": {
            "tags": []
          },
          "execution_count": 9
        }
      ]
    }
  ]
}