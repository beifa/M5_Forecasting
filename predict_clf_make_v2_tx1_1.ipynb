{
  "nbformat": 4,
  "nbformat_minor": 0,
  "metadata": {
    "kernelspec": {
      "display_name": "Python 3",
      "language": "python",
      "name": "python3"
    },
    "language_info": {
      "codemirror_mode": {
        "name": "ipython",
        "version": 3
      },
      "file_extension": ".py",
      "mimetype": "text/x-python",
      "name": "python",
      "nbconvert_exporter": "python",
      "pygments_lexer": "ipython3",
      "version": "3.7.6"
    },
    "colab": {
      "name": "predict-clf-make-v2-tx1-1.ipynb",
      "provenance": [],
      "collapsed_sections": [],
      "include_colab_link": true
    }
  },
  "cells": [
    {
      "cell_type": "markdown",
      "metadata": {
        "id": "view-in-github",
        "colab_type": "text"
      },
      "source": [
        "<a href=\"https://colab.research.google.com/github/beifa/M5_Forecasting/blob/master/predict_clf_make_v2_tx1_1.ipynb\" target=\"_parent\"><img src=\"https://colab.research.google.com/assets/colab-badge.svg\" alt=\"Open In Colab\"/></a>"
      ]
    },
    {
      "cell_type": "code",
      "metadata": {
        "_cell_guid": "79c7e3d0-c299-4dcb-8224-4455121ee9b0",
        "_uuid": "d629ff2d2480ee46fbb7e2d37f6b5fab8052498a",
        "id": "ZR8iLuUflOpS",
        "colab_type": "code",
        "colab": {}
      },
      "source": [
        "import gc\n",
        "import pickle\n",
        "import random\n",
        "import numpy as np\n",
        "import pandas as pd\n",
        "import lightgbm as lgb\n",
        "import psutil, warnings\n",
        "from multiprocessing import Pool\n",
        "PATH = '/kaggle/input/wmt-inc/'\n",
        "PATH_MODEL = '/kaggle/input/model-wmt-clf/'\n",
        "\n",
        "PATH_D1 = ''\n",
        "PATH_D2 = ''\n",
        "PATH_D3 = ''\n",
        "PATH_D4 = '/kaggle/input/make-lags-pca/'\n",
        "PATH_D5 = '/kaggle/input/make-trend-prob-sales/'\n",
        "PATH_D6 = '/kaggle/input/make-lags-pca/'\n",
        "features_saved = ''\n",
        "\n",
        "SEED = 13\n",
        "random.seed(SEED)\n",
        "np.random.seed(SEED)\n",
        "\n",
        "VER = 2000"
      ],
      "execution_count": null,
      "outputs": []
    },
    {
      "cell_type": "code",
      "metadata": {
        "id": "HoybgloilOpZ",
        "colab_type": "code",
        "colab": {}
      },
      "source": [
        "temp_df = pd.read_pickle(PATH_D1)\n",
        "temp_df['pred'] = np.nan\n",
        "\n",
        "\n",
        "def split_data(store, end = 0):\n",
        "    \n",
        "    remove_features = ['id','state_id','store_id', 'd','sales'] \n",
        "    \n",
        "    encode_f = [\n",
        "        'enc_dept_id_mean',\n",
        "        'enc_item_id_mean',   \n",
        "        'enc_item_id_state_id_mean',      \n",
        "        'enc_item_id_store_id_mean'   \n",
        "        ]#best var, 0.47034  \n",
        "\n",
        "    df = pd.concat([\n",
        "                pd.read_pickle(PATH_D1),\n",
        "                pd.read_pickle(PATH_D1),\n",
        "                pd.read_pickle(PATH_D1],\n",
        "                axis =1)\n",
        "    mask = (df.d >= end - 250) & (df.d < end)  \n",
        "    df = df[mask].reset_index(drop=True)\n",
        "    gc.collect()    \n",
        "    \n",
        "    lags = pd.read_pickle(PATH_D2)\n",
        "    lags = lags[lags.index.isin(df.index)]\n",
        "    df = pd.concat([df, lags], axis=1)\n",
        "    del lags\n",
        "    gc.collect()    \n",
        "\n",
        "    encode = pd.read_pickle(PATH_D3)[encode_f]\n",
        "    encode = encode[encode.index.isin(df.index)]\n",
        "    df = pd.concat([df, encode], axis=1)\n",
        "    del encode\n",
        "    gc.collect()  \n",
        "    \n",
        "    features = [col for col in list(df) if col not in remove_features]\n",
        "    df = df[['id','d','sales']+features]   \n",
        "\n",
        "    return df, features"
      ],
      "execution_count": null,
      "outputs": []
    },
    {
      "cell_type": "code",
      "metadata": {
        "id": "eBFbKuxjlOpe",
        "colab_type": "code",
        "colab": {},
        "outputId": "23a5a385-4b65-49b7-e147-05c2de66dcb7"
      },
      "source": [
        "for store in STORES_IDS:\n",
        "    print(store)       \n",
        "    model_name = 'lgb_model_'+store+'_v'+str(VER)+'.bin' \n",
        "    estimator = pickle.load(open(PATH_MODEL + model_name, 'rb')) \n",
        "    for step in range(250, 2000, 250):\n",
        "        print(step)\n",
        "        df, features = split_data('False', end = step)\n",
        "        mask = (temp_df.d >= step - 250) & (temp_df.d < step)  \n",
        "        temp_df.loc[mask, f'pred_{store}'] = estimator.predict(df[features_saved]) \n",
        "        del df\n",
        "        gc.collect()\n",
        "    del estimator\n",
        "    gc.collect()\n",
        "    print('end')"
      ],
      "execution_count": null,
      "outputs": [
        {
          "output_type": "stream",
          "text": [
            "TX_1\n",
            "250\n",
            "500\n",
            "750\n",
            "1000\n",
            "1250\n",
            "1500\n",
            "1750\n",
            "end\n"
          ],
          "name": "stdout"
        }
      ]
    },
    {
      "cell_type": "code",
      "metadata": {
        "id": "jufQRnUDlOph",
        "colab_type": "code",
        "colab": {}
      },
      "source": [
        "temp_df.to_pickle('predict_steps_tx.pkl')"
      ],
      "execution_count": null,
      "outputs": []
    }
  ]
}