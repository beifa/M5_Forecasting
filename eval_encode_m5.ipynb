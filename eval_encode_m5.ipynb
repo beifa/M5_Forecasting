{
  "nbformat": 4,
  "nbformat_minor": 0,
  "metadata": {
    "kernelspec": {
      "display_name": "Python 3",
      "language": "python",
      "name": "python3"
    },
    "language_info": {
      "codemirror_mode": {
        "name": "ipython",
        "version": 3
      },
      "file_extension": ".py",
      "mimetype": "text/x-python",
      "name": "python",
      "nbconvert_exporter": "python",
      "pygments_lexer": "ipython3",
      "version": "3.7.6"
    },
    "colab": {
      "name": "eval-encode-m5.ipynb",
      "provenance": [],
      "collapsed_sections": [],
      "include_colab_link": true
    }
  },
  "cells": [
    {
      "cell_type": "markdown",
      "metadata": {
        "id": "view-in-github",
        "colab_type": "text"
      },
      "source": [
        "<a href=\"https://colab.research.google.com/github/beifa/M5_Forecasting/blob/master/eval_encode_m5.ipynb\" target=\"_parent\"><img src=\"https://colab.research.google.com/assets/colab-badge.svg\" alt=\"Open In Colab\"/></a>"
      ]
    },
    {
      "cell_type": "code",
      "metadata": {
        "_cell_guid": "79c7e3d0-c299-4dcb-8224-4455121ee9b0",
        "_uuid": "d629ff2d2480ee46fbb7e2d37f6b5fab8052498a",
        "id": "wr39VnCE8KNJ",
        "colab_type": "code",
        "colab": {}
      },
      "source": [
        "import gc\n",
        "import numpy as np\n",
        "import pandas as pd\n",
        "\n",
        "PATH =  '/kaggle/input/m5-forecasting-accuracy/'\n",
        "PATH_AGG = '/kaggle/input/eval-default-data-m5/'"
      ],
      "execution_count": null,
      "outputs": []
    },
    {
      "cell_type": "code",
      "metadata": {
        "id": "3khWnoFQ8KNL",
        "colab_type": "code",
        "colab": {}
      },
      "source": [
        "#default reduce mem\n",
        "def reduce_mem_usage(df, verbose=True):\n",
        "  numerics = ['int16', 'int32', 'int64', 'float16', 'float32', 'float64']\n",
        "  start_mem = df.memory_usage().sum() / 1024**2    \n",
        "  for col in df.columns: \n",
        "    col_type = df[col].dtypes\n",
        "    if col_type in numerics: \n",
        "      c_min = df[col].min()\n",
        "      c_max = df[col].max()\n",
        "      if str(col_type)[:3] == 'int':\n",
        "        if c_min > np.iinfo(np.int8).min and c_max < np.iinfo(np.int8).max:\n",
        "          df[col] = df[col].astype(np.int8)\n",
        "        elif c_min > np.iinfo(np.int16).min and c_max < np.iinfo(np.int16).max:\n",
        "          df[col] = df[col].astype(np.int16)\n",
        "        elif c_min > np.iinfo(np.int32).min and c_max < np.iinfo(np.int32).max:\n",
        "          df[col] = df[col].astype(np.int32)\n",
        "        elif c_min > np.iinfo(np.int64).min and c_max < np.iinfo(np.int64).max:\n",
        "          df[col] = df[col].astype(np.int64)  \n",
        "      else:\n",
        "        if c_min > np.finfo(np.float16).min and c_max < np.finfo(np.float16).max:\n",
        "          df[col] = df[col].astype(np.float16)\n",
        "        elif c_min > np.finfo(np.float32).min and c_max < np.finfo(np.float32).max:\n",
        "          df[col] = df[col].astype(np.float32)\n",
        "        else:\n",
        "          df[col] = df[col].astype(np.float64)    \n",
        "  end_mem = df.memory_usage().sum() / 1024**2\n",
        "  if verbose: print('Mem. usage decreased to {:5.2f} Mb ({:.1f}% reduction)'.format(end_mem, 100 * (start_mem - end_mem) / start_mem))\n",
        "  return df"
      ],
      "execution_count": null,
      "outputs": []
    },
    {
      "cell_type": "code",
      "metadata": {
        "id": "h5hk2VTm8KNO",
        "colab_type": "code",
        "colab": {},
        "outputId": "8d802009-b30e-4b8a-d419-b32ecd076571"
      },
      "source": [
        "df = pd.read_pickle(PATH_AGG + 'default_m5.pkl')\n",
        "\n",
        "\"\"\"\n",
        "from kernel, not overfit\n",
        "\n",
        "\"\"\"\n",
        "ends_perid = df.d.max()\n",
        "print(ends_perid)\n",
        "df['sales'][df['d']>(ends_perid-28)] = np.nan\n",
        "\n",
        "icols =  [\n",
        "            ['state_id'],\n",
        "            ['store_id'],\n",
        "            ['cat_id'],\n",
        "            ['dept_id'],\n",
        "            ['state_id', 'cat_id'],\n",
        "            ['state_id', 'dept_id'],\n",
        "            ['store_id', 'cat_id'],\n",
        "            ['store_id', 'dept_id'],\n",
        "            ['item_id'],\n",
        "            ['item_id', 'state_id'],\n",
        "            ['item_id', 'store_id']\n",
        "            ]\n",
        "\n",
        "for col in icols:\n",
        "    print('Encoding', col)\n",
        "    col_name = '_'+'_'.join(col)+'_'\n",
        "    df['enc'+col_name+'mean'] = df.groupby(col)['sales'].transform('mean').astype(np.float16)\n",
        "    df['enc'+col_name+'std'] = df.groupby(col)['sales'].transform('std').astype(np.float16)\n",
        "\n",
        "col = [i for i in df.columns if i.startswith('enc')]\n",
        "df = df[col]\n",
        "df.to_pickle('encod_m5.pkl')\n",
        "print('Saved')"
      ],
      "execution_count": null,
      "outputs": [
        {
          "output_type": "stream",
          "text": [
            "1969\n"
          ],
          "name": "stdout"
        },
        {
          "output_type": "stream",
          "text": [
            "/opt/conda/lib/python3.7/site-packages/ipykernel_launcher.py:9: SettingWithCopyWarning: \n",
            "A value is trying to be set on a copy of a slice from a DataFrame\n",
            "\n",
            "See the caveats in the documentation: https://pandas.pydata.org/pandas-docs/stable/user_guide/indexing.html#returning-a-view-versus-a-copy\n",
            "  if __name__ == '__main__':\n"
          ],
          "name": "stderr"
        },
        {
          "output_type": "stream",
          "text": [
            "Encoding ['state_id']\n",
            "Encoding ['store_id']\n",
            "Encoding ['cat_id']\n",
            "Encoding ['dept_id']\n",
            "Encoding ['state_id', 'cat_id']\n",
            "Encoding ['state_id', 'dept_id']\n",
            "Encoding ['store_id', 'cat_id']\n",
            "Encoding ['store_id', 'dept_id']\n",
            "Encoding ['item_id']\n",
            "Encoding ['item_id', 'state_id']\n",
            "Encoding ['item_id', 'store_id']\n",
            "Saved\n"
          ],
          "name": "stdout"
        }
      ]
    }
  ]
}