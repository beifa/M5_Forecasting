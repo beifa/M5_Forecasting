{
  "nbformat": 4,
  "nbformat_minor": 0,
  "metadata": {
    "kernelspec": {
      "display_name": "Python 3",
      "language": "python",
      "name": "python3"
    },
    "language_info": {
      "codemirror_mode": {
        "name": "ipython",
        "version": 3
      },
      "file_extension": ".py",
      "mimetype": "text/x-python",
      "name": "python",
      "nbconvert_exporter": "python",
      "pygments_lexer": "ipython3",
      "version": "3.7.6"
    },
    "colab": {
      "name": "eval-default-m5.ipynb",
      "provenance": [],
      "collapsed_sections": [
        "kiTozNf3kirj"
      ],
      "include_colab_link": true
    }
  },
  "cells": [
    {
      "cell_type": "markdown",
      "metadata": {
        "id": "view-in-github",
        "colab_type": "text"
      },
      "source": [
        "<a href=\"https://colab.research.google.com/github/beifa/M5_Forecasting/blob/master/eval_default_m5.ipynb\" target=\"_parent\"><img src=\"https://colab.research.google.com/assets/colab-badge.svg\" alt=\"Open In Colab\"/></a>"
      ]
    },
    {
      "cell_type": "code",
      "metadata": {
        "_cell_guid": "79c7e3d0-c299-4dcb-8224-4455121ee9b0",
        "_uuid": "d629ff2d2480ee46fbb7e2d37f6b5fab8052498a",
        "id": "bf2p3Yyt1tHU",
        "colab_type": "code",
        "colab": {},
        "outputId": "a71dce39-042c-4c37-d846-11b9d5991c18"
      },
      "source": [
        "import pandas as pd\n",
        "import numpy as np\n",
        "import gc\n",
        "\n",
        "PATH = '/kaggle/input/m5-forecasting-accuracy/'\n",
        "\n",
        "TIME = 'evaluation'\n",
        "\n",
        "if TIME == 'evaluation':\n",
        "    file = 'sales_train_evaluation.csv'\n",
        "    print('Need to changed other data................................')\n",
        "else:\n",
        "    file = 'sales_train_validation.csv'   \n",
        "    \n",
        "print(TIME, ' ', file)   "
      ],
      "execution_count": null,
      "outputs": [
        {
          "output_type": "stream",
          "text": [
            "Need to changed other data................................\n",
            "evaluation   sales_train_evaluation.csv\n"
          ],
          "name": "stdout"
        }
      ]
    },
    {
      "cell_type": "code",
      "metadata": {
        "id": "ZFfbKwzs1tHX",
        "colab_type": "code",
        "colab": {}
      },
      "source": [
        "#default reduce mem\n",
        "def reduce_mem_usage(df, verbose=True):\n",
        "  numerics = ['int16', 'int32', 'int64', 'float16', 'float32', 'float64']\n",
        "  start_mem = df.memory_usage().sum() / 1024**2    \n",
        "  for col in df.columns: \n",
        "    col_type = df[col].dtypes\n",
        "    if col_type in numerics: \n",
        "      c_min = df[col].min()\n",
        "      c_max = df[col].max()\n",
        "      if str(col_type)[:3] == 'int':\n",
        "        if c_min > np.iinfo(np.int8).min and c_max < np.iinfo(np.int8).max:\n",
        "          df[col] = df[col].astype(np.int8)\n",
        "        elif c_min > np.iinfo(np.int16).min and c_max < np.iinfo(np.int16).max:\n",
        "          df[col] = df[col].astype(np.int16)\n",
        "        elif c_min > np.iinfo(np.int32).min and c_max < np.iinfo(np.int32).max:\n",
        "          df[col] = df[col].astype(np.int32)\n",
        "        elif c_min > np.iinfo(np.int64).min and c_max < np.iinfo(np.int64).max:\n",
        "          df[col] = df[col].astype(np.int64)  \n",
        "      else:\n",
        "        if c_min > np.finfo(np.float16).min and c_max < np.finfo(np.float16).max:\n",
        "          df[col] = df[col].astype(np.float16)\n",
        "        elif c_min > np.finfo(np.float32).min and c_max < np.finfo(np.float32).max:\n",
        "          df[col] = df[col].astype(np.float32)\n",
        "        else:\n",
        "          df[col] = df[col].astype(np.float64)    \n",
        "  end_mem = df.memory_usage().sum() / 1024**2\n",
        "  if verbose: print('Mem. usage decreased to {:5.2f} Mb ({:.1f}% reduction)'.format(end_mem, 100 * (start_mem - end_mem) / start_mem))\n",
        "  return df"
      ],
      "execution_count": null,
      "outputs": []
    },
    {
      "cell_type": "code",
      "metadata": {
        "id": "eDHQpA671tHa",
        "colab_type": "code",
        "colab": {},
        "outputId": "9feab6e8-4ecd-4d17-80dc-087671972177"
      },
      "source": [
        "train_df = reduce_mem_usage(pd.read_csv(PATH + file))\n",
        "calendar_df = reduce_mem_usage(pd.read_csv(PATH + 'calendar.csv'))\n",
        "price_df = reduce_mem_usage(pd.read_csv(PATH + 'sell_prices.csv'))"
      ],
      "execution_count": null,
      "outputs": [
        {
          "output_type": "stream",
          "text": [
            "Mem. usage decreased to 96.13 Mb (78.8% reduction)\n",
            "Mem. usage decreased to  0.12 Mb (41.9% reduction)\n",
            "Mem. usage decreased to 130.48 Mb (37.5% reduction)\n"
          ],
          "name": "stdout"
        }
      ]
    },
    {
      "cell_type": "code",
      "metadata": {
        "id": "27eqZbDV1tHc",
        "colab_type": "code",
        "colab": {},
        "outputId": "e30875fa-b9f2-450f-f17f-c8a48b5d44eb"
      },
      "source": [
        "end_period = train_df.iloc[0, 6:].shape[0]\n",
        "print(end_period)"
      ],
      "execution_count": null,
      "outputs": [
        {
          "output_type": "stream",
          "text": [
            "1941\n"
          ],
          "name": "stdout"
        }
      ]
    },
    {
      "cell_type": "code",
      "metadata": {
        "id": "s5K3UNMK1tHf",
        "colab_type": "code",
        "colab": {},
        "outputId": "bf993dd0-98ae-4d88-f94e-abd26ea68acf"
      },
      "source": [
        "col = ['id', 'item_id', 'dept_id', 'cat_id', 'store_id', 'state_id']\n",
        "df =  pd.melt(train_df, id_vars=col, var_name='d', value_name='sales')\n",
        "\n",
        "#make test\n",
        "test_df = pd.DataFrame()\n",
        "for i in range(end_period+1,end_period+29):\n",
        "    temp = train_df[col]\n",
        "    temp = temp.drop_duplicates()\n",
        "    temp['d'] = f'd_{i}'\n",
        "    temp['sales'] = np.nan\n",
        "    test_df = pd.concat([test_df,temp])\n",
        "    \n",
        "df = pd.concat([df, test_df])\n",
        "df = df.reset_index(drop=True)\n",
        "\n",
        "del temp,test_df, train_df\n",
        "gc.collect()\n",
        "\n",
        "for i in col:\n",
        "    df[i] =  df[i].astype('category')\n",
        "    \n",
        "#release day, drop 0 from data\n",
        "release = price_df.groupby(['store_id','item_id'])['wm_yr_wk'].agg(['min']).reset_index()\n",
        "release.columns = ['store_id', 'item_id', 'release']\n",
        "df = df.merge(release, on = ['store_id', 'item_id'], how = 'left')\n",
        "df = df.merge(calendar_df[['wm_yr_wk', 'd']], on = ['d'], how = 'left')\n",
        "df = df[df.wm_yr_wk >= df.release]\n",
        "df = df.reset_index(drop=True)\n",
        "df['release'] = df.release - df.release.min()\n",
        "#after need convert to cat\n",
        "df = reduce_mem_usage(df, verbose=True)"
      ],
      "execution_count": null,
      "outputs": [
        {
          "output_type": "stream",
          "text": [
            "Mem. usage decreased to 1594.82 Mb (14.6% reduction)\n"
          ],
          "name": "stdout"
        }
      ]
    },
    {
      "cell_type": "code",
      "metadata": {
        "id": "s1BRtA-r1tHh",
        "colab_type": "code",
        "colab": {},
        "outputId": "5da3177d-9bae-46cf-e0af-7a5c16486eaa"
      },
      "source": [
        "df['item_id'] = df['item_id'].astype('category')\n",
        "df['store_id'] = df['store_id'].astype('category')\n",
        "df.to_pickle('default_m5.pkl')\n",
        "print('Saved')"
      ],
      "execution_count": null,
      "outputs": [
        {
          "output_type": "stream",
          "text": [
            "Saved\n"
          ],
          "name": "stdout"
        }
      ]
    },
    {
      "cell_type": "code",
      "metadata": {
        "id": "ir9d54aT1tHk",
        "colab_type": "code",
        "colab": {},
        "outputId": "ce8ce188-141a-4a01-ca9d-fcb9b5e127d5"
      },
      "source": [
        "df.info()"
      ],
      "execution_count": null,
      "outputs": [
        {
          "output_type": "stream",
          "text": [
            "<class 'pandas.core.frame.DataFrame'>\n",
            "RangeIndex: 47735397 entries, 0 to 47735396\n",
            "Data columns (total 10 columns):\n",
            " #   Column    Dtype   \n",
            "---  ------    -----   \n",
            " 0   id        category\n",
            " 1   item_id   category\n",
            " 2   dept_id   category\n",
            " 3   cat_id    category\n",
            " 4   store_id  category\n",
            " 5   state_id  category\n",
            " 6   d         object  \n",
            " 7   sales     float16 \n",
            " 8   release   int16   \n",
            " 9   wm_yr_wk  int16   \n",
            "dtypes: category(6), float16(1), int16(2), object(1)\n",
            "memory usage: 1003.1+ MB\n"
          ],
          "name": "stdout"
        }
      ]
    },
    {
      "cell_type": "code",
      "metadata": {
        "id": "drrqX4G11tHm",
        "colab_type": "code",
        "colab": {}
      },
      "source": [
        "default_col = list(df)"
      ],
      "execution_count": null,
      "outputs": []
    },
    {
      "cell_type": "code",
      "metadata": {
        "id": "g-L8phuT1tHp",
        "colab_type": "code",
        "colab": {}
      },
      "source": [
        "price_df['price_max'] = price_df.groupby(['store_id','item_id'])['sell_price'].transform('max')\n",
        "price_df['price_min'] = price_df.groupby(['store_id','item_id'])['sell_price'].transform('min')\n",
        "price_df['price_std'] = price_df.groupby(['store_id','item_id'])['sell_price'].transform('std')\n",
        "price_df['price_mean'] = price_df.groupby(['store_id','item_id'])['sell_price'].transform('mean')\n",
        "price_df['count_price_un'] = price_df.groupby(['store_id','item_id'])['sell_price'].transform('nunique')\n",
        "price_df['count_item_un'] =price_df.groupby(['store_id','sell_price'])['item_id'].transform('nunique')\n",
        "##Normalized Data, normalized = (x-min(x))/(max(x)-min(x))\n",
        "price_df['norm'] = (price_df.sell_price - price_df.price_min)/(price_df.price_max - price_df.price_min) \n",
        "# price_df['diff_sellprice&max'] = price_df['price_max'] - price_df['sell_price']\n",
        "# price_df['sem_rank'] = price_df.groupby(['store_id','item_id'])['sell_price'].transform('sem').rank(pct=True)\n",
        "calendar_p = calendar_df[['wm_yr_wk','month','year']].drop_duplicates(subset= 'wm_yr_wk')\n",
        "price_df = price_df.merge(calendar_p[['wm_yr_wk','month','year']], on=['wm_yr_wk'], how='left')\n",
        "del calendar_p\n",
        "\n",
        "price_df['price_momentum'] = price_df['sell_price']/price_df.groupby(['store_id','item_id'])['sell_price'].transform(lambda x: x.shift(1))\n",
        "price_df['price_momentum_w'] = price_df['sell_price']/price_df.groupby(['store_id','item_id'])['sell_price'].transform(lambda x: x.shift(7))\n",
        "price_df['price_momentum_m'] = price_df['sell_price']/price_df.groupby(['store_id','item_id','month'])['sell_price'].transform('mean')\n",
        "price_df['price_momentum_y'] = price_df['sell_price']/price_df.groupby(['store_id','item_id','year'])['sell_price'].transform('mean')\n",
        "del price_df['month'], price_df['year']\n",
        "df = df.merge(price_df, on=['store_id','item_id','wm_yr_wk'], how='left')"
      ],
      "execution_count": null,
      "outputs": []
    },
    {
      "cell_type": "code",
      "metadata": {
        "collapsed": true,
        "id": "nAaaffSS1tHs",
        "colab_type": "code",
        "colab": {},
        "outputId": "38612eb6-a903-49d0-f5b7-4693e5df8de9"
      },
      "source": [
        "col = [i  for i in df.columns if i not in default_col]\n",
        "df = reduce_mem_usage(df[col], verbose=True)\n",
        "df.to_pickle('agg_prices.pkl')\n",
        "print('Saved')"
      ],
      "execution_count": null,
      "outputs": [
        {
          "output_type": "stream",
          "text": [
            "/opt/conda/lib/python3.7/site-packages/ipykernel_launcher.py:21: SettingWithCopyWarning: \n",
            "A value is trying to be set on a copy of a slice from a DataFrame.\n",
            "Try using .loc[row_indexer,col_indexer] = value instead\n",
            "\n",
            "See the caveats in the documentation: https://pandas.pydata.org/pandas-docs/stable/user_guide/indexing.html#returning-a-view-versus-a-copy\n",
            "/opt/conda/lib/python3.7/site-packages/ipykernel_launcher.py:21: SettingWithCopyWarning: \n",
            "A value is trying to be set on a copy of a slice from a DataFrame.\n",
            "Try using .loc[row_indexer,col_indexer] = value instead\n",
            "\n",
            "See the caveats in the documentation: https://pandas.pydata.org/pandas-docs/stable/user_guide/indexing.html#returning-a-view-versus-a-copy\n",
            "/opt/conda/lib/python3.7/site-packages/ipykernel_launcher.py:21: SettingWithCopyWarning: \n",
            "A value is trying to be set on a copy of a slice from a DataFrame.\n",
            "Try using .loc[row_indexer,col_indexer] = value instead\n",
            "\n",
            "See the caveats in the documentation: https://pandas.pydata.org/pandas-docs/stable/user_guide/indexing.html#returning-a-view-versus-a-copy\n",
            "/opt/conda/lib/python3.7/site-packages/ipykernel_launcher.py:21: SettingWithCopyWarning: \n",
            "A value is trying to be set on a copy of a slice from a DataFrame.\n",
            "Try using .loc[row_indexer,col_indexer] = value instead\n",
            "\n",
            "See the caveats in the documentation: https://pandas.pydata.org/pandas-docs/stable/user_guide/indexing.html#returning-a-view-versus-a-copy\n",
            "/opt/conda/lib/python3.7/site-packages/ipykernel_launcher.py:21: SettingWithCopyWarning: \n",
            "A value is trying to be set on a copy of a slice from a DataFrame.\n",
            "Try using .loc[row_indexer,col_indexer] = value instead\n",
            "\n",
            "See the caveats in the documentation: https://pandas.pydata.org/pandas-docs/stable/user_guide/indexing.html#returning-a-view-versus-a-copy\n",
            "/opt/conda/lib/python3.7/site-packages/ipykernel_launcher.py:21: SettingWithCopyWarning: \n",
            "A value is trying to be set on a copy of a slice from a DataFrame.\n",
            "Try using .loc[row_indexer,col_indexer] = value instead\n",
            "\n",
            "See the caveats in the documentation: https://pandas.pydata.org/pandas-docs/stable/user_guide/indexing.html#returning-a-view-versus-a-copy\n",
            "/opt/conda/lib/python3.7/site-packages/ipykernel_launcher.py:14: SettingWithCopyWarning: \n",
            "A value is trying to be set on a copy of a slice from a DataFrame.\n",
            "Try using .loc[row_indexer,col_indexer] = value instead\n",
            "\n",
            "See the caveats in the documentation: https://pandas.pydata.org/pandas-docs/stable/user_guide/indexing.html#returning-a-view-versus-a-copy\n",
            "  \n",
            "/opt/conda/lib/python3.7/site-packages/ipykernel_launcher.py:21: SettingWithCopyWarning: \n",
            "A value is trying to be set on a copy of a slice from a DataFrame.\n",
            "Try using .loc[row_indexer,col_indexer] = value instead\n",
            "\n",
            "See the caveats in the documentation: https://pandas.pydata.org/pandas-docs/stable/user_guide/indexing.html#returning-a-view-versus-a-copy\n",
            "/opt/conda/lib/python3.7/site-packages/ipykernel_launcher.py:21: SettingWithCopyWarning: \n",
            "A value is trying to be set on a copy of a slice from a DataFrame.\n",
            "Try using .loc[row_indexer,col_indexer] = value instead\n",
            "\n",
            "See the caveats in the documentation: https://pandas.pydata.org/pandas-docs/stable/user_guide/indexing.html#returning-a-view-versus-a-copy\n",
            "/opt/conda/lib/python3.7/site-packages/ipykernel_launcher.py:21: SettingWithCopyWarning: \n",
            "A value is trying to be set on a copy of a slice from a DataFrame.\n",
            "Try using .loc[row_indexer,col_indexer] = value instead\n",
            "\n",
            "See the caveats in the documentation: https://pandas.pydata.org/pandas-docs/stable/user_guide/indexing.html#returning-a-view-versus-a-copy\n",
            "/opt/conda/lib/python3.7/site-packages/ipykernel_launcher.py:21: SettingWithCopyWarning: \n",
            "A value is trying to be set on a copy of a slice from a DataFrame.\n",
            "Try using .loc[row_indexer,col_indexer] = value instead\n",
            "\n",
            "See the caveats in the documentation: https://pandas.pydata.org/pandas-docs/stable/user_guide/indexing.html#returning-a-view-versus-a-copy\n",
            "/opt/conda/lib/python3.7/site-packages/ipykernel_launcher.py:21: SettingWithCopyWarning: \n",
            "A value is trying to be set on a copy of a slice from a DataFrame.\n",
            "Try using .loc[row_indexer,col_indexer] = value instead\n",
            "\n",
            "See the caveats in the documentation: https://pandas.pydata.org/pandas-docs/stable/user_guide/indexing.html#returning-a-view-versus-a-copy\n"
          ],
          "name": "stderr"
        },
        {
          "output_type": "stream",
          "text": [
            "Mem. usage decreased to 1456.77 Mb (15.8% reduction)\n",
            "Saved\n"
          ],
          "name": "stdout"
        }
      ]
    },
    {
      "cell_type": "code",
      "metadata": {
        "id": "usB_RRDT1tHu",
        "colab_type": "code",
        "colab": {},
        "outputId": "e58d19dc-c9d5-4c24-f9a7-a3a123bf5bc2"
      },
      "source": [
        "del df\n",
        "gc.collect()"
      ],
      "execution_count": null,
      "outputs": [
        {
          "output_type": "execute_result",
          "data": {
            "text/plain": [
              "40"
            ]
          },
          "metadata": {
            "tags": []
          },
          "execution_count": 12
        }
      ]
    },
    {
      "cell_type": "markdown",
      "metadata": {
        "id": "iuipAEGJaLFb",
        "colab_type": "text"
      },
      "source": [
        "\n",
        "dif event by calendar\n",
        "\n",
        "{'Eid al-Fitr', \"Father's day\", 'IndependenceDay'}"
      ]
    },
    {
      "cell_type": "code",
      "metadata": {
        "id": "BXqp5Og-bJi1",
        "colab_type": "code",
        "colab": {}
      },
      "source": [
        "# event_name = ['NewYear', 'OrthodoxChristmas', 'MartinLutherKingDay',\n",
        "#        'SuperBowl', 'ValentinesDay', 'PresidentsDay', 'LentStart',\n",
        "#        'LentWeek2', 'Purim End', 'StPatricksDay', 'Easter', 'Pesach End',\n",
        "#        'OrthodoxEaster', 'Cinco De Mayo', \"Mother's day\", 'MemorialDay',\n",
        "#        'NBAFinalsStart', 'NBAFinalsEnd', 'Ramadan starts', \"Father's day\",\n",
        "#        'IndependenceDay', 'Eid al-Fitr']"
      ],
      "execution_count": null,
      "outputs": []
    },
    {
      "cell_type": "code",
      "metadata": {
        "id": "_peHqjgzlBJo",
        "colab_type": "code",
        "colab": {}
      },
      "source": [
        "def between_dates(data, calendar):\n",
        "  \"\"\"\n",
        "  default interval = +/-7 days\n",
        "  -7days, event_name date + 7days  \n",
        "\n",
        "  \"\"\"\n",
        "  event_name = ['NewYear', 'OrthodoxChristmas', 'MartinLutherKingDay',\n",
        "       'SuperBowl', 'ValentinesDay', 'PresidentsDay', 'LentStart',\n",
        "       'LentWeek2', 'Purim End', 'StPatricksDay', 'Easter', 'Pesach End',\n",
        "       'OrthodoxEaster', 'Cinco De Mayo', \"Mother's day\", 'MemorialDay',\n",
        "       'NBAFinalsStart', 'NBAFinalsEnd', 'Ramadan starts', \"Father's day\",\n",
        "       'IndependenceDay', 'Eid al-Fitr']\n",
        "\n",
        "  #zeros values not data\n",
        "  drop_event = [\n",
        "                'Cinco De Mayo_2016-05-05',\n",
        "                'Mother\\'s day_2016-05-08',\n",
        "                'MemorialDay_2016-05-30',\n",
        "                'NBAFinalsStart_2016-06-02',\n",
        "                'NBAFinalsEnd_2016-06-19',\n",
        "                'Ramadan starts_2016-06-07'\n",
        "                ]\n",
        "\n",
        "  for  ev in event_name:\n",
        "    event_date = calendar[calendar.date >= '2015'][calendar.event_name_1 == ev].date\n",
        "    for d in event_date.values:   \n",
        "      start = str(pd.Timestamp(d) - pd.to_timedelta(7, unit='d')).split(' ')[0]\n",
        "      end = str(pd.Timestamp(d) + pd.to_timedelta(7, unit='d')).split(' ')[0]\n",
        "      out = data[data.date.between(start, end)].groupby('id')['sales'].mean()\n",
        "      out.name = ev + '_' + d\n",
        "      data = data.merge(out, how= 'left', on= 'id')\n",
        "\n",
        "  print('Correct....')\n",
        "\n",
        "  data.drop(drop_event, axis = 1, inplace = True)\n",
        "  data = reduce_mem_usage(data, verbose=True)\n",
        "  del calendar\n",
        "  gc.collect()\n",
        "  return data\n",
        "\n",
        "data = between_dates(data, calendar_df)\n",
        "data.to_pickle('diff_event_calendar.pkl')\n",
        "print('Saved')"
      ],
      "execution_count": null,
      "outputs": []
    },
    {
      "cell_type": "code",
      "metadata": {
        "id": "w7SSNgGW1tHw",
        "colab_type": "code",
        "colab": {},
        "outputId": "75c419f0-4b03-460e-af00-54e8d1653c95"
      },
      "source": [
        "df = pd.read_pickle('default_m5.pkl')\n",
        "\n",
        "df = df[['id', 'd']]\n",
        "col = [\n",
        "    'date',\n",
        "    'd',\n",
        "    'event_name_1',\n",
        "    'event_type_1',\n",
        "    # 'event_name_2',\n",
        "    # 'event_type_2',\n",
        "    'snap_CA',\n",
        "    'snap_TX',\n",
        "    'snap_WI'\n",
        "    ]\n",
        "\n",
        "df = df.merge(calendar_df[col], on = 'd', how = 'left')\n",
        "for c in col:\n",
        "    df[c] = df[c].astype('category')\n",
        "\n",
        "\n",
        "# Convert to DateTime\n",
        "df['date'] = pd.to_datetime(df['date'])\n",
        "\n",
        "def time_features(df):\n",
        "    df.date = pd.to_datetime(df.date)\n",
        "    attr = ['day',            \n",
        "          # 'is_month_end',\n",
        "          # 'is_month_start',\n",
        "          # 'is_quarter_end',\n",
        "          # 'is_quarter_start',\n",
        "          # 'is_year_end',\n",
        "          # 'is_year_start',\n",
        "          'month',\n",
        "          'quarter',\n",
        "          'week',\n",
        "          \"dayofweek\",    \n",
        "          'year']\n",
        "    \n",
        "    for at in attr:\n",
        "        dtype = np.int16 if at == \"year\" else np.int8\n",
        "        df[at] = getattr(df.date.dt, at).astype(dtype)\n",
        "    df[\"weekend\"] = df[\"dayofweek\"].isin([5, 6]).astype(np.int8) #Monday=0, Sunday=6\n",
        "\n",
        "time_features(df)\n",
        "\n",
        "# Remove date\n",
        "del df['date']\n",
        "\n",
        "df = reduce_mem_usage(df, verbose=True)\n",
        "df.iloc[:, 2:].to_pickle('agg_days.pkl')\n",
        "print('Saved')"
      ],
      "execution_count": null,
      "outputs": [
        {
          "output_type": "stream",
          "text": [
            "Mem. usage decreased to 1139.68 Mb (0.0% reduction)\n",
            "Saved\n"
          ],
          "name": "stdout"
        }
      ]
    },
    {
      "cell_type": "code",
      "metadata": {
        "id": "T8Od3C591tHz",
        "colab_type": "code",
        "colab": {},
        "outputId": "6910e899-ff10-412f-cd9f-b507bda7ea8b"
      },
      "source": [
        "from sklearn.preprocessing import LabelEncoder\n",
        "df = pd.read_pickle('default_m5.pkl')\n",
        "\n",
        "df = df[['id', 'd']]\n",
        "col = [   \n",
        "    'd',\n",
        "    'event_name_1',\n",
        "    'event_type_1',\n",
        "    'snap_CA',\n",
        "    'snap_TX',\n",
        "    'snap_WI'\n",
        "    ]\n",
        "\n",
        "df = df.merge(calendar_df[col], on = 'd', how = 'left')\n",
        "\n",
        "def encode_categorical(df, cols):  \n",
        "    for col in cols:\n",
        "        # Leave NaN as it is.\n",
        "        le = LabelEncoder()\n",
        "        #not_null = df[col][df[col].notnull()]\n",
        "        #df[col] = df[col].cat.add_categories('Unknown') #for calendar\n",
        "        df[col] = df[col].fillna('nan')\n",
        "        df[col] = pd.Series(le.fit_transform(df[col]), index=df.index)\n",
        "    return df\n",
        "\n",
        "calendar = encode_categorical(\n",
        "  df[['event_name_1', 'event_type_1']], [\"event_name_1\", \"event_type_1\"])\n",
        "\n",
        "calendar = reduce_mem_usage(calendar, verbose=True)\n",
        "calendar.to_pickle('event_name_LEncoder.pkl')\n",
        "print('Save')"
      ],
      "execution_count": null,
      "outputs": [
        {
          "output_type": "stream",
          "text": [
            "/opt/conda/lib/python3.7/site-packages/ipykernel_launcher.py:22: SettingWithCopyWarning: \n",
            "A value is trying to be set on a copy of a slice from a DataFrame.\n",
            "Try using .loc[row_indexer,col_indexer] = value instead\n",
            "\n",
            "See the caveats in the documentation: https://pandas.pydata.org/pandas-docs/stable/user_guide/indexing.html#returning-a-view-versus-a-copy\n",
            "/opt/conda/lib/python3.7/site-packages/ipykernel_launcher.py:23: SettingWithCopyWarning: \n",
            "A value is trying to be set on a copy of a slice from a DataFrame.\n",
            "Try using .loc[row_indexer,col_indexer] = value instead\n",
            "\n",
            "See the caveats in the documentation: https://pandas.pydata.org/pandas-docs/stable/user_guide/indexing.html#returning-a-view-versus-a-copy\n",
            "/opt/conda/lib/python3.7/site-packages/ipykernel_launcher.py:12: SettingWithCopyWarning: \n",
            "A value is trying to be set on a copy of a slice from a DataFrame.\n",
            "Try using .loc[row_indexer,col_indexer] = value instead\n",
            "\n",
            "See the caveats in the documentation: https://pandas.pydata.org/pandas-docs/stable/user_guide/indexing.html#returning-a-view-versus-a-copy\n",
            "  if sys.path[0] == '':\n"
          ],
          "name": "stderr"
        },
        {
          "output_type": "stream",
          "text": [
            "Mem. usage decreased to 455.24 Mb (58.3% reduction)\n",
            "Save\n"
          ],
          "name": "stdout"
        }
      ]
    },
    {
      "cell_type": "code",
      "metadata": {
        "id": "hzib7cps1tH1",
        "colab_type": "code",
        "colab": {},
        "outputId": "eb174ff4-6a33-4cc3-a44b-e72f2d59e53f"
      },
      "source": [
        "df = pd.read_pickle('default_m5.pkl')\n",
        "df['d'] = df['d'].apply(lambda x: x[2:]).astype(np.int16)\n",
        "\n",
        "del df['wm_yr_wk']\n",
        "df.to_pickle('default_m5.pkl')\n",
        "del df\n",
        "print('Correct')"
      ],
      "execution_count": null,
      "outputs": [
        {
          "output_type": "stream",
          "text": [
            "Correct\n"
          ],
          "name": "stdout"
        }
      ]
    },
    {
      "cell_type": "markdown",
      "metadata": {
        "id": "91kgjVoeFy4A",
        "colab_type": "text"
      },
      "source": [
        "## add WMT"
      ]
    },
    {
      "cell_type": "code",
      "metadata": {
        "id": "AxVrKTZJeC44",
        "colab_type": "code",
        "colab": {}
      },
      "source": [
        "import plotly.express as px\n",
        "import plotly.graph_objects as go\n",
        "import plotly.figure_factory as ff\n",
        "from plotly.subplots import make_subplots\n",
        "\n",
        "import pandas_datareader.data as web\n",
        "import datetime as dt\n",
        "%matplotlib inline\n",
        "\n",
        "#Read Stock Data from Yahoo Finance\n",
        "\"\"\"\n",
        "Исторические данные варьируются от 2011-01-29 до 2016-06-19. Таким образом, продукты имеют (максимальную) продажу\n",
        "история 1 941 2 дня / 5,4 года (данные испытаний h = 28 дней не включены).\n",
        "\"\"\"\n",
        "end = dt.datetime(2016, 9, 1)\n",
        "#start = dt.datetime(end.year-2, end.month, end.day)\n",
        "start = dt.datetime(2011, 1, 1)\n",
        "df = web.DataReader(\"WMT\", 'yahoo', start, end)\n",
        "df = df.reset_index() \n",
        "df.columns = ['date', 'High', 'Low', 'Open', 'Close', 'Volume', 'Adj Close']"
      ],
      "execution_count": null,
      "outputs": []
    },
    {
      "cell_type": "markdown",
      "metadata": {
        "id": "kiTozNf3kirj",
        "colab_type": "text"
      },
      "source": [
        "####plot"
      ]
    },
    {
      "cell_type": "code",
      "metadata": {
        "id": "klT-dgI3nRD-",
        "colab_type": "code",
        "colab": {}
      },
      "source": [
        "train_period= df.iloc[:1373, :] #[df.Date == '2016-06-17'] #idx = 1373\n",
        "test_period= df.iloc[1373:1373+28, :] #30 or 19 next month\n",
        "test_period_after_test_month= df.iloc[1373+28:, :]"
      ],
      "execution_count": null,
      "outputs": []
    },
    {
      "cell_type": "code",
      "metadata": {
        "id": "QUyTHPfSCcXZ",
        "colab_type": "code",
        "colab": {
          "base_uri": "https://localhost:8080/",
          "height": 817
        },
        "outputId": "aba425b7-990c-4b54-aacc-787dc0064d1f"
      },
      "source": [
        "#fig = px.line(df, x=\"year\", y=\"lifeExp\", title='Life expectancy in Canada')\n",
        "# px.line(\n",
        "#     x = df.Date,\n",
        "#     y = df['Adj Close'],\n",
        "#     title = 'Walmart',\n",
        "# )\n",
        "fig = make_subplots(rows = 2, cols = 1, shared_xaxes=True)\n",
        "fig.add_trace(\n",
        "    go.Scatter(\n",
        "        x = df.date,\n",
        "        y = df['Adj Close'],name =\"All data Adj Close\" ,\n",
        "    ), row =1, col =1\n",
        ")\n",
        "\n",
        "fig.add_trace(\n",
        "    go.Scatter(\n",
        "        x = train_period.date,\n",
        "        y = train_period['Adj Close'],name =\"Train\",\n",
        "        marker=dict(color=\"black\")\n",
        "        ), row =2, col =1\n",
        ")\n",
        "\n",
        "fig.add_trace(\n",
        "    go.Scatter(\n",
        "        x = test_period.date,\n",
        "        y = test_period['Adj Close'],name =\"Test\",\n",
        "        marker=dict(color=\"red\")\n",
        "        ), row =2, col =1\n",
        ")\n",
        "\n",
        "fig.add_trace(\n",
        "    go.Scatter(\n",
        "        x = test_period_after_test_month.date,\n",
        "        y = test_period_after_test_month['Adj Close'],name =\"After test\",\n",
        "        marker=dict(color=\"green\")\n",
        "        ), row =2, col =1\n",
        ")\n",
        "# Add shapes\n",
        "fig.add_shape(\n",
        "        # Line Vertical\n",
        "        dict(\n",
        "            type=\"line\",\n",
        "            x0='2011-01-31',\n",
        "            y0=65.1,\n",
        "            x1='2016-09-01',\n",
        "            y1=65.1,\n",
        "            line=dict(\n",
        "                color=\"Red\",\n",
        "                width=1\n",
        "            )),  row =2, col =1)\n",
        "\n",
        "#67.86\n",
        "fig.add_shape(\n",
        "        # Line Vertical\n",
        "        dict(\n",
        "            type=\"line\",\n",
        "            x0='2011-01-31',\n",
        "            y0=67.9,\n",
        "            x1='2016-09-01',\n",
        "            y1=67.9,\n",
        "            line=dict(\n",
        "                color=\"Lightcoral\",\n",
        "                width=1\n",
        "            )), row =2, col =1)\n",
        "\n",
        "#2013-apr-7\n",
        "fig.add_shape(\n",
        "        # Line Vertical\n",
        "        dict(\n",
        "            type=\"line\",\n",
        "            x0='2013-04-07',\n",
        "            y0=35,\n",
        "            x1='2013-04-07',\n",
        "            y1=80,\n",
        "            line=dict(\n",
        "                color=\"DarkOrange\",\n",
        "                width=1\n",
        "            )), row =2, col =1)\n",
        "\n",
        "fig.update_xaxes(title_text=\"Years/Days\", row=2, col=1)\n",
        "fig.update_yaxes(title_text= 'Price', mirror=True)\n",
        "fig.update_layout(height=800, width=1000, title_text=\"Walmart Inc\")"
      ],
      "execution_count": null,
      "outputs": [
        {
          "output_type": "display_data",
          "data": {
            "text/html": [
              "<html>\n",
              "<head><meta charset=\"utf-8\" /></head>\n",
              "<body>\n",
              "    <div>\n",
              "            <script src=\"https://cdnjs.cloudflare.com/ajax/libs/mathjax/2.7.5/MathJax.js?config=TeX-AMS-MML_SVG\"></script><script type=\"text/javascript\">if (window.MathJax) {MathJax.Hub.Config({SVG: {font: \"STIX-Web\"}});}</script>\n",
              "                <script type=\"text/javascript\">window.PlotlyConfig = {MathJaxConfig: 'local'};</script>\n",
              "        <script src=\"https://cdn.plot.ly/plotly-latest.min.js\"></script>    \n",
              "            <div id=\"080ec0e0-0fc4-4cf3-a7c1-9c3d8867a769\" class=\"plotly-graph-div\" style=\"height:800px; width:1000px;\"></div>\n",
              "            <script type=\"text/javascript\">\n",
              "                \n",
              "                    window.PLOTLYENV=window.PLOTLYENV || {};\n",
              "                    \n",
              "                if (document.getElementById(\"080ec0e0-0fc4-4cf3-a7c1-9c3d8867a769\")) {\n",
              "                    Plotly.newPlot(\n",
              "                        '080ec0e0-0fc4-4cf3-a7c1-9c3d8867a769',\n",
              "                        [{\"name\": \"All data Adj Close\", \"type\": \"scatter\", \"x\": [\"2011-01-03T00:00:00\", \"2011-01-04T00:00:00\", \"2011-01-05T00:00:00\", \"2011-01-06T00:00:00\", \"2011-01-07T00:00:00\", \"2011-01-10T00:00:00\", \"2011-01-11T00:00:00\", \"2011-01-12T00:00:00\", \"2011-01-13T00:00:00\", \"2011-01-14T00:00:00\", \"2011-01-18T00:00:00\", \"2011-01-19T00:00:00\", \"2011-01-20T00:00:00\", \"2011-01-21T00:00:00\", \"2011-01-24T00:00:00\", \"2011-01-25T00:00:00\", \"2011-01-26T00:00:00\", \"2011-01-27T00:00:00\", \"2011-01-28T00:00:00\", \"2011-01-31T00:00:00\", \"2011-02-01T00:00:00\", \"2011-02-02T00:00:00\", \"2011-02-03T00:00:00\", \"2011-02-04T00:00:00\", \"2011-02-07T00:00:00\", \"2011-02-08T00:00:00\", \"2011-02-09T00:00:00\", \"2011-02-10T00:00:00\", \"2011-02-11T00:00:00\", \"2011-02-14T00:00:00\", \"2011-02-15T00:00:00\", \"2011-02-16T00:00:00\", \"2011-02-17T00:00:00\", \"2011-02-18T00:00:00\", \"2011-02-22T00:00:00\", \"2011-02-23T00:00:00\", \"2011-02-24T00:00:00\", \"2011-02-25T00:00:00\", \"2011-02-28T00:00:00\", \"2011-03-01T00:00:00\", \"2011-03-02T00:00:00\", \"2011-03-03T00:00:00\", \"2011-03-04T00:00:00\", \"2011-03-07T00:00:00\", \"2011-03-08T00:00:00\", \"2011-03-09T00:00:00\", \"2011-03-10T00:00:00\", \"2011-03-11T00:00:00\", \"2011-03-14T00:00:00\", \"2011-03-15T00:00:00\", \"2011-03-16T00:00:00\", \"2011-03-17T00:00:00\", \"2011-03-18T00:00:00\", \"2011-03-21T00:00:00\", \"2011-03-22T00:00:00\", \"2011-03-23T00:00:00\", \"2011-03-24T00:00:00\", \"2011-03-25T00:00:00\", \"2011-03-28T00:00:00\", \"2011-03-29T00:00:00\", \"2011-03-30T00:00:00\", \"2011-03-31T00:00:00\", \"2011-04-01T00:00:00\", \"2011-04-04T00:00:00\", \"2011-04-05T00:00:00\", \"2011-04-06T00:00:00\", \"2011-04-07T00:00:00\", \"2011-04-08T00:00:00\", \"2011-04-11T00:00:00\", \"2011-04-12T00:00:00\", \"2011-04-13T00:00:00\", \"2011-04-14T00:00:00\", \"2011-04-15T00:00:00\", \"2011-04-18T00:00:00\", \"2011-04-19T00:00:00\", \"2011-04-20T00:00:00\", \"2011-04-21T00:00:00\", \"2011-04-25T00:00:00\", \"2011-04-26T00:00:00\", \"2011-04-27T00:00:00\", \"2011-04-28T00:00:00\", \"2011-04-29T00:00:00\", \"2011-05-02T00:00:00\", \"2011-05-03T00:00:00\", \"2011-05-04T00:00:00\", \"2011-05-05T00:00:00\", \"2011-05-06T00:00:00\", \"2011-05-09T00:00:00\", \"2011-05-10T00:00:00\", \"2011-05-11T00:00:00\", \"2011-05-12T00:00:00\", \"2011-05-13T00:00:00\", \"2011-05-16T00:00:00\", \"2011-05-17T00:00:00\", \"2011-05-18T00:00:00\", \"2011-05-19T00:00:00\", \"2011-05-20T00:00:00\", \"2011-05-23T00:00:00\", \"2011-05-24T00:00:00\", \"2011-05-25T00:00:00\", \"2011-05-26T00:00:00\", \"2011-05-27T00:00:00\", \"2011-05-31T00:00:00\", \"2011-06-01T00:00:00\", \"2011-06-02T00:00:00\", \"2011-06-03T00:00:00\", \"2011-06-06T00:00:00\", \"2011-06-07T00:00:00\", \"2011-06-08T00:00:00\", \"2011-06-09T00:00:00\", \"2011-06-10T00:00:00\", \"2011-06-13T00:00:00\", \"2011-06-14T00:00:00\", \"2011-06-15T00:00:00\", \"2011-06-16T00:00:00\", \"2011-06-17T00:00:00\", \"2011-06-20T00:00:00\", \"2011-06-21T00:00:00\", \"2011-06-22T00:00:00\", \"2011-06-23T00:00:00\", \"2011-06-24T00:00:00\", \"2011-06-27T00:00:00\", \"2011-06-28T00:00:00\", \"2011-06-29T00:00:00\", \"2011-06-30T00:00:00\", \"2011-07-01T00:00:00\", \"2011-07-05T00:00:00\", \"2011-07-06T00:00:00\", \"2011-07-07T00:00:00\", \"2011-07-08T00:00:00\", \"2011-07-11T00:00:00\", \"2011-07-12T00:00:00\", \"2011-07-13T00:00:00\", \"2011-07-14T00:00:00\", \"2011-07-15T00:00:00\", \"2011-07-18T00:00:00\", \"2011-07-19T00:00:00\", \"2011-07-20T00:00:00\", \"2011-07-21T00:00:00\", \"2011-07-22T00:00:00\", \"2011-07-25T00:00:00\", \"2011-07-26T00:00:00\", \"2011-07-27T00:00:00\", \"2011-07-28T00:00:00\", \"2011-07-29T00:00:00\", \"2011-08-01T00:00:00\", \"2011-08-02T00:00:00\", \"2011-08-03T00:00:00\", \"2011-08-04T00:00:00\", \"2011-08-05T00:00:00\", \"2011-08-08T00:00:00\", \"2011-08-09T00:00:00\", \"2011-08-10T00:00:00\", \"2011-08-11T00:00:00\", \"2011-08-12T00:00:00\", \"2011-08-15T00:00:00\", \"2011-08-16T00:00:00\", \"2011-08-17T00:00:00\", \"2011-08-18T00:00:00\", \"2011-08-19T00:00:00\", \"2011-08-22T00:00:00\", \"2011-08-23T00:00:00\", \"2011-08-24T00:00:00\", \"2011-08-25T00:00:00\", \"2011-08-26T00:00:00\", \"2011-08-29T00:00:00\", \"2011-08-30T00:00:00\", \"2011-08-31T00:00:00\", \"2011-09-01T00:00:00\", \"2011-09-02T00:00:00\", \"2011-09-06T00:00:00\", \"2011-09-07T00:00:00\", \"2011-09-08T00:00:00\", \"2011-09-09T00:00:00\", \"2011-09-12T00:00:00\", \"2011-09-13T00:00:00\", \"2011-09-14T00:00:00\", \"2011-09-15T00:00:00\", \"2011-09-16T00:00:00\", \"2011-09-19T00:00:00\", \"2011-09-20T00:00:00\", \"2011-09-21T00:00:00\", \"2011-09-22T00:00:00\", \"2011-09-23T00:00:00\", \"2011-09-26T00:00:00\", \"2011-09-27T00:00:00\", \"2011-09-28T00:00:00\", \"2011-09-29T00:00:00\", \"2011-09-30T00:00:00\", \"2011-10-03T00:00:00\", \"2011-10-04T00:00:00\", \"2011-10-05T00:00:00\", \"2011-10-06T00:00:00\", \"2011-10-07T00:00:00\", \"2011-10-10T00:00:00\", \"2011-10-11T00:00:00\", \"2011-10-12T00:00:00\", \"2011-10-13T00:00:00\", \"2011-10-14T00:00:00\", \"2011-10-17T00:00:00\", \"2011-10-18T00:00:00\", \"2011-10-19T00:00:00\", \"2011-10-20T00:00:00\", \"2011-10-21T00:00:00\", \"2011-10-24T00:00:00\", \"2011-10-25T00:00:00\", \"2011-10-26T00:00:00\", \"2011-10-27T00:00:00\", \"2011-10-28T00:00:00\", \"2011-10-31T00:00:00\", \"2011-11-01T00:00:00\", \"2011-11-02T00:00:00\", \"2011-11-03T00:00:00\", \"2011-11-04T00:00:00\", \"2011-11-07T00:00:00\", \"2011-11-08T00:00:00\", \"2011-11-09T00:00:00\", \"2011-11-10T00:00:00\", \"2011-11-11T00:00:00\", \"2011-11-14T00:00:00\", \"2011-11-15T00:00:00\", \"2011-11-16T00:00:00\", \"2011-11-17T00:00:00\", \"2011-11-18T00:00:00\", \"2011-11-21T00:00:00\", \"2011-11-22T00:00:00\", \"2011-11-23T00:00:00\", \"2011-11-25T00:00:00\", \"2011-11-28T00:00:00\", \"2011-11-29T00:00:00\", \"2011-11-30T00:00:00\", \"2011-12-01T00:00:00\", \"2011-12-02T00:00:00\", \"2011-12-05T00:00:00\", \"2011-12-06T00:00:00\", \"2011-12-07T00:00:00\", \"2011-12-08T00:00:00\", \"2011-12-09T00:00:00\", \"2011-12-12T00:00:00\", \"2011-12-13T00:00:00\", \"2011-12-14T00:00:00\", \"2011-12-15T00:00:00\", \"2011-12-16T00:00:00\", \"2011-12-19T00:00:00\", \"2011-12-20T00:00:00\", \"2011-12-21T00:00:00\", \"2011-12-22T00:00:00\", \"2011-12-23T00:00:00\", \"2011-12-27T00:00:00\", \"2011-12-28T00:00:00\", \"2011-12-29T00:00:00\", \"2011-12-30T00:00:00\", \"2012-01-03T00:00:00\", \"2012-01-04T00:00:00\", \"2012-01-05T00:00:00\", \"2012-01-06T00:00:00\", \"2012-01-09T00:00:00\", \"2012-01-10T00:00:00\", \"2012-01-11T00:00:00\", \"2012-01-12T00:00:00\", \"2012-01-13T00:00:00\", \"2012-01-17T00:00:00\", \"2012-01-18T00:00:00\", \"2012-01-19T00:00:00\", \"2012-01-20T00:00:00\", \"2012-01-23T00:00:00\", \"2012-01-24T00:00:00\", \"2012-01-25T00:00:00\", \"2012-01-26T00:00:00\", \"2012-01-27T00:00:00\", \"2012-01-30T00:00:00\", \"2012-01-31T00:00:00\", \"2012-02-01T00:00:00\", \"2012-02-02T00:00:00\", \"2012-02-03T00:00:00\", \"2012-02-06T00:00:00\", \"2012-02-07T00:00:00\", \"2012-02-08T00:00:00\", \"2012-02-09T00:00:00\", \"2012-02-10T00:00:00\", \"2012-02-13T00:00:00\", \"2012-02-14T00:00:00\", \"2012-02-15T00:00:00\", \"2012-02-16T00:00:00\", \"2012-02-17T00:00:00\", \"2012-02-21T00:00:00\", \"2012-02-22T00:00:00\", \"2012-02-23T00:00:00\", \"2012-02-24T00:00:00\", \"2012-02-27T00:00:00\", \"2012-02-28T00:00:00\", \"2012-02-29T00:00:00\", \"2012-03-01T00:00:00\", \"2012-03-02T00:00:00\", \"2012-03-05T00:00:00\", \"2012-03-06T00:00:00\", \"2012-03-07T00:00:00\", \"2012-03-08T00:00:00\", \"2012-03-09T00:00:00\", \"2012-03-12T00:00:00\", \"2012-03-13T00:00:00\", \"2012-03-14T00:00:00\", \"2012-03-15T00:00:00\", \"2012-03-16T00:00:00\", \"2012-03-19T00:00:00\", \"2012-03-20T00:00:00\", \"2012-03-21T00:00:00\", \"2012-03-22T00:00:00\", \"2012-03-23T00:00:00\", \"2012-03-26T00:00:00\", \"2012-03-27T00:00:00\", \"2012-03-28T00:00:00\", \"2012-03-29T00:00:00\", \"2012-03-30T00:00:00\", \"2012-04-02T00:00:00\", \"2012-04-03T00:00:00\", \"2012-04-04T00:00:00\", \"2012-04-05T00:00:00\", \"2012-04-09T00:00:00\", \"2012-04-10T00:00:00\", \"2012-04-11T00:00:00\", \"2012-04-12T00:00:00\", \"2012-04-13T00:00:00\", \"2012-04-16T00:00:00\", \"2012-04-17T00:00:00\", \"2012-04-18T00:00:00\", \"2012-04-19T00:00:00\", \"2012-04-20T00:00:00\", \"2012-04-23T00:00:00\", \"2012-04-24T00:00:00\", \"2012-04-25T00:00:00\", \"2012-04-26T00:00:00\", \"2012-04-27T00:00:00\", \"2012-04-30T00:00:00\", \"2012-05-01T00:00:00\", \"2012-05-02T00:00:00\", \"2012-05-03T00:00:00\", \"2012-05-04T00:00:00\", \"2012-05-07T00:00:00\", \"2012-05-08T00:00:00\", \"2012-05-09T00:00:00\", \"2012-05-10T00:00:00\", \"2012-05-11T00:00:00\", \"2012-05-14T00:00:00\", \"2012-05-15T00:00:00\", \"2012-05-16T00:00:00\", \"2012-05-17T00:00:00\", \"2012-05-18T00:00:00\", \"2012-05-21T00:00:00\", \"2012-05-22T00:00:00\", \"2012-05-23T00:00:00\", \"2012-05-24T00:00:00\", \"2012-05-25T00:00:00\", \"2012-05-29T00:00:00\", \"2012-05-30T00:00:00\", \"2012-05-31T00:00:00\", \"2012-06-01T00:00:00\", \"2012-06-04T00:00:00\", \"2012-06-05T00:00:00\", \"2012-06-06T00:00:00\", \"2012-06-07T00:00:00\", \"2012-06-08T00:00:00\", \"2012-06-11T00:00:00\", \"2012-06-12T00:00:00\", \"2012-06-13T00:00:00\", \"2012-06-14T00:00:00\", \"2012-06-15T00:00:00\", \"2012-06-18T00:00:00\", \"2012-06-19T00:00:00\", \"2012-06-20T00:00:00\", \"2012-06-21T00:00:00\", \"2012-06-22T00:00:00\", \"2012-06-25T00:00:00\", \"2012-06-26T00:00:00\", \"2012-06-27T00:00:00\", \"2012-06-28T00:00:00\", \"2012-06-29T00:00:00\", \"2012-07-02T00:00:00\", \"2012-07-03T00:00:00\", \"2012-07-05T00:00:00\", \"2012-07-06T00:00:00\", \"2012-07-09T00:00:00\", \"2012-07-10T00:00:00\", \"2012-07-11T00:00:00\", \"2012-07-12T00:00:00\", \"2012-07-13T00:00:00\", \"2012-07-16T00:00:00\", \"2012-07-17T00:00:00\", \"2012-07-18T00:00:00\", \"2012-07-19T00:00:00\", \"2012-07-20T00:00:00\", \"2012-07-23T00:00:00\", \"2012-07-24T00:00:00\", \"2012-07-25T00:00:00\", \"2012-07-26T00:00:00\", \"2012-07-27T00:00:00\", \"2012-07-30T00:00:00\", \"2012-07-31T00:00:00\", \"2012-08-01T00:00:00\", \"2012-08-02T00:00:00\", \"2012-08-03T00:00:00\", \"2012-08-06T00:00:00\", \"2012-08-07T00:00:00\", \"2012-08-08T00:00:00\", \"2012-08-09T00:00:00\", \"2012-08-10T00:00:00\", \"2012-08-13T00:00:00\", \"2012-08-14T00:00:00\", \"2012-08-15T00:00:00\", \"2012-08-16T00:00:00\", \"2012-08-17T00:00:00\", \"2012-08-20T00:00:00\", \"2012-08-21T00:00:00\", \"2012-08-22T00:00:00\", \"2012-08-23T00:00:00\", \"2012-08-24T00:00:00\", \"2012-08-27T00:00:00\", \"2012-08-28T00:00:00\", \"2012-08-29T00:00:00\", \"2012-08-30T00:00:00\", \"2012-08-31T00:00:00\", \"2012-09-04T00:00:00\", \"2012-09-05T00:00:00\", \"2012-09-06T00:00:00\", \"2012-09-07T00:00:00\", \"2012-09-10T00:00:00\", \"2012-09-11T00:00:00\", \"2012-09-12T00:00:00\", \"2012-09-13T00:00:00\", \"2012-09-14T00:00:00\", \"2012-09-17T00:00:00\", \"2012-09-18T00:00:00\", \"2012-09-19T00:00:00\", \"2012-09-20T00:00:00\", \"2012-09-21T00:00:00\", \"2012-09-24T00:00:00\", \"2012-09-25T00:00:00\", \"2012-09-26T00:00:00\", \"2012-09-27T00:00:00\", \"2012-09-28T00:00:00\", \"2012-10-01T00:00:00\", \"2012-10-02T00:00:00\", \"2012-10-03T00:00:00\", \"2012-10-04T00:00:00\", \"2012-10-05T00:00:00\", \"2012-10-08T00:00:00\", \"2012-10-09T00:00:00\", \"2012-10-10T00:00:00\", \"2012-10-11T00:00:00\", \"2012-10-12T00:00:00\", \"2012-10-15T00:00:00\", \"2012-10-16T00:00:00\", \"2012-10-17T00:00:00\", \"2012-10-18T00:00:00\", \"2012-10-19T00:00:00\", \"2012-10-22T00:00:00\", \"2012-10-23T00:00:00\", \"2012-10-24T00:00:00\", \"2012-10-25T00:00:00\", \"2012-10-26T00:00:00\", \"2012-10-31T00:00:00\", \"2012-11-01T00:00:00\", \"2012-11-02T00:00:00\", \"2012-11-05T00:00:00\", \"2012-11-06T00:00:00\", \"2012-11-07T00:00:00\", \"2012-11-08T00:00:00\", \"2012-11-09T00:00:00\", \"2012-11-12T00:00:00\", \"2012-11-13T00:00:00\", \"2012-11-14T00:00:00\", \"2012-11-15T00:00:00\", \"2012-11-16T00:00:00\", \"2012-11-19T00:00:00\", \"2012-11-20T00:00:00\", \"2012-11-21T00:00:00\", \"2012-11-23T00:00:00\", \"2012-11-26T00:00:00\", \"2012-11-27T00:00:00\", \"2012-11-28T00:00:00\", \"2012-11-29T00:00:00\", \"2012-11-30T00:00:00\", \"2012-12-03T00:00:00\", \"2012-12-04T00:00:00\", \"2012-12-05T00:00:00\", \"2012-12-06T00:00:00\", \"2012-12-07T00:00:00\", \"2012-12-10T00:00:00\", \"2012-12-11T00:00:00\", \"2012-12-12T00:00:00\", \"2012-12-13T00:00:00\", \"2012-12-14T00:00:00\", \"2012-12-17T00:00:00\", \"2012-12-18T00:00:00\", \"2012-12-19T00:00:00\", \"2012-12-20T00:00:00\", \"2012-12-21T00:00:00\", \"2012-12-24T00:00:00\", \"2012-12-26T00:00:00\", \"2012-12-27T00:00:00\", \"2012-12-28T00:00:00\", \"2012-12-31T00:00:00\", \"2013-01-02T00:00:00\", \"2013-01-03T00:00:00\", \"2013-01-04T00:00:00\", \"2013-01-07T00:00:00\", \"2013-01-08T00:00:00\", \"2013-01-09T00:00:00\", \"2013-01-10T00:00:00\", \"2013-01-11T00:00:00\", \"2013-01-14T00:00:00\", \"2013-01-15T00:00:00\", \"2013-01-16T00:00:00\", \"2013-01-17T00:00:00\", \"2013-01-18T00:00:00\", \"2013-01-22T00:00:00\", \"2013-01-23T00:00:00\", \"2013-01-24T00:00:00\", \"2013-01-25T00:00:00\", \"2013-01-28T00:00:00\", \"2013-01-29T00:00:00\", \"2013-01-30T00:00:00\", \"2013-01-31T00:00:00\", \"2013-02-01T00:00:00\", \"2013-02-04T00:00:00\", \"2013-02-05T00:00:00\", \"2013-02-06T00:00:00\", \"2013-02-07T00:00:00\", \"2013-02-08T00:00:00\", \"2013-02-11T00:00:00\", \"2013-02-12T00:00:00\", \"2013-02-13T00:00:00\", \"2013-02-14T00:00:00\", \"2013-02-15T00:00:00\", \"2013-02-19T00:00:00\", \"2013-02-20T00:00:00\", \"2013-02-21T00:00:00\", \"2013-02-22T00:00:00\", \"2013-02-25T00:00:00\", \"2013-02-26T00:00:00\", \"2013-02-27T00:00:00\", \"2013-02-28T00:00:00\", \"2013-03-01T00:00:00\", \"2013-03-04T00:00:00\", \"2013-03-05T00:00:00\", \"2013-03-06T00:00:00\", \"2013-03-07T00:00:00\", \"2013-03-08T00:00:00\", \"2013-03-11T00:00:00\", \"2013-03-12T00:00:00\", \"2013-03-13T00:00:00\", \"2013-03-14T00:00:00\", \"2013-03-15T00:00:00\", \"2013-03-18T00:00:00\", \"2013-03-19T00:00:00\", \"2013-03-20T00:00:00\", \"2013-03-21T00:00:00\", \"2013-03-22T00:00:00\", \"2013-03-25T00:00:00\", \"2013-03-26T00:00:00\", \"2013-03-27T00:00:00\", \"2013-03-28T00:00:00\", \"2013-04-01T00:00:00\", \"2013-04-02T00:00:00\", \"2013-04-03T00:00:00\", \"2013-04-04T00:00:00\", \"2013-04-05T00:00:00\", \"2013-04-08T00:00:00\", \"2013-04-09T00:00:00\", \"2013-04-10T00:00:00\", \"2013-04-11T00:00:00\", \"2013-04-12T00:00:00\", \"2013-04-15T00:00:00\", \"2013-04-16T00:00:00\", \"2013-04-17T00:00:00\", \"2013-04-18T00:00:00\", \"2013-04-19T00:00:00\", \"2013-04-22T00:00:00\", \"2013-04-23T00:00:00\", \"2013-04-24T00:00:00\", \"2013-04-25T00:00:00\", \"2013-04-26T00:00:00\", \"2013-04-29T00:00:00\", \"2013-04-30T00:00:00\", \"2013-05-01T00:00:00\", \"2013-05-02T00:00:00\", \"2013-05-03T00:00:00\", \"2013-05-06T00:00:00\", \"2013-05-07T00:00:00\", \"2013-05-08T00:00:00\", \"2013-05-09T00:00:00\", \"2013-05-10T00:00:00\", \"2013-05-13T00:00:00\", \"2013-05-14T00:00:00\", \"2013-05-15T00:00:00\", \"2013-05-16T00:00:00\", \"2013-05-17T00:00:00\", \"2013-05-20T00:00:00\", \"2013-05-21T00:00:00\", \"2013-05-22T00:00:00\", \"2013-05-23T00:00:00\", \"2013-05-24T00:00:00\", \"2013-05-28T00:00:00\", \"2013-05-29T00:00:00\", \"2013-05-30T00:00:00\", \"2013-05-31T00:00:00\", \"2013-06-03T00:00:00\", \"2013-06-04T00:00:00\", \"2013-06-05T00:00:00\", \"2013-06-06T00:00:00\", \"2013-06-07T00:00:00\", \"2013-06-10T00:00:00\", \"2013-06-11T00:00:00\", \"2013-06-12T00:00:00\", \"2013-06-13T00:00:00\", \"2013-06-14T00:00:00\", \"2013-06-17T00:00:00\", \"2013-06-18T00:00:00\", \"2013-06-19T00:00:00\", \"2013-06-20T00:00:00\", \"2013-06-21T00:00:00\", \"2013-06-24T00:00:00\", \"2013-06-25T00:00:00\", \"2013-06-26T00:00:00\", \"2013-06-27T00:00:00\", \"2013-06-28T00:00:00\", \"2013-07-01T00:00:00\", \"2013-07-02T00:00:00\", \"2013-07-03T00:00:00\", \"2013-07-05T00:00:00\", \"2013-07-08T00:00:00\", \"2013-07-09T00:00:00\", \"2013-07-10T00:00:00\", \"2013-07-11T00:00:00\", \"2013-07-12T00:00:00\", \"2013-07-15T00:00:00\", \"2013-07-16T00:00:00\", \"2013-07-17T00:00:00\", \"2013-07-18T00:00:00\", \"2013-07-19T00:00:00\", \"2013-07-22T00:00:00\", \"2013-07-23T00:00:00\", \"2013-07-24T00:00:00\", \"2013-07-25T00:00:00\", \"2013-07-26T00:00:00\", \"2013-07-29T00:00:00\", \"2013-07-30T00:00:00\", \"2013-07-31T00:00:00\", \"2013-08-01T00:00:00\", \"2013-08-02T00:00:00\", \"2013-08-05T00:00:00\", \"2013-08-06T00:00:00\", \"2013-08-07T00:00:00\", \"2013-08-08T00:00:00\", \"2013-08-09T00:00:00\", \"2013-08-12T00:00:00\", \"2013-08-13T00:00:00\", \"2013-08-14T00:00:00\", \"2013-08-15T00:00:00\", \"2013-08-16T00:00:00\", \"2013-08-19T00:00:00\", \"2013-08-20T00:00:00\", \"2013-08-21T00:00:00\", \"2013-08-22T00:00:00\", \"2013-08-23T00:00:00\", \"2013-08-26T00:00:00\", \"2013-08-27T00:00:00\", \"2013-08-28T00:00:00\", \"2013-08-29T00:00:00\", \"2013-08-30T00:00:00\", \"2013-09-03T00:00:00\", \"2013-09-04T00:00:00\", \"2013-09-05T00:00:00\", \"2013-09-06T00:00:00\", \"2013-09-09T00:00:00\", \"2013-09-10T00:00:00\", \"2013-09-11T00:00:00\", \"2013-09-12T00:00:00\", \"2013-09-13T00:00:00\", \"2013-09-16T00:00:00\", \"2013-09-17T00:00:00\", \"2013-09-18T00:00:00\", \"2013-09-19T00:00:00\", \"2013-09-20T00:00:00\", \"2013-09-23T00:00:00\", \"2013-09-24T00:00:00\", \"2013-09-25T00:00:00\", \"2013-09-26T00:00:00\", \"2013-09-27T00:00:00\", \"2013-09-30T00:00:00\", \"2013-10-01T00:00:00\", \"2013-10-02T00:00:00\", \"2013-10-03T00:00:00\", \"2013-10-04T00:00:00\", \"2013-10-07T00:00:00\", \"2013-10-08T00:00:00\", \"2013-10-09T00:00:00\", \"2013-10-10T00:00:00\", \"2013-10-11T00:00:00\", \"2013-10-14T00:00:00\", \"2013-10-15T00:00:00\", \"2013-10-16T00:00:00\", \"2013-10-17T00:00:00\", \"2013-10-18T00:00:00\", \"2013-10-21T00:00:00\", \"2013-10-22T00:00:00\", \"2013-10-23T00:00:00\", \"2013-10-24T00:00:00\", \"2013-10-25T00:00:00\", \"2013-10-28T00:00:00\", \"2013-10-29T00:00:00\", \"2013-10-30T00:00:00\", \"2013-10-31T00:00:00\", \"2013-11-01T00:00:00\", \"2013-11-04T00:00:00\", \"2013-11-05T00:00:00\", \"2013-11-06T00:00:00\", \"2013-11-07T00:00:00\", \"2013-11-08T00:00:00\", \"2013-11-11T00:00:00\", \"2013-11-12T00:00:00\", \"2013-11-13T00:00:00\", \"2013-11-14T00:00:00\", \"2013-11-15T00:00:00\", \"2013-11-18T00:00:00\", \"2013-11-19T00:00:00\", \"2013-11-20T00:00:00\", \"2013-11-21T00:00:00\", \"2013-11-22T00:00:00\", \"2013-11-25T00:00:00\", \"2013-11-26T00:00:00\", \"2013-11-27T00:00:00\", \"2013-11-29T00:00:00\", \"2013-12-02T00:00:00\", \"2013-12-03T00:00:00\", \"2013-12-04T00:00:00\", \"2013-12-05T00:00:00\", \"2013-12-06T00:00:00\", \"2013-12-09T00:00:00\", \"2013-12-10T00:00:00\", \"2013-12-11T00:00:00\", \"2013-12-12T00:00:00\", \"2013-12-13T00:00:00\", \"2013-12-16T00:00:00\", \"2013-12-17T00:00:00\", \"2013-12-18T00:00:00\", \"2013-12-19T00:00:00\", \"2013-12-20T00:00:00\", \"2013-12-23T00:00:00\", \"2013-12-24T00:00:00\", \"2013-12-26T00:00:00\", \"2013-12-27T00:00:00\", \"2013-12-30T00:00:00\", \"2013-12-31T00:00:00\", \"2014-01-02T00:00:00\", \"2014-01-03T00:00:00\", \"2014-01-06T00:00:00\", \"2014-01-07T00:00:00\", \"2014-01-08T00:00:00\", \"2014-01-09T00:00:00\", \"2014-01-10T00:00:00\", \"2014-01-13T00:00:00\", \"2014-01-14T00:00:00\", \"2014-01-15T00:00:00\", \"2014-01-16T00:00:00\", \"2014-01-17T00:00:00\", \"2014-01-21T00:00:00\", \"2014-01-22T00:00:00\", \"2014-01-23T00:00:00\", \"2014-01-24T00:00:00\", \"2014-01-27T00:00:00\", \"2014-01-28T00:00:00\", \"2014-01-29T00:00:00\", \"2014-01-30T00:00:00\", \"2014-01-31T00:00:00\", \"2014-02-03T00:00:00\", \"2014-02-04T00:00:00\", \"2014-02-05T00:00:00\", \"2014-02-06T00:00:00\", \"2014-02-07T00:00:00\", \"2014-02-10T00:00:00\", \"2014-02-11T00:00:00\", \"2014-02-12T00:00:00\", \"2014-02-13T00:00:00\", \"2014-02-14T00:00:00\", \"2014-02-18T00:00:00\", \"2014-02-19T00:00:00\", \"2014-02-20T00:00:00\", \"2014-02-21T00:00:00\", \"2014-02-24T00:00:00\", \"2014-02-25T00:00:00\", \"2014-02-26T00:00:00\", \"2014-02-27T00:00:00\", \"2014-02-28T00:00:00\", \"2014-03-03T00:00:00\", \"2014-03-04T00:00:00\", \"2014-03-05T00:00:00\", \"2014-03-06T00:00:00\", \"2014-03-07T00:00:00\", \"2014-03-10T00:00:00\", \"2014-03-11T00:00:00\", \"2014-03-12T00:00:00\", \"2014-03-13T00:00:00\", \"2014-03-14T00:00:00\", \"2014-03-17T00:00:00\", \"2014-03-18T00:00:00\", \"2014-03-19T00:00:00\", \"2014-03-20T00:00:00\", \"2014-03-21T00:00:00\", \"2014-03-24T00:00:00\", \"2014-03-25T00:00:00\", \"2014-03-26T00:00:00\", \"2014-03-27T00:00:00\", \"2014-03-28T00:00:00\", \"2014-03-31T00:00:00\", \"2014-04-01T00:00:00\", \"2014-04-02T00:00:00\", \"2014-04-03T00:00:00\", \"2014-04-04T00:00:00\", \"2014-04-07T00:00:00\", \"2014-04-08T00:00:00\", \"2014-04-09T00:00:00\", \"2014-04-10T00:00:00\", \"2014-04-11T00:00:00\", \"2014-04-14T00:00:00\", \"2014-04-15T00:00:00\", \"2014-04-16T00:00:00\", \"2014-04-17T00:00:00\", \"2014-04-21T00:00:00\", \"2014-04-22T00:00:00\", \"2014-04-23T00:00:00\", \"2014-04-24T00:00:00\", \"2014-04-25T00:00:00\", \"2014-04-28T00:00:00\", \"2014-04-29T00:00:00\", \"2014-04-30T00:00:00\", \"2014-05-01T00:00:00\", \"2014-05-02T00:00:00\", \"2014-05-05T00:00:00\", \"2014-05-06T00:00:00\", \"2014-05-07T00:00:00\", \"2014-05-08T00:00:00\", \"2014-05-09T00:00:00\", \"2014-05-12T00:00:00\", \"2014-05-13T00:00:00\", \"2014-05-14T00:00:00\", \"2014-05-15T00:00:00\", \"2014-05-16T00:00:00\", \"2014-05-19T00:00:00\", \"2014-05-20T00:00:00\", \"2014-05-21T00:00:00\", \"2014-05-22T00:00:00\", \"2014-05-23T00:00:00\", \"2014-05-27T00:00:00\", \"2014-05-28T00:00:00\", \"2014-05-29T00:00:00\", \"2014-05-30T00:00:00\", \"2014-06-02T00:00:00\", \"2014-06-03T00:00:00\", \"2014-06-04T00:00:00\", \"2014-06-05T00:00:00\", \"2014-06-06T00:00:00\", \"2014-06-09T00:00:00\", \"2014-06-10T00:00:00\", \"2014-06-11T00:00:00\", \"2014-06-12T00:00:00\", \"2014-06-13T00:00:00\", \"2014-06-16T00:00:00\", \"2014-06-17T00:00:00\", \"2014-06-18T00:00:00\", \"2014-06-19T00:00:00\", \"2014-06-20T00:00:00\", \"2014-06-23T00:00:00\", \"2014-06-24T00:00:00\", \"2014-06-25T00:00:00\", \"2014-06-26T00:00:00\", \"2014-06-27T00:00:00\", \"2014-06-30T00:00:00\", \"2014-07-01T00:00:00\", \"2014-07-02T00:00:00\", \"2014-07-03T00:00:00\", \"2014-07-07T00:00:00\", \"2014-07-08T00:00:00\", \"2014-07-09T00:00:00\", \"2014-07-10T00:00:00\", \"2014-07-11T00:00:00\", \"2014-07-14T00:00:00\", \"2014-07-15T00:00:00\", \"2014-07-16T00:00:00\", \"2014-07-17T00:00:00\", \"2014-07-18T00:00:00\", \"2014-07-21T00:00:00\", \"2014-07-22T00:00:00\", \"2014-07-23T00:00:00\", \"2014-07-24T00:00:00\", \"2014-07-25T00:00:00\", \"2014-07-28T00:00:00\", \"2014-07-29T00:00:00\", \"2014-07-30T00:00:00\", \"2014-07-31T00:00:00\", \"2014-08-01T00:00:00\", \"2014-08-04T00:00:00\", \"2014-08-05T00:00:00\", \"2014-08-06T00:00:00\", \"2014-08-07T00:00:00\", \"2014-08-08T00:00:00\", \"2014-08-11T00:00:00\", \"2014-08-12T00:00:00\", \"2014-08-13T00:00:00\", \"2014-08-14T00:00:00\", \"2014-08-15T00:00:00\", \"2014-08-18T00:00:00\", \"2014-08-19T00:00:00\", \"2014-08-20T00:00:00\", \"2014-08-21T00:00:00\", \"2014-08-22T00:00:00\", \"2014-08-25T00:00:00\", \"2014-08-26T00:00:00\", \"2014-08-27T00:00:00\", \"2014-08-28T00:00:00\", \"2014-08-29T00:00:00\", \"2014-09-02T00:00:00\", \"2014-09-03T00:00:00\", \"2014-09-04T00:00:00\", \"2014-09-05T00:00:00\", \"2014-09-08T00:00:00\", \"2014-09-09T00:00:00\", \"2014-09-10T00:00:00\", \"2014-09-11T00:00:00\", \"2014-09-12T00:00:00\", \"2014-09-15T00:00:00\", \"2014-09-16T00:00:00\", \"2014-09-17T00:00:00\", \"2014-09-18T00:00:00\", \"2014-09-19T00:00:00\", \"2014-09-22T00:00:00\", \"2014-09-23T00:00:00\", \"2014-09-24T00:00:00\", \"2014-09-25T00:00:00\", \"2014-09-26T00:00:00\", \"2014-09-29T00:00:00\", \"2014-09-30T00:00:00\", \"2014-10-01T00:00:00\", \"2014-10-02T00:00:00\", \"2014-10-03T00:00:00\", \"2014-10-06T00:00:00\", \"2014-10-07T00:00:00\", \"2014-10-08T00:00:00\", \"2014-10-09T00:00:00\", \"2014-10-10T00:00:00\", \"2014-10-13T00:00:00\", \"2014-10-14T00:00:00\", \"2014-10-15T00:00:00\", \"2014-10-16T00:00:00\", \"2014-10-17T00:00:00\", \"2014-10-20T00:00:00\", \"2014-10-21T00:00:00\", \"2014-10-22T00:00:00\", \"2014-10-23T00:00:00\", \"2014-10-24T00:00:00\", \"2014-10-27T00:00:00\", \"2014-10-28T00:00:00\", \"2014-10-29T00:00:00\", \"2014-10-30T00:00:00\", \"2014-10-31T00:00:00\", \"2014-11-03T00:00:00\", \"2014-11-04T00:00:00\", \"2014-11-05T00:00:00\", \"2014-11-06T00:00:00\", \"2014-11-07T00:00:00\", \"2014-11-10T00:00:00\", \"2014-11-11T00:00:00\", \"2014-11-12T00:00:00\", \"2014-11-13T00:00:00\", \"2014-11-14T00:00:00\", \"2014-11-17T00:00:00\", \"2014-11-18T00:00:00\", \"2014-11-19T00:00:00\", \"2014-11-20T00:00:00\", \"2014-11-21T00:00:00\", \"2014-11-24T00:00:00\", \"2014-11-25T00:00:00\", \"2014-11-26T00:00:00\", \"2014-11-28T00:00:00\", \"2014-12-01T00:00:00\", \"2014-12-02T00:00:00\", \"2014-12-03T00:00:00\", \"2014-12-04T00:00:00\", \"2014-12-05T00:00:00\", \"2014-12-08T00:00:00\", \"2014-12-09T00:00:00\", \"2014-12-10T00:00:00\", \"2014-12-11T00:00:00\", \"2014-12-12T00:00:00\", \"2014-12-15T00:00:00\", \"2014-12-16T00:00:00\", \"2014-12-17T00:00:00\", \"2014-12-18T00:00:00\", \"2014-12-19T00:00:00\", \"2014-12-22T00:00:00\", \"2014-12-23T00:00:00\", \"2014-12-24T00:00:00\", \"2014-12-26T00:00:00\", \"2014-12-29T00:00:00\", \"2014-12-30T00:00:00\", \"2014-12-31T00:00:00\", \"2015-01-02T00:00:00\", \"2015-01-05T00:00:00\", \"2015-01-06T00:00:00\", \"2015-01-07T00:00:00\", \"2015-01-08T00:00:00\", \"2015-01-09T00:00:00\", \"2015-01-12T00:00:00\", \"2015-01-13T00:00:00\", \"2015-01-14T00:00:00\", \"2015-01-15T00:00:00\", \"2015-01-16T00:00:00\", \"2015-01-20T00:00:00\", \"2015-01-21T00:00:00\", \"2015-01-22T00:00:00\", \"2015-01-23T00:00:00\", \"2015-01-26T00:00:00\", \"2015-01-27T00:00:00\", \"2015-01-28T00:00:00\", \"2015-01-29T00:00:00\", \"2015-01-30T00:00:00\", \"2015-02-02T00:00:00\", \"2015-02-03T00:00:00\", \"2015-02-04T00:00:00\", \"2015-02-05T00:00:00\", \"2015-02-06T00:00:00\", \"2015-02-09T00:00:00\", \"2015-02-10T00:00:00\", \"2015-02-11T00:00:00\", \"2015-02-12T00:00:00\", \"2015-02-13T00:00:00\", \"2015-02-17T00:00:00\", \"2015-02-18T00:00:00\", \"2015-02-19T00:00:00\", \"2015-02-20T00:00:00\", \"2015-02-23T00:00:00\", \"2015-02-24T00:00:00\", \"2015-02-25T00:00:00\", \"2015-02-26T00:00:00\", \"2015-02-27T00:00:00\", \"2015-03-02T00:00:00\", \"2015-03-03T00:00:00\", \"2015-03-04T00:00:00\", \"2015-03-05T00:00:00\", \"2015-03-06T00:00:00\", \"2015-03-09T00:00:00\", \"2015-03-10T00:00:00\", \"2015-03-11T00:00:00\", \"2015-03-12T00:00:00\", \"2015-03-13T00:00:00\", \"2015-03-16T00:00:00\", \"2015-03-17T00:00:00\", \"2015-03-18T00:00:00\", \"2015-03-19T00:00:00\", \"2015-03-20T00:00:00\", \"2015-03-23T00:00:00\", \"2015-03-24T00:00:00\", \"2015-03-25T00:00:00\", \"2015-03-26T00:00:00\", \"2015-03-27T00:00:00\", \"2015-03-30T00:00:00\", \"2015-03-31T00:00:00\", \"2015-04-01T00:00:00\", \"2015-04-02T00:00:00\", \"2015-04-06T00:00:00\", \"2015-04-07T00:00:00\", \"2015-04-08T00:00:00\", \"2015-04-09T00:00:00\", \"2015-04-10T00:00:00\", \"2015-04-13T00:00:00\", \"2015-04-14T00:00:00\", \"2015-04-15T00:00:00\", \"2015-04-16T00:00:00\", \"2015-04-17T00:00:00\", \"2015-04-20T00:00:00\", \"2015-04-21T00:00:00\", \"2015-04-22T00:00:00\", \"2015-04-23T00:00:00\", \"2015-04-24T00:00:00\", \"2015-04-27T00:00:00\", \"2015-04-28T00:00:00\", \"2015-04-29T00:00:00\", \"2015-04-30T00:00:00\", \"2015-05-01T00:00:00\", \"2015-05-04T00:00:00\", \"2015-05-05T00:00:00\", \"2015-05-06T00:00:00\", \"2015-05-07T00:00:00\", \"2015-05-08T00:00:00\", \"2015-05-11T00:00:00\", \"2015-05-12T00:00:00\", \"2015-05-13T00:00:00\", \"2015-05-14T00:00:00\", \"2015-05-15T00:00:00\", \"2015-05-18T00:00:00\", \"2015-05-19T00:00:00\", \"2015-05-20T00:00:00\", \"2015-05-21T00:00:00\", \"2015-05-22T00:00:00\", \"2015-05-26T00:00:00\", \"2015-05-27T00:00:00\", \"2015-05-28T00:00:00\", \"2015-05-29T00:00:00\", \"2015-06-01T00:00:00\", \"2015-06-02T00:00:00\", \"2015-06-03T00:00:00\", \"2015-06-04T00:00:00\", \"2015-06-05T00:00:00\", \"2015-06-08T00:00:00\", \"2015-06-09T00:00:00\", \"2015-06-10T00:00:00\", \"2015-06-11T00:00:00\", \"2015-06-12T00:00:00\", \"2015-06-15T00:00:00\", \"2015-06-16T00:00:00\", \"2015-06-17T00:00:00\", \"2015-06-18T00:00:00\", \"2015-06-19T00:00:00\", \"2015-06-22T00:00:00\", \"2015-06-23T00:00:00\", \"2015-06-24T00:00:00\", \"2015-06-25T00:00:00\", \"2015-06-26T00:00:00\", \"2015-06-29T00:00:00\", \"2015-06-30T00:00:00\", \"2015-07-01T00:00:00\", \"2015-07-02T00:00:00\", \"2015-07-06T00:00:00\", \"2015-07-07T00:00:00\", \"2015-07-08T00:00:00\", \"2015-07-09T00:00:00\", \"2015-07-10T00:00:00\", \"2015-07-13T00:00:00\", \"2015-07-14T00:00:00\", \"2015-07-15T00:00:00\", \"2015-07-16T00:00:00\", \"2015-07-17T00:00:00\", \"2015-07-20T00:00:00\", \"2015-07-21T00:00:00\", \"2015-07-22T00:00:00\", \"2015-07-23T00:00:00\", \"2015-07-24T00:00:00\", \"2015-07-27T00:00:00\", \"2015-07-28T00:00:00\", \"2015-07-29T00:00:00\", \"2015-07-30T00:00:00\", \"2015-07-31T00:00:00\", \"2015-08-03T00:00:00\", \"2015-08-04T00:00:00\", \"2015-08-05T00:00:00\", \"2015-08-06T00:00:00\", \"2015-08-07T00:00:00\", \"2015-08-10T00:00:00\", \"2015-08-11T00:00:00\", \"2015-08-12T00:00:00\", \"2015-08-13T00:00:00\", \"2015-08-14T00:00:00\", \"2015-08-17T00:00:00\", \"2015-08-18T00:00:00\", \"2015-08-19T00:00:00\", \"2015-08-20T00:00:00\", \"2015-08-21T00:00:00\", \"2015-08-24T00:00:00\", \"2015-08-25T00:00:00\", \"2015-08-26T00:00:00\", \"2015-08-27T00:00:00\", \"2015-08-28T00:00:00\", \"2015-08-31T00:00:00\", \"2015-09-01T00:00:00\", \"2015-09-02T00:00:00\", \"2015-09-03T00:00:00\", \"2015-09-04T00:00:00\", \"2015-09-08T00:00:00\", \"2015-09-09T00:00:00\", \"2015-09-10T00:00:00\", \"2015-09-11T00:00:00\", \"2015-09-14T00:00:00\", \"2015-09-15T00:00:00\", \"2015-09-16T00:00:00\", \"2015-09-17T00:00:00\", \"2015-09-18T00:00:00\", \"2015-09-21T00:00:00\", \"2015-09-22T00:00:00\", \"2015-09-23T00:00:00\", \"2015-09-24T00:00:00\", \"2015-09-25T00:00:00\", \"2015-09-28T00:00:00\", \"2015-09-29T00:00:00\", \"2015-09-30T00:00:00\", \"2015-10-01T00:00:00\", \"2015-10-02T00:00:00\", \"2015-10-05T00:00:00\", \"2015-10-06T00:00:00\", \"2015-10-07T00:00:00\", \"2015-10-08T00:00:00\", \"2015-10-09T00:00:00\", \"2015-10-12T00:00:00\", \"2015-10-13T00:00:00\", \"2015-10-14T00:00:00\", \"2015-10-15T00:00:00\", \"2015-10-16T00:00:00\", \"2015-10-19T00:00:00\", \"2015-10-20T00:00:00\", \"2015-10-21T00:00:00\", \"2015-10-22T00:00:00\", \"2015-10-23T00:00:00\", \"2015-10-26T00:00:00\", \"2015-10-27T00:00:00\", \"2015-10-28T00:00:00\", \"2015-10-29T00:00:00\", \"2015-10-30T00:00:00\", \"2015-11-02T00:00:00\", \"2015-11-03T00:00:00\", \"2015-11-04T00:00:00\", \"2015-11-05T00:00:00\", \"2015-11-06T00:00:00\", \"2015-11-09T00:00:00\", \"2015-11-10T00:00:00\", \"2015-11-11T00:00:00\", \"2015-11-12T00:00:00\", \"2015-11-13T00:00:00\", \"2015-11-16T00:00:00\", \"2015-11-17T00:00:00\", \"2015-11-18T00:00:00\", \"2015-11-19T00:00:00\", \"2015-11-20T00:00:00\", \"2015-11-23T00:00:00\", \"2015-11-24T00:00:00\", \"2015-11-25T00:00:00\", \"2015-11-27T00:00:00\", \"2015-11-30T00:00:00\", \"2015-12-01T00:00:00\", \"2015-12-02T00:00:00\", \"2015-12-03T00:00:00\", \"2015-12-04T00:00:00\", \"2015-12-07T00:00:00\", \"2015-12-08T00:00:00\", \"2015-12-09T00:00:00\", \"2015-12-10T00:00:00\", \"2015-12-11T00:00:00\", \"2015-12-14T00:00:00\", \"2015-12-15T00:00:00\", \"2015-12-16T00:00:00\", \"2015-12-17T00:00:00\", \"2015-12-18T00:00:00\", \"2015-12-21T00:00:00\", \"2015-12-22T00:00:00\", \"2015-12-23T00:00:00\", \"2015-12-24T00:00:00\", \"2015-12-28T00:00:00\", \"2015-12-29T00:00:00\", \"2015-12-30T00:00:00\", \"2015-12-31T00:00:00\", \"2016-01-04T00:00:00\", \"2016-01-05T00:00:00\", \"2016-01-06T00:00:00\", \"2016-01-07T00:00:00\", \"2016-01-08T00:00:00\", \"2016-01-11T00:00:00\", \"2016-01-12T00:00:00\", \"2016-01-13T00:00:00\", \"2016-01-14T00:00:00\", \"2016-01-15T00:00:00\", \"2016-01-19T00:00:00\", \"2016-01-20T00:00:00\", \"2016-01-21T00:00:00\", \"2016-01-22T00:00:00\", \"2016-01-25T00:00:00\", \"2016-01-26T00:00:00\", \"2016-01-27T00:00:00\", \"2016-01-28T00:00:00\", \"2016-01-29T00:00:00\", \"2016-02-01T00:00:00\", \"2016-02-02T00:00:00\", \"2016-02-03T00:00:00\", \"2016-02-04T00:00:00\", \"2016-02-05T00:00:00\", \"2016-02-08T00:00:00\", \"2016-02-09T00:00:00\", \"2016-02-10T00:00:00\", \"2016-02-11T00:00:00\", \"2016-02-12T00:00:00\", \"2016-02-16T00:00:00\", \"2016-02-17T00:00:00\", \"2016-02-18T00:00:00\", \"2016-02-19T00:00:00\", \"2016-02-22T00:00:00\", \"2016-02-23T00:00:00\", \"2016-02-24T00:00:00\", \"2016-02-25T00:00:00\", \"2016-02-26T00:00:00\", \"2016-02-29T00:00:00\", \"2016-03-01T00:00:00\", \"2016-03-02T00:00:00\", \"2016-03-03T00:00:00\", \"2016-03-04T00:00:00\", \"2016-03-07T00:00:00\", \"2016-03-08T00:00:00\", \"2016-03-09T00:00:00\", \"2016-03-10T00:00:00\", \"2016-03-11T00:00:00\", \"2016-03-14T00:00:00\", \"2016-03-15T00:00:00\", \"2016-03-16T00:00:00\", \"2016-03-17T00:00:00\", \"2016-03-18T00:00:00\", \"2016-03-21T00:00:00\", \"2016-03-22T00:00:00\", \"2016-03-23T00:00:00\", \"2016-03-24T00:00:00\", \"2016-03-28T00:00:00\", \"2016-03-29T00:00:00\", \"2016-03-30T00:00:00\", \"2016-03-31T00:00:00\", \"2016-04-01T00:00:00\", \"2016-04-04T00:00:00\", \"2016-04-05T00:00:00\", \"2016-04-06T00:00:00\", \"2016-04-07T00:00:00\", \"2016-04-08T00:00:00\", \"2016-04-11T00:00:00\", \"2016-04-12T00:00:00\", \"2016-04-13T00:00:00\", \"2016-04-14T00:00:00\", \"2016-04-15T00:00:00\", \"2016-04-18T00:00:00\", \"2016-04-19T00:00:00\", \"2016-04-20T00:00:00\", \"2016-04-21T00:00:00\", \"2016-04-22T00:00:00\", \"2016-04-25T00:00:00\", \"2016-04-26T00:00:00\", \"2016-04-27T00:00:00\", \"2016-04-28T00:00:00\", \"2016-04-29T00:00:00\", \"2016-05-02T00:00:00\", \"2016-05-03T00:00:00\", \"2016-05-04T00:00:00\", \"2016-05-05T00:00:00\", \"2016-05-06T00:00:00\", \"2016-05-09T00:00:00\", \"2016-05-10T00:00:00\", \"2016-05-11T00:00:00\", \"2016-05-12T00:00:00\", \"2016-05-13T00:00:00\", \"2016-05-16T00:00:00\", \"2016-05-17T00:00:00\", \"2016-05-18T00:00:00\", \"2016-05-19T00:00:00\", \"2016-05-20T00:00:00\", \"2016-05-23T00:00:00\", \"2016-05-24T00:00:00\", \"2016-05-25T00:00:00\", \"2016-05-26T00:00:00\", \"2016-05-27T00:00:00\", \"2016-05-31T00:00:00\", \"2016-06-01T00:00:00\", \"2016-06-02T00:00:00\", \"2016-06-03T00:00:00\", \"2016-06-06T00:00:00\", \"2016-06-07T00:00:00\", \"2016-06-08T00:00:00\", \"2016-06-09T00:00:00\", \"2016-06-10T00:00:00\", \"2016-06-13T00:00:00\", \"2016-06-14T00:00:00\", \"2016-06-15T00:00:00\", \"2016-06-16T00:00:00\", \"2016-06-17T00:00:00\", \"2016-06-20T00:00:00\", \"2016-06-21T00:00:00\", \"2016-06-22T00:00:00\", \"2016-06-23T00:00:00\", \"2016-06-24T00:00:00\", \"2016-06-27T00:00:00\", \"2016-06-28T00:00:00\", \"2016-06-29T00:00:00\", \"2016-06-30T00:00:00\", \"2016-07-01T00:00:00\", \"2016-07-05T00:00:00\", \"2016-07-06T00:00:00\", \"2016-07-07T00:00:00\", \"2016-07-08T00:00:00\", \"2016-07-11T00:00:00\", \"2016-07-12T00:00:00\", \"2016-07-13T00:00:00\", \"2016-07-14T00:00:00\", \"2016-07-15T00:00:00\", \"2016-07-18T00:00:00\", \"2016-07-19T00:00:00\", \"2016-07-20T00:00:00\", \"2016-07-21T00:00:00\", \"2016-07-22T00:00:00\", \"2016-07-25T00:00:00\", \"2016-07-26T00:00:00\", \"2016-07-27T00:00:00\", \"2016-07-28T00:00:00\", \"2016-07-29T00:00:00\", \"2016-08-01T00:00:00\", \"2016-08-02T00:00:00\", \"2016-08-03T00:00:00\", \"2016-08-04T00:00:00\", \"2016-08-05T00:00:00\", \"2016-08-08T00:00:00\", \"2016-08-09T00:00:00\", \"2016-08-10T00:00:00\", \"2016-08-11T00:00:00\", \"2016-08-12T00:00:00\", \"2016-08-15T00:00:00\", \"2016-08-16T00:00:00\", \"2016-08-17T00:00:00\", \"2016-08-18T00:00:00\", \"2016-08-19T00:00:00\", \"2016-08-22T00:00:00\", \"2016-08-23T00:00:00\", \"2016-08-24T00:00:00\", \"2016-08-25T00:00:00\", \"2016-08-26T00:00:00\", \"2016-08-29T00:00:00\", \"2016-08-30T00:00:00\", \"2016-08-31T00:00:00\", \"2016-09-01T00:00:00\"], \"xaxis\": \"x\", \"y\": [43.35612106323242, 43.52299499511719, 43.23692321777344, 42.879337310791016, 42.97468566894531, 42.69655990600586, 43.141571044921875, 43.58656692504883, 43.53889083862305, 43.55479049682617, 43.81703186035156, 43.72960662841797, 44.49247360229492, 44.285865783691406, 44.540157318115234, 45.50167465209961, 45.549346923828125, 45.748008728027344, 45.056678771972656, 44.5560417175293, 44.76264572143555, 44.389163970947266, 44.43684005737305, 44.52426528930664, 44.5560417175293, 44.802391052246094, 45.08051681518555, 44.174617767333984, 44.25407791137695, 43.54684066772461, 43.666038513183594, 43.34818649291992, 43.50710678100586, 44.00774383544922, 42.64888000488281, 42.140316009521484, 41.39333724975586, 41.1231575012207, 41.30592727661133, 41.37744903564453, 41.29798126220703, 41.329769134521484, 41.37744903564453, 41.33770751953125, 41.67146301269531, 42.1475944519043, 42.131587982177734, 42.08357620239258, 41.867523193359375, 41.65945816040039, 41.11530685424805, 41.1073112487793, 41.22733688354492, 41.54741668701172, 41.611446380615234, 41.32337188720703, 42.08357620239258, 41.89152145385742, 41.76348114013672, 41.81951904296875, 41.8995361328125, 41.65145492553711, 41.715476989746094, 42.131587982177734, 42.203617095947266, 42.395668029785156, 42.411659240722656, 42.0435676574707, 42.267616271972656, 42.82777786254883, 42.91580581665039, 42.8117790222168, 42.851783752441406, 42.659732818603516, 42.691734313964844, 42.963829040527344, 42.87580108642578, 42.70774459838867, 43.13986587524414, 43.547977447509766, 43.764041900634766, 43.99609375, 44.044124603271484, 44.38019943237305, 44.30818557739258, 44.068115234375, 44.028106689453125, 44.09211730957031, 44.436222076416016, 44.44024658203125, 44.8832893371582, 44.8832893371582, 45.157161712646484, 44.73828887939453, 44.448307037353516, 44.6899528503418, 44.53691101074219, 44.48051452636719, 44.1260871887207, 43.94888687133789, 43.99721145629883, 44.061668395996094, 44.48051452636719, 43.73945617675781, 43.13531494140625, 43.22391891479492, 43.304481506347656, 43.36085891723633, 43.24808883666992, 43.19170379638672, 42.46674346923828, 42.386192321777344, 42.619789123535156, 42.1445426940918, 42.55533981323242, 42.547279357910156, 42.72450637817383, 42.9258918762207, 42.70034408569336, 42.9258918762207, 42.21702575683594, 42.12036895751953, 42.31369400024414, 42.40230941772461, 42.8050537109375, 43.10308837890625, 43.006431579589844, 43.27224349975586, 43.89250183105469, 43.5622444152832, 43.39308547973633, 43.449462890625, 43.513916015625, 43.19976043701172, 43.19976043701172, 42.95005416870117, 43.473628997802734, 43.4091911315918, 43.876399993896484, 43.91667175292969, 43.473628997802734, 43.16753005981445, 42.893653869628906, 42.684226989746094, 42.458683013916016, 42.386192321777344, 41.62900161743164, 41.306785583496094, 40.356285095214844, 40.960418701171875, 39.40577697753906, 40.93625259399414, 39.277069091796875, 40.3480339050293, 40.36427688598633, 40.55087661743164, 42.12487030029297, 41.82469177246094, 42.019412994384766, 42.433189392089844, 42.34394454956055, 43.171504974365234, 43.30133056640625, 42.75773239135742, 42.91999053955078, 43.1552848815918, 42.85508728027344, 43.1552848815918, 42.71715545654297, 42.21413040161133, 41.93015670776367, 42.53055191040039, 42.36016082763672, 41.6705207824707, 42.04374313354492, 41.85712432861328, 42.35205841064453, 42.60355758666992, 42.71715545654297, 42.554901123046875, 42.425071716308594, 41.63807678222656, 40.794281005859375, 41.21616744995117, 42.05186080932617, 42.21413040161133, 41.629974365234375, 42.13299560546875, 42.1086540222168, 42.15733337402344, 42.903770446777344, 42.71715545654297, 42.79829406738281, 43.56907272338867, 44.46965789794922, 44.396629333496094, 44.78607177734375, 44.64004135131836, 44.99702072143555, 44.4453010559082, 45.345909118652344, 45.63798141479492, 45.735347747802734, 46.181575775146484, 46.0680046081543, 46.01120376586914, 46.54669952392578, 46.903682708740234, 46.368202209472656, 46.01932144165039, 45.62175369262695, 46.13291549682617, 46.58726119995117, 46.65216827392578, 47.009151458740234, 48.12880325317383, 47.0984001159668, 47.16331481933594, 48.03144454956055, 47.779930114746094, 46.619712829589844, 45.98686599731445, 46.02743148803711, 46.433109283447266, 45.970638275146484, 46.12479782104492, 45.954410552978516, 46.15724563598633, 46.4493293762207, 47.195762634277344, 47.78804397583008, 47.55274963378906, 47.130859375, 47.33369445800781, 47.690677642822266, 47.768245697021484, 47.335540771484375, 47.613121032714844, 47.42534637451172, 47.02531051635742, 47.06612777709961, 47.31105422973633, 47.57231140136719, 47.17226791381836, 48.32341384887695, 48.48668670654297, 48.32341384887695, 48.97653579711914, 48.84591293334961, 48.764259338378906, 48.97653579711914, 48.78874588012695, 49.254119873046875, 48.74794387817383, 48.511192321777344, 48.16828536987305, 48.31523513793945, 48.20094680786133, 48.494850158691406, 48.57648468017578, 48.6091423034668, 48.86224365234375, 48.992862701416016, 49.48271179199219, 49.80927658081055, 49.727630615234375, 50.119510650634766, 50.1848258972168, 49.77661895751953, 49.56435012817383, 50.04602813720703, 50.09501647949219, 50.76447677612305, 50.56853485107422, 50.642005920410156, 50.51955795288086, 50.36443328857422, 50.307281494140625, 50.58486557006836, 50.535884857177734, 50.44607925415039, 50.79713821411133, 50.42158889770508, 50.65017318725586, 51.00939178466797, 49.041847229003906, 47.84172058105469, 47.79273986816406, 47.99684524536133, 47.72742462158203, 48.11113357543945, 48.23360061645508, 48.021331787109375, 48.17645263671875, 48.494850158691406, 48.1437873840332, 48.87040328979492, 49.12312316894531, 49.37791061401367, 49.87102508544922, 50.13402557373047, 50.19977951049805, 50.32305908203125, 50.002525329589844, 49.920345306396484, 49.80527877807617, 49.772403717041016, 49.84636306762695, 49.92856216430664, 50.29839324951172, 50.20798873901367, 50.29017639160156, 49.98609161376953, 50.29839324951172, 50.42989730834961, 49.84636306762695, 49.525840759277344, 49.86280822753906, 49.41899871826172, 49.25463104248047, 49.14778518676758, 49.427223205566406, 49.12312316894531, 49.78884506225586, 50.84904861450195, 51.00520324707031, 50.750423431396484, 51.32573318481445, 48.934085845947266, 47.47937774658203, 47.142417907714844, 48.449195861816406, 48.51494598388672, 48.416316986083984, 48.54781723022461, 48.498504638671875, 48.4820671081543, 48.24372482299805, 48.646446228027344, 48.531375885009766, 48.84374237060547, 48.97612380981445, 49.16643142700195, 48.8768196105957, 49.1085205078125, 48.97612380981445, 51.03644943237305, 51.65703201293945, 52.161766052246094, 52.73269271850586, 53.43603515625, 53.84147644042969, 54.0400505065918, 54.34621047973633, 54.14763259887695, 54.462039947509766, 54.238651275634766, 54.602718353271484, 54.1972770690918, 54.553070068359375, 54.5034294128418, 56.447906494140625, 55.87696075439453, 56.03418731689453, 55.496360778808594, 55.95970916748047, 56.05902862548828, 56.36515808105469, 56.10865020751953, 56.696128845214844, 56.01763153076172, 55.686668395996094, 56.41481399536133, 56.74578094482422, 56.75406265258789, 56.51410675048828, 57.68907165527344, 57.38290023803711, 58.541324615478516, 58.814395904541016, 59.04606628417969, 59.377044677734375, 59.66664123535156, 59.79077911376953, 59.83213806152344, 60.55200958251953, 60.38654327392578, 60.48581314086914, 60.27895736694336, 59.18672561645508, 59.78248596191406, 59.45151901245117, 59.69147491455078, 59.64181900024414, 60.957454681396484, 61.6607666015625, 62.04140090942383, 61.58628845214844, 60.916080474853516, 61.27186965942383, 61.68560028076172, 61.46220016479492, 61.22222137451172, 61.819122314453125, 61.43644332885742, 61.295021057128906, 61.06208419799805, 61.56955337524414, 61.93558883666992, 60.022212982177734, 59.88909149169922, 60.14699935913086, 59.423221588134766, 59.706077575683594, 59.531375885009766, 59.98891830444336, 60.313377380371094, 60.23849868774414, 60.53797912597656, 60.105384826660156, 60.39656066894531, 61.153587341308594, 61.1868782043457, 62.235084533691406, 61.4114875793457, 61.153587341308594, 61.61111831665039, 61.61945724487305, 62.50959777832031, 61.9771728515625, 61.552913665771484, 61.51963806152344, 61.8690299987793, 62.18516159057617, 61.93558883666992, 62.17682647705078, 61.77754211425781, 61.71929168701172, 61.544612884521484, 61.39486312866211, 61.60282897949219, 61.35326385498047, 61.72761154174805, 62.16020584106445, 62.50128936767578, 62.60111618041992, 61.67770004272461, 62.74251937866211, 62.40147399902344, 63.066978454589844, 64.18174743652344, 63.98208999633789, 64.08189392089844, 63.6909065246582, 62.90891647338867, 62.933868408203125, 62.19347381591797, 62.24339294433594, 62.65935134887695, 62.484657287597656, 62.40977096557617, 61.10366439819336, 60.53797912597656, 60.845794677734375, 61.36157989501953, 60.82083511352539, 60.29673385620117, 60.15531539916992, 60.29673385620117, 59.73934555053711, 59.32340621948242, 57.168739318847656, 56.594730377197266, 57.41831588745117, 57.40168762207031, 57.310176849365234, 58.399986267089844, 58.15871810913086, 57.817626953125, 58.6994743347168, 58.9240837097168, 59.9140510559082, 59.34834671020508, 59.997257232666016, 59.936588287353516, 59.88638687133789, 60.47196960449219, 60.354854583740234, 59.300838470458984, 57.66963577270508, 57.75328063964844, 57.51069641113281, 57.887123107910156, 58.138065338134766, 57.31827926635742, 57.719825744628906, 57.427032470703125, 57.36011505126953, 56.874935150146484, 57.04224395751953, 56.55706024169922, 57.07571029663086, 57.92058563232422, 57.55251693725586, 57.76999282836914, 57.21791458129883, 57.376853942871094, 57.36011505126953, 57.184444427490234, 57.410308837890625, 57.134273529052734, 57.70310974121094, 57.895477294921875, 57.59433364868164, 57.887123107910156, 58.20500946044922, 58.129695892333984, 58.38066482543945, 57.719825744628906, 58.01259994506836, 58.46431350708008, 58.34720993041992, 58.514522552490234, 58.96623611450195, 58.2468147277832, 59.200443267822266, 59.65218734741211, 59.58525085449219, 59.794395446777344, 59.72746276855469, 59.72746276855469, 59.71910095214844, 59.242286682128906, 57.97078323364258, 57.51906967163086, 57.895477294921875, 58.77382278442383, 58.89094543457031, 58.924407958984375, 59.48488235473633, 59.94496154785156, 59.20881652832031, 60.01187515258789, 61.28340148925781, 61.66816711425781, 61.38376235961914, 61.33357238769531, 61.48512268066406, 61.443031311035156, 61.96501541137695, 62.007110595703125, 61.64509201049805, 61.03892135620117, 60.828433990478516, 60.99683380126953, 61.45146179199219, 61.56931686401367, 62.53752517700195, 63.01742172241211, 62.950042724609375, 62.95849609375, 63.00059509277344, 63.50571060180664, 64.0024642944336, 63.98562240600586, 64.15399932861328, 64.31395721435547, 65.0716781616211, 65.77046966552734, 65.13904571533203, 65.49263763427734, 66.14090728759766, 66.06514739990234, 66.24193572998047, 66.09882354736328, 64.9622573852539, 65.91361236572266, 65.64419555664062, 66.5871353149414, 65.6947021484375, 66.21669006347656, 66.54505157470703, 65.99778747558594, 65.4336929321289, 65.719970703125, 66.05673217773438, 66.72184753417969, 66.36825561523438, 66.36825561523438, 66.27507019042969, 66.40210723876953, 66.81714630126953, 66.48682403564453, 66.72395324707031, 67.6386947631836, 66.48682403564453, 65.95323944091797, 65.5551528930664, 65.54668426513672, 65.24178314208984, 64.6489028930664, 65.47891235351562, 65.4874038696289, 64.56420135498047, 64.05599975585938, 63.38690185546875, 64.10684967041016, 64.31858825683594, 63.73418426513672, 64.05599975585938, 64.6489028930664, 64.15766143798828, 63.73418426513672, 63.38690185546875, 63.522430419921875, 63.412330627441406, 63.48006820678711, 64.14070892333984, 63.06507110595703, 61.853904724121094, 62.26044845581055, 62.844852447509766, 62.98883819580078, 63.53091049194336, 63.74264144897461, 63.09046936035156, 63.17517852783203, 63.27680969238281, 63.319149017333984, 63.70027542114258, 64.97073364257812, 65.24178314208984, 65.02156066894531, 65.74995422363281, 65.74995422363281, 65.24178314208984, 65.52974700927734, 65.38575744628906, 65.50432586669922, 66.13109588623047, 65.95323944091797, 66.5291519165039, 66.25813293457031, 66.0718002319336, 66.06330871582031, 66.05484008789062, 65.97016906738281, 66.01251983642578, 66.24968719482422, 66.69854736328125, 66.71549224853516, 65.95323944091797, 65.92766571044922, 65.82540130615234, 65.52717590332031, 65.68055725097656, 65.49307250976562, 65.10112762451172, 63.405418395996094, 63.149776458740234, 62.698177337646484, 62.39992904663086, 62.67262649536133, 62.59590530395508, 62.57884979248047, 62.22951126098633, 62.08465576171875, 61.67563247680664, 61.71824645996094, 62.18690872192383, 61.9312744140625, 62.12725830078125, 61.9227409362793, 61.854583740234375, 62.63850784301758, 63.02198028564453, 63.098655700683594, 62.9793701171875, 63.36281967163086, 63.720699310302734, 64.03596496582031, 65.11815643310547, 64.93921661376953, 64.61541748046875, 65.11815643310547, 64.54725646972656, 63.60993194580078, 63.5843620300293, 63.36281967163086, 63.02198028564453, 62.7066650390625, 62.817440032958984, 62.34029006958008, 62.03353500366211, 61.24106216430664, 62.118736267089844, 62.203956604003906, 63.72922897338867, 63.75477981567383, 63.635494232177734, 63.3713264465332, 64.41944122314453, 64.57280731201172, 64.51314544677734, 64.03596496582031, 65.03296661376953, 64.67504119873047, 65.11815643310547, 64.82844543457031, 65.73168182373047, 65.66350555419922, 65.53569030761719, 65.39934539794922, 65.67202758789062, 65.89358520507812, 65.97026062011719, 66.60083770751953, 66.04695892333984, 66.43040466308594, 67.32511901855469, 67.06949615478516, 67.23139953613281, 67.38478088378906, 67.50404357910156, 67.50404357910156, 67.52963256835938, 67.23139953613281, 67.19730377197266, 68.00679016113281, 68.53511810302734, 68.74813842773438, 68.96116638183594, 69.02932739257812, 69.11454772949219, 69.19978332519531, 68.75409698486328, 68.0855712890625, 68.51409149169922, 68.52266693115234, 67.77703857421875, 67.78560638427734, 67.27993774414062, 66.91996002197266, 66.62854766845703, 66.20858764648438, 66.79998779296875, 66.20001983642578, 66.36285400390625, 66.739990234375, 66.85997009277344, 67.18563842773438, 67.25421142578125, 67.39134216308594, 67.44279479980469, 67.6313247680664, 67.40847778320312, 67.0313720703125, 67.23709106445312, 66.7056884765625, 66.92851257324219, 66.88568115234375, 66.41427612304688, 66.81710052490234, 66.55998992919922, 65.78861999511719, 65.30010986328125, 65.00012969970703, 64.58016967773438, 64.24588012695312, 63.7830810546875, 63.55168914794922, 63.997337341308594, 63.50880813598633, 64.06591033935547, 64.00592803955078, 62.27463912963867, 62.33464813232422, 62.45463180541992, 62.41177749633789, 63.20885467529297, 63.2174186706543, 64.10877227783203, 64.24588012695312, 64.58873748779297, 64.95726013183594, 64.5630111694336, 64.15162658691406, 63.01172637939453, 62.668907165527344, 62.86602020263672, 62.86602020263672, 64.09163665771484, 63.90306091308594, 64.02307891845703, 63.525970458984375, 64.3916015625, 64.10877227783203, 64.17732238769531, 64.33258819580078, 64.2032241821289, 64.6258773803711, 65.1520767211914, 64.63450622558594, 64.0738296508789, 64.41885375976562, 64.49647521972656, 64.16007995605469, 65.0226821899414, 65.64374542236328, 66.21307373046875, 66.30795288085938, 65.75588989257812, 65.67826843261719, 65.56612396240234, 65.92842102050781, 66.2216796875, 66.57534790039062, 66.81690216064453, 66.6874771118164, 66.6874771118164, 67.4379653930664, 67.2568130493164, 66.32518005371094, 65.98880004882812, 66.74788665771484, 66.31657409667969, 66.60985565185547, 66.9894027709961, 66.9376449584961, 66.90314483642578, 67.31719207763672, 67.55009460449219, 67.81748962402344, 68.80085754394531, 68.72321319580078, 68.75772094726562, 68.74907684326172, 68.24879455566406, 67.81748962402344, 67.29132080078125, 67.66453552246094, 68.29814147949219, 68.74075317382812, 68.69737243652344, 68.6886978149414, 68.34152221679688, 66.68378448486328, 66.8399887084961, 66.49280548095703, 65.6943130493164, 65.66825866699219, 65.43392944335938, 65.62487030029297, 65.60750579833984, 65.55543518066406, 65.94599914550781, 66.63167572021484, 66.62298583984375, 66.57958984375, 66.94412994384766, 67.10905456542969, 67.0135726928711, 66.8399887084961, 66.5014877319336, 66.10222625732422, 65.72903442382812, 65.33845520019531, 65.39051818847656, 65.08673858642578, 65.7029800415039, 65.85052490234375, 65.68561553955078, 65.78109741210938, 65.93733978271484, 65.63356018066406, 65.01734161376953, 65.39051818847656, 65.15619659423828, 65.33845520019531, 65.63356018066406, 65.74638366699219, 66.02410125732422, 66.52752685546875, 67.0135726928711, 66.88336944580078, 66.67508697509766, 66.44073486328125, 66.69244384765625, 66.70978546142578, 66.49280548095703, 66.909423828125, 66.63167572021484, 66.51885223388672, 66.82263946533203, 66.26714324951172, 65.93733978271484, 65.71167755126953, 65.47731018066406, 64.90449523925781, 63.86295700073242, 63.82825469970703, 63.82825469970703, 63.65465545654297, 64.82534790039062, 64.60694885253906, 65.23595428466797, 64.96514129638672, 64.84282684326172, 64.67683410644531, 64.99134063720703, 64.56326293945312, 65.07869720458984, 65.41942596435547, 65.48933410644531, 66.00479125976562, 66.16205596923828, 66.12712860107422, 65.97857666015625, 66.26688385009766, 66.3105697631836, 65.96109008789062, 66.17952728271484, 66.40666961669922, 66.8871841430664, 67.71714782714844, 66.8609848022461, 67.04444122314453, 66.843505859375, 66.48530578613281, 66.19698333740234, 66.23193359375, 66.67749786376953, 66.60762023925781, 66.59015655517578, 67.13179016113281, 66.66876983642578, 66.04846954345703, 67.34148406982422, 66.5027847290039, 66.82603454589844, 66.46782684326172, 66.80855560302734, 66.5027847290039, 66.598876953125, 67.5511703491211, 67.57737731933594, 67.53369140625, 68.35494232177734, 68.02293395996094, 68.39861297607422, 67.76083374023438, 68.1277847290039, 65.69901275634766, 64.49334716796875, 64.73799133300781, 65.6465835571289, 66.41541290283203, 66.42414855957031, 66.6163558959961, 66.72992706298828, 66.91339874267578, 66.70370483398438, 66.73865509033203, 66.79106903076172, 66.63382720947266, 66.64253997802734, 67.49874114990234, 67.8831558227539, 67.97925567626953, 68.8179702758789, 69.40332794189453, 69.02764892578125, 69.1936264038086, 72.46112823486328, 72.47859954833984, 73.01151275634766, 73.20372772216797, 74.25212860107422, 73.89392852783203, 73.95506286621094, 74.61032104492188, 74.21717834472656, 74.2433853149414, 76.47993469238281, 75.32672119140625, 75.48395538330078, 74.62298583984375, 74.46485900878906, 73.90259552001953, 73.99925231933594, 73.4106216430664, 72.90108489990234, 73.6478271484375, 73.63025665283203, 73.74446868896484, 72.88350677490234, 73.99925231933594, 75.50154113769531, 74.8162841796875, 75.88807678222656, 76.13408660888672, 75.93202209472656, 76.35372161865234, 76.11650848388672, 76.24829864501953, 75.44883728027344, 75.46640014648438, 75.24677276611328, 75.82660675048828, 77.83844757080078, 79.48131561279297, 78.49734497070312, 79.08595275878906, 78.46221923828125, 76.09017181396484, 76.7666244506836, 76.23072814941406, 76.16044616699219, 76.11650848388672, 77.57487487792969, 77.75938415527344, 77.86477661132812, 76.89840698242188, 76.27465057373047, 77.06533813476562, 74.65815734863281, 75.29947662353516, 75.72117614746094, 76.12529754638672, 76.67877960205078, 76.72272491455078, 75.47518920898438, 76.68756103515625, 75.85295104980469, 75.45763397216797, 75.38733673095703, 75.51911163330078, 75.80902862548828, 73.37548828125, 74.06073760986328, 74.32428741455078, 74.29794311523438, 73.41940307617188, 73.62147521972656, 73.7356948852539, 73.76204681396484, 73.24370574951172, 72.5496597290039, 73.41940307617188, 72.55841064453125, 72.8132095336914, 72.10159301757812, 71.31501770019531, 72.38440704345703, 72.38440704345703, 73.61293029785156, 73.02076721191406, 72.94122314453125, 72.04855346679688, 73.5687255859375, 73.63059997558594, 73.40080261230469, 71.87181854248047, 72.37560272216797, 71.8983154296875, 72.94122314453125, 72.6937484741211, 71.33267211914062, 71.3503646850586, 71.58015441894531, 71.1470947265625, 71.61549377441406, 71.44758605957031, 71.27965545654297, 70.96147918701172, 70.83773803710938, 70.47540283203125, 70.03345489501953, 68.83148956298828, 69.061279296875, 68.96406555175781, 69.31758880615234, 69.98045349121094, 70.56375885009766, 70.14838409423828, 69.90975952148438, 68.83148956298828, 68.98175048828125, 69.46782684326172, 69.98045349121094, 69.05242156982422, 69.06131744384766, 69.39930725097656, 69.84400177001953, 69.46155548095703, 70.22642517089844, 69.51493835449219, 70.01300048828125, 70.47547149658203, 71.08023834228516, 67.97628021240234, 67.5049057006836, 67.69166564941406, 67.46931457519531, 66.61550903320312, 66.8734130859375, 66.5621337890625, 66.05516815185547, 66.46430969238281, 66.28641510009766, 66.60661315917969, 65.94845581054688, 64.97901153564453, 64.57878112792969, 64.45426940917969, 64.86339569091797, 64.8722915649414, 64.418701171875, 63.97401428222656, 64.34754180908203, 64.6855239868164, 64.90788269042969, 64.69440460205078, 64.73888397216797, 64.54322052001953, 64.37423706054688, 63.9117431640625, 64.14297485351562, 63.52042007446289, 63.0846061706543, 63.929534912109375, 63.9117431640625, 64.50765228271484, 65.6282730102539, 64.97901153564453, 64.73001098632812, 65.03238677978516, 65.70832061767578, 65.6282730102539, 65.50376892089844, 65.66386413574219, 65.27251434326172, 65.01458740234375, 64.69440460205078, 65.06796264648438, 64.48986053466797, 63.6627082824707, 63.484832763671875, 64.12521362304688, 64.2408447265625, 64.17857360839844, 64.01848602294922, 64.19636535644531, 64.25860595703125, 65.82566833496094, 65.18093872070312, 63.801910400390625, 64.00788116455078, 64.41085052490234, 64.99288940429688, 64.57202911376953, 64.81379699707031, 64.39292907714844, 62.21695327758789, 61.402069091796875, 61.27672576904297, 59.58429718017578, 57.26503372192383, 56.50389099121094, 58.053043365478516, 59.172359466552734, 58.15153884887695, 57.96349334716797, 57.14862060546875, 57.70380401611328, 58.079891204833984, 57.211299896240234, 59.441009521484375, 58.312721252441406, 57.41726303100586, 57.891849517822266, 57.56053161621094, 57.59634780883789, 57.927677154541016, 57.73066329956055, 56.71879577636719, 57.05906677246094, 56.942657470703125, 57.05906677246094, 57.15757369995117, 57.11280059814453, 57.005348205566406, 57.11280059814453, 58.061988830566406, 57.55156707763672, 58.18736267089844, 58.98431396484375, 58.814186096191406, 59.4231071472168, 59.888736724853516, 59.718597412109375, 59.933502197265625, 59.75442886352539, 53.754798889160156, 53.12797927856445, 52.733970642089844, 52.698150634765625, 52.608604431152344, 52.510093688964844, 52.742923736572266, 52.205650329589844, 51.95491027832031, 51.471351623535156, 51.6146354675293, 51.90118408203125, 51.25645446777344, 51.5877799987793, 52.035499572753906, 52.26832580566406, 52.483238220214844, 52.63545608520508, 52.37578582763672, 52.54592514038086, 51.560916900634766, 50.996768951416016, 50.52216720581055, 51.820594787597656, 53.65629959106445, 54.56071853637695, 54.35477066040039, 53.790611267089844, 53.96074676513672, 53.65629959106445, 53.94285202026367, 53.62943649291992, 52.6891975402832, 52.82352066040039, 52.68807601928711, 53.311119079589844, 53.87095642089844, 54.62944412231445, 53.825809478759766, 53.392391204833984, 53.780662536621094, 53.600074768066406, 54.530120849609375, 53.85289764404297, 54.4488525390625, 53.25695037841797, 53.139556884765625, 53.77163314819336, 54.66556930541992, 55.162200927734375, 54.92742919921875, 54.855194091796875, 55.631744384765625, 55.694942474365234, 55.35182189941406, 55.49629211425781, 56.81462097167969, 57.38349914550781, 58.719879150390625, 57.37446594238281, 57.988487243652344, 57.44670104980469, 55.911651611328125, 56.941043853759766, 55.920692443847656, 56.48957061767578, 54.93645477294922, 55.87554931640625, 56.6069450378418, 57.29320526123047, 57.789825439453125, 57.74468994140625, 57.988487243652344, 59.92083740234375, 60.95021438598633, 60.3723258972168, 59.83955764770508, 59.97500991821289, 60.49873733520508, 60.408424377441406, 59.424190521240234, 59.40614318847656, 58.98174285888672, 59.75830841064453, 59.505470275878906, 59.695091247558594, 57.898189544677734, 58.38579177856445, 59.26166534423828, 60.029170989990234, 60.60708236694336, 61.43781280517578, 60.056270599365234, 59.90277099609375, 60.0111198425293, 59.7853889465332, 59.7221794128418, 60.30007553100586, 61.3023681640625, 61.43781280517578, 61.42871856689453, 61.3195686340332, 61.10124969482422, 61.274078369140625, 61.938114166259766, 61.84716796875, 61.35593795776367, 60.90110778808594, 61.8289680480957, 61.73798751831055, 61.36504364013672, 61.856239318847656, 61.96541976928711, 61.883544921875, 62.583980560302734, 62.301979064941406, 62.82048797607422, 62.856876373291016, 62.43842315673828, 62.80229187011719, 62.05638122558594, 61.91082763671875, 61.310462951660156, 62.583980560302734, 62.90235900878906, 62.583980560302734, 62.82048797607422, 63.5482063293457, 63.466331481933594, 62.9569206237793, 62.28377914428711, 62.511199951171875, 63.19343185424805, 63.03880310058594, 63.147953033447266, 62.68404006958008, 60.82835388183594, 61.4832878112793, 60.94660568237305, 61.11942672729492, 61.13762283325195, 62.08366775512695, 62.72041702270508, 62.57487106323242, 60.85221481323242, 61.25537872314453, 59.50522994995117, 60.49484634399414, 59.6518440246582, 57.86503601074219, 63.40871810913086, 64.01348114013672, 63.68360137939453, 64.3616714477539, 64.58159637451172, 64.9206314086914, 64.82901000976562, 64.85649871826172, 64.59992980957031, 65.01224517822266, 64.93898010253906, 65.1039047241211, 65.08556365966797, 65.31465911865234, 65.14055633544922, 65.18635559082031, 64.6274185180664, 65.01224517822266, 65.16803741455078, 65.33296203613281, 65.01224517822266, 65.14971160888672, 65.47957611083984, 65.74531555175781, 66.06602478027344, 65.937744140625, 65.51624298095703, 65.5254135131836, 66.39588928222656, 66.90901947021484, 66.71661376953125, 67.01898956298828, 67.64205932617188, 67.3763427734375, 67.660400390625, 67.86198425292969, 67.13809967041016, 67.45882415771484, 67.5321044921875, 67.50462341308594, 67.660400390625, 67.49549102783203, 67.61458587646484, 67.36717987060547, 67.39468383789062, 67.57794189453125, 67.55961608886719, 67.18390655517578, 67.11060333251953, 66.86321258544922, 67.60541534423828, 67.00982666015625, 66.8357162475586, 67.16559600830078, 67.58708953857422, 67.20223236083984, 67.38551330566406, 68.22505950927734, 68.086669921875, 68.16969299316406, 67.64381408691406, 67.24711608886719, 67.28401947021484, 68.54796600341797, 67.17332458496094, 67.07183074951172, 66.39834594726562, 66.63822937011719, 65.70640563964844, 65.6325912475586, 65.87247467041016, 65.78944396972656, 65.90937805175781, 67.20098876953125], \"yaxis\": \"y\"}, {\"marker\": {\"color\": \"black\"}, \"name\": \"Train\", \"type\": \"scatter\", \"x\": [\"2011-01-03T00:00:00\", \"2011-01-04T00:00:00\", \"2011-01-05T00:00:00\", \"2011-01-06T00:00:00\", \"2011-01-07T00:00:00\", \"2011-01-10T00:00:00\", \"2011-01-11T00:00:00\", \"2011-01-12T00:00:00\", \"2011-01-13T00:00:00\", \"2011-01-14T00:00:00\", \"2011-01-18T00:00:00\", \"2011-01-19T00:00:00\", \"2011-01-20T00:00:00\", \"2011-01-21T00:00:00\", \"2011-01-24T00:00:00\", \"2011-01-25T00:00:00\", \"2011-01-26T00:00:00\", \"2011-01-27T00:00:00\", \"2011-01-28T00:00:00\", \"2011-01-31T00:00:00\", \"2011-02-01T00:00:00\", \"2011-02-02T00:00:00\", \"2011-02-03T00:00:00\", \"2011-02-04T00:00:00\", \"2011-02-07T00:00:00\", \"2011-02-08T00:00:00\", \"2011-02-09T00:00:00\", \"2011-02-10T00:00:00\", \"2011-02-11T00:00:00\", \"2011-02-14T00:00:00\", \"2011-02-15T00:00:00\", \"2011-02-16T00:00:00\", \"2011-02-17T00:00:00\", \"2011-02-18T00:00:00\", \"2011-02-22T00:00:00\", \"2011-02-23T00:00:00\", \"2011-02-24T00:00:00\", \"2011-02-25T00:00:00\", \"2011-02-28T00:00:00\", \"2011-03-01T00:00:00\", \"2011-03-02T00:00:00\", \"2011-03-03T00:00:00\", \"2011-03-04T00:00:00\", \"2011-03-07T00:00:00\", \"2011-03-08T00:00:00\", \"2011-03-09T00:00:00\", \"2011-03-10T00:00:00\", \"2011-03-11T00:00:00\", \"2011-03-14T00:00:00\", \"2011-03-15T00:00:00\", \"2011-03-16T00:00:00\", \"2011-03-17T00:00:00\", \"2011-03-18T00:00:00\", \"2011-03-21T00:00:00\", \"2011-03-22T00:00:00\", \"2011-03-23T00:00:00\", \"2011-03-24T00:00:00\", \"2011-03-25T00:00:00\", \"2011-03-28T00:00:00\", \"2011-03-29T00:00:00\", \"2011-03-30T00:00:00\", \"2011-03-31T00:00:00\", \"2011-04-01T00:00:00\", \"2011-04-04T00:00:00\", \"2011-04-05T00:00:00\", \"2011-04-06T00:00:00\", \"2011-04-07T00:00:00\", \"2011-04-08T00:00:00\", \"2011-04-11T00:00:00\", \"2011-04-12T00:00:00\", \"2011-04-13T00:00:00\", \"2011-04-14T00:00:00\", \"2011-04-15T00:00:00\", \"2011-04-18T00:00:00\", \"2011-04-19T00:00:00\", \"2011-04-20T00:00:00\", \"2011-04-21T00:00:00\", \"2011-04-25T00:00:00\", \"2011-04-26T00:00:00\", \"2011-04-27T00:00:00\", \"2011-04-28T00:00:00\", \"2011-04-29T00:00:00\", \"2011-05-02T00:00:00\", \"2011-05-03T00:00:00\", \"2011-05-04T00:00:00\", \"2011-05-05T00:00:00\", \"2011-05-06T00:00:00\", \"2011-05-09T00:00:00\", \"2011-05-10T00:00:00\", \"2011-05-11T00:00:00\", \"2011-05-12T00:00:00\", \"2011-05-13T00:00:00\", \"2011-05-16T00:00:00\", \"2011-05-17T00:00:00\", \"2011-05-18T00:00:00\", \"2011-05-19T00:00:00\", \"2011-05-20T00:00:00\", \"2011-05-23T00:00:00\", \"2011-05-24T00:00:00\", \"2011-05-25T00:00:00\", \"2011-05-26T00:00:00\", \"2011-05-27T00:00:00\", \"2011-05-31T00:00:00\", \"2011-06-01T00:00:00\", \"2011-06-02T00:00:00\", \"2011-06-03T00:00:00\", \"2011-06-06T00:00:00\", \"2011-06-07T00:00:00\", \"2011-06-08T00:00:00\", \"2011-06-09T00:00:00\", \"2011-06-10T00:00:00\", \"2011-06-13T00:00:00\", \"2011-06-14T00:00:00\", \"2011-06-15T00:00:00\", \"2011-06-16T00:00:00\", \"2011-06-17T00:00:00\", \"2011-06-20T00:00:00\", \"2011-06-21T00:00:00\", \"2011-06-22T00:00:00\", \"2011-06-23T00:00:00\", \"2011-06-24T00:00:00\", \"2011-06-27T00:00:00\", \"2011-06-28T00:00:00\", \"2011-06-29T00:00:00\", \"2011-06-30T00:00:00\", \"2011-07-01T00:00:00\", \"2011-07-05T00:00:00\", \"2011-07-06T00:00:00\", \"2011-07-07T00:00:00\", \"2011-07-08T00:00:00\", \"2011-07-11T00:00:00\", \"2011-07-12T00:00:00\", \"2011-07-13T00:00:00\", \"2011-07-14T00:00:00\", \"2011-07-15T00:00:00\", \"2011-07-18T00:00:00\", \"2011-07-19T00:00:00\", \"2011-07-20T00:00:00\", \"2011-07-21T00:00:00\", \"2011-07-22T00:00:00\", \"2011-07-25T00:00:00\", \"2011-07-26T00:00:00\", \"2011-07-27T00:00:00\", \"2011-07-28T00:00:00\", \"2011-07-29T00:00:00\", \"2011-08-01T00:00:00\", \"2011-08-02T00:00:00\", \"2011-08-03T00:00:00\", \"2011-08-04T00:00:00\", \"2011-08-05T00:00:00\", \"2011-08-08T00:00:00\", \"2011-08-09T00:00:00\", \"2011-08-10T00:00:00\", \"2011-08-11T00:00:00\", \"2011-08-12T00:00:00\", \"2011-08-15T00:00:00\", \"2011-08-16T00:00:00\", \"2011-08-17T00:00:00\", \"2011-08-18T00:00:00\", \"2011-08-19T00:00:00\", \"2011-08-22T00:00:00\", \"2011-08-23T00:00:00\", \"2011-08-24T00:00:00\", \"2011-08-25T00:00:00\", \"2011-08-26T00:00:00\", \"2011-08-29T00:00:00\", \"2011-08-30T00:00:00\", \"2011-08-31T00:00:00\", \"2011-09-01T00:00:00\", \"2011-09-02T00:00:00\", \"2011-09-06T00:00:00\", \"2011-09-07T00:00:00\", \"2011-09-08T00:00:00\", \"2011-09-09T00:00:00\", \"2011-09-12T00:00:00\", \"2011-09-13T00:00:00\", \"2011-09-14T00:00:00\", \"2011-09-15T00:00:00\", \"2011-09-16T00:00:00\", \"2011-09-19T00:00:00\", \"2011-09-20T00:00:00\", \"2011-09-21T00:00:00\", \"2011-09-22T00:00:00\", \"2011-09-23T00:00:00\", \"2011-09-26T00:00:00\", \"2011-09-27T00:00:00\", \"2011-09-28T00:00:00\", \"2011-09-29T00:00:00\", \"2011-09-30T00:00:00\", \"2011-10-03T00:00:00\", \"2011-10-04T00:00:00\", \"2011-10-05T00:00:00\", \"2011-10-06T00:00:00\", \"2011-10-07T00:00:00\", \"2011-10-10T00:00:00\", \"2011-10-11T00:00:00\", \"2011-10-12T00:00:00\", \"2011-10-13T00:00:00\", \"2011-10-14T00:00:00\", \"2011-10-17T00:00:00\", \"2011-10-18T00:00:00\", \"2011-10-19T00:00:00\", \"2011-10-20T00:00:00\", \"2011-10-21T00:00:00\", \"2011-10-24T00:00:00\", \"2011-10-25T00:00:00\", \"2011-10-26T00:00:00\", \"2011-10-27T00:00:00\", \"2011-10-28T00:00:00\", \"2011-10-31T00:00:00\", \"2011-11-01T00:00:00\", \"2011-11-02T00:00:00\", \"2011-11-03T00:00:00\", \"2011-11-04T00:00:00\", \"2011-11-07T00:00:00\", \"2011-11-08T00:00:00\", \"2011-11-09T00:00:00\", \"2011-11-10T00:00:00\", \"2011-11-11T00:00:00\", \"2011-11-14T00:00:00\", \"2011-11-15T00:00:00\", \"2011-11-16T00:00:00\", \"2011-11-17T00:00:00\", \"2011-11-18T00:00:00\", \"2011-11-21T00:00:00\", \"2011-11-22T00:00:00\", \"2011-11-23T00:00:00\", \"2011-11-25T00:00:00\", \"2011-11-28T00:00:00\", \"2011-11-29T00:00:00\", \"2011-11-30T00:00:00\", \"2011-12-01T00:00:00\", \"2011-12-02T00:00:00\", \"2011-12-05T00:00:00\", \"2011-12-06T00:00:00\", \"2011-12-07T00:00:00\", \"2011-12-08T00:00:00\", \"2011-12-09T00:00:00\", \"2011-12-12T00:00:00\", \"2011-12-13T00:00:00\", \"2011-12-14T00:00:00\", \"2011-12-15T00:00:00\", \"2011-12-16T00:00:00\", \"2011-12-19T00:00:00\", \"2011-12-20T00:00:00\", \"2011-12-21T00:00:00\", \"2011-12-22T00:00:00\", \"2011-12-23T00:00:00\", \"2011-12-27T00:00:00\", \"2011-12-28T00:00:00\", \"2011-12-29T00:00:00\", \"2011-12-30T00:00:00\", \"2012-01-03T00:00:00\", \"2012-01-04T00:00:00\", \"2012-01-05T00:00:00\", \"2012-01-06T00:00:00\", \"2012-01-09T00:00:00\", \"2012-01-10T00:00:00\", \"2012-01-11T00:00:00\", \"2012-01-12T00:00:00\", \"2012-01-13T00:00:00\", \"2012-01-17T00:00:00\", \"2012-01-18T00:00:00\", \"2012-01-19T00:00:00\", \"2012-01-20T00:00:00\", \"2012-01-23T00:00:00\", \"2012-01-24T00:00:00\", \"2012-01-25T00:00:00\", \"2012-01-26T00:00:00\", \"2012-01-27T00:00:00\", \"2012-01-30T00:00:00\", \"2012-01-31T00:00:00\", \"2012-02-01T00:00:00\", \"2012-02-02T00:00:00\", \"2012-02-03T00:00:00\", \"2012-02-06T00:00:00\", \"2012-02-07T00:00:00\", \"2012-02-08T00:00:00\", \"2012-02-09T00:00:00\", \"2012-02-10T00:00:00\", \"2012-02-13T00:00:00\", \"2012-02-14T00:00:00\", \"2012-02-15T00:00:00\", \"2012-02-16T00:00:00\", \"2012-02-17T00:00:00\", \"2012-02-21T00:00:00\", \"2012-02-22T00:00:00\", \"2012-02-23T00:00:00\", \"2012-02-24T00:00:00\", \"2012-02-27T00:00:00\", \"2012-02-28T00:00:00\", \"2012-02-29T00:00:00\", \"2012-03-01T00:00:00\", \"2012-03-02T00:00:00\", \"2012-03-05T00:00:00\", \"2012-03-06T00:00:00\", \"2012-03-07T00:00:00\", \"2012-03-08T00:00:00\", \"2012-03-09T00:00:00\", \"2012-03-12T00:00:00\", \"2012-03-13T00:00:00\", \"2012-03-14T00:00:00\", \"2012-03-15T00:00:00\", \"2012-03-16T00:00:00\", \"2012-03-19T00:00:00\", \"2012-03-20T00:00:00\", \"2012-03-21T00:00:00\", \"2012-03-22T00:00:00\", \"2012-03-23T00:00:00\", \"2012-03-26T00:00:00\", \"2012-03-27T00:00:00\", \"2012-03-28T00:00:00\", \"2012-03-29T00:00:00\", \"2012-03-30T00:00:00\", \"2012-04-02T00:00:00\", \"2012-04-03T00:00:00\", \"2012-04-04T00:00:00\", \"2012-04-05T00:00:00\", \"2012-04-09T00:00:00\", \"2012-04-10T00:00:00\", \"2012-04-11T00:00:00\", \"2012-04-12T00:00:00\", \"2012-04-13T00:00:00\", \"2012-04-16T00:00:00\", \"2012-04-17T00:00:00\", \"2012-04-18T00:00:00\", \"2012-04-19T00:00:00\", \"2012-04-20T00:00:00\", \"2012-04-23T00:00:00\", \"2012-04-24T00:00:00\", \"2012-04-25T00:00:00\", \"2012-04-26T00:00:00\", \"2012-04-27T00:00:00\", \"2012-04-30T00:00:00\", \"2012-05-01T00:00:00\", \"2012-05-02T00:00:00\", \"2012-05-03T00:00:00\", \"2012-05-04T00:00:00\", \"2012-05-07T00:00:00\", \"2012-05-08T00:00:00\", \"2012-05-09T00:00:00\", \"2012-05-10T00:00:00\", \"2012-05-11T00:00:00\", \"2012-05-14T00:00:00\", \"2012-05-15T00:00:00\", \"2012-05-16T00:00:00\", \"2012-05-17T00:00:00\", \"2012-05-18T00:00:00\", \"2012-05-21T00:00:00\", \"2012-05-22T00:00:00\", \"2012-05-23T00:00:00\", \"2012-05-24T00:00:00\", \"2012-05-25T00:00:00\", \"2012-05-29T00:00:00\", \"2012-05-30T00:00:00\", \"2012-05-31T00:00:00\", \"2012-06-01T00:00:00\", \"2012-06-04T00:00:00\", \"2012-06-05T00:00:00\", \"2012-06-06T00:00:00\", \"2012-06-07T00:00:00\", \"2012-06-08T00:00:00\", \"2012-06-11T00:00:00\", \"2012-06-12T00:00:00\", \"2012-06-13T00:00:00\", \"2012-06-14T00:00:00\", \"2012-06-15T00:00:00\", \"2012-06-18T00:00:00\", \"2012-06-19T00:00:00\", \"2012-06-20T00:00:00\", \"2012-06-21T00:00:00\", \"2012-06-22T00:00:00\", \"2012-06-25T00:00:00\", \"2012-06-26T00:00:00\", \"2012-06-27T00:00:00\", \"2012-06-28T00:00:00\", \"2012-06-29T00:00:00\", \"2012-07-02T00:00:00\", \"2012-07-03T00:00:00\", \"2012-07-05T00:00:00\", \"2012-07-06T00:00:00\", \"2012-07-09T00:00:00\", \"2012-07-10T00:00:00\", \"2012-07-11T00:00:00\", \"2012-07-12T00:00:00\", \"2012-07-13T00:00:00\", \"2012-07-16T00:00:00\", \"2012-07-17T00:00:00\", \"2012-07-18T00:00:00\", \"2012-07-19T00:00:00\", \"2012-07-20T00:00:00\", \"2012-07-23T00:00:00\", \"2012-07-24T00:00:00\", \"2012-07-25T00:00:00\", \"2012-07-26T00:00:00\", \"2012-07-27T00:00:00\", \"2012-07-30T00:00:00\", \"2012-07-31T00:00:00\", \"2012-08-01T00:00:00\", \"2012-08-02T00:00:00\", \"2012-08-03T00:00:00\", \"2012-08-06T00:00:00\", \"2012-08-07T00:00:00\", \"2012-08-08T00:00:00\", \"2012-08-09T00:00:00\", \"2012-08-10T00:00:00\", \"2012-08-13T00:00:00\", \"2012-08-14T00:00:00\", \"2012-08-15T00:00:00\", \"2012-08-16T00:00:00\", \"2012-08-17T00:00:00\", \"2012-08-20T00:00:00\", \"2012-08-21T00:00:00\", \"2012-08-22T00:00:00\", \"2012-08-23T00:00:00\", \"2012-08-24T00:00:00\", \"2012-08-27T00:00:00\", \"2012-08-28T00:00:00\", \"2012-08-29T00:00:00\", \"2012-08-30T00:00:00\", \"2012-08-31T00:00:00\", \"2012-09-04T00:00:00\", \"2012-09-05T00:00:00\", \"2012-09-06T00:00:00\", \"2012-09-07T00:00:00\", \"2012-09-10T00:00:00\", \"2012-09-11T00:00:00\", \"2012-09-12T00:00:00\", \"2012-09-13T00:00:00\", \"2012-09-14T00:00:00\", \"2012-09-17T00:00:00\", \"2012-09-18T00:00:00\", \"2012-09-19T00:00:00\", \"2012-09-20T00:00:00\", \"2012-09-21T00:00:00\", \"2012-09-24T00:00:00\", \"2012-09-25T00:00:00\", \"2012-09-26T00:00:00\", \"2012-09-27T00:00:00\", \"2012-09-28T00:00:00\", \"2012-10-01T00:00:00\", \"2012-10-02T00:00:00\", \"2012-10-03T00:00:00\", \"2012-10-04T00:00:00\", \"2012-10-05T00:00:00\", \"2012-10-08T00:00:00\", \"2012-10-09T00:00:00\", \"2012-10-10T00:00:00\", \"2012-10-11T00:00:00\", \"2012-10-12T00:00:00\", \"2012-10-15T00:00:00\", \"2012-10-16T00:00:00\", \"2012-10-17T00:00:00\", \"2012-10-18T00:00:00\", \"2012-10-19T00:00:00\", \"2012-10-22T00:00:00\", \"2012-10-23T00:00:00\", \"2012-10-24T00:00:00\", \"2012-10-25T00:00:00\", \"2012-10-26T00:00:00\", \"2012-10-31T00:00:00\", \"2012-11-01T00:00:00\", \"2012-11-02T00:00:00\", \"2012-11-05T00:00:00\", \"2012-11-06T00:00:00\", \"2012-11-07T00:00:00\", \"2012-11-08T00:00:00\", \"2012-11-09T00:00:00\", \"2012-11-12T00:00:00\", \"2012-11-13T00:00:00\", \"2012-11-14T00:00:00\", \"2012-11-15T00:00:00\", \"2012-11-16T00:00:00\", \"2012-11-19T00:00:00\", \"2012-11-20T00:00:00\", \"2012-11-21T00:00:00\", \"2012-11-23T00:00:00\", \"2012-11-26T00:00:00\", \"2012-11-27T00:00:00\", \"2012-11-28T00:00:00\", \"2012-11-29T00:00:00\", \"2012-11-30T00:00:00\", \"2012-12-03T00:00:00\", \"2012-12-04T00:00:00\", \"2012-12-05T00:00:00\", \"2012-12-06T00:00:00\", \"2012-12-07T00:00:00\", \"2012-12-10T00:00:00\", \"2012-12-11T00:00:00\", \"2012-12-12T00:00:00\", \"2012-12-13T00:00:00\", \"2012-12-14T00:00:00\", \"2012-12-17T00:00:00\", \"2012-12-18T00:00:00\", \"2012-12-19T00:00:00\", \"2012-12-20T00:00:00\", \"2012-12-21T00:00:00\", \"2012-12-24T00:00:00\", \"2012-12-26T00:00:00\", \"2012-12-27T00:00:00\", \"2012-12-28T00:00:00\", \"2012-12-31T00:00:00\", \"2013-01-02T00:00:00\", \"2013-01-03T00:00:00\", \"2013-01-04T00:00:00\", \"2013-01-07T00:00:00\", \"2013-01-08T00:00:00\", \"2013-01-09T00:00:00\", \"2013-01-10T00:00:00\", \"2013-01-11T00:00:00\", \"2013-01-14T00:00:00\", \"2013-01-15T00:00:00\", \"2013-01-16T00:00:00\", \"2013-01-17T00:00:00\", \"2013-01-18T00:00:00\", \"2013-01-22T00:00:00\", \"2013-01-23T00:00:00\", \"2013-01-24T00:00:00\", \"2013-01-25T00:00:00\", \"2013-01-28T00:00:00\", \"2013-01-29T00:00:00\", \"2013-01-30T00:00:00\", \"2013-01-31T00:00:00\", \"2013-02-01T00:00:00\", \"2013-02-04T00:00:00\", \"2013-02-05T00:00:00\", \"2013-02-06T00:00:00\", \"2013-02-07T00:00:00\", \"2013-02-08T00:00:00\", \"2013-02-11T00:00:00\", \"2013-02-12T00:00:00\", \"2013-02-13T00:00:00\", \"2013-02-14T00:00:00\", \"2013-02-15T00:00:00\", \"2013-02-19T00:00:00\", \"2013-02-20T00:00:00\", \"2013-02-21T00:00:00\", \"2013-02-22T00:00:00\", \"2013-02-25T00:00:00\", \"2013-02-26T00:00:00\", \"2013-02-27T00:00:00\", \"2013-02-28T00:00:00\", \"2013-03-01T00:00:00\", \"2013-03-04T00:00:00\", \"2013-03-05T00:00:00\", \"2013-03-06T00:00:00\", \"2013-03-07T00:00:00\", \"2013-03-08T00:00:00\", \"2013-03-11T00:00:00\", \"2013-03-12T00:00:00\", \"2013-03-13T00:00:00\", \"2013-03-14T00:00:00\", \"2013-03-15T00:00:00\", \"2013-03-18T00:00:00\", \"2013-03-19T00:00:00\", \"2013-03-20T00:00:00\", \"2013-03-21T00:00:00\", \"2013-03-22T00:00:00\", \"2013-03-25T00:00:00\", \"2013-03-26T00:00:00\", \"2013-03-27T00:00:00\", \"2013-03-28T00:00:00\", \"2013-04-01T00:00:00\", \"2013-04-02T00:00:00\", \"2013-04-03T00:00:00\", \"2013-04-04T00:00:00\", \"2013-04-05T00:00:00\", \"2013-04-08T00:00:00\", \"2013-04-09T00:00:00\", \"2013-04-10T00:00:00\", \"2013-04-11T00:00:00\", \"2013-04-12T00:00:00\", \"2013-04-15T00:00:00\", \"2013-04-16T00:00:00\", \"2013-04-17T00:00:00\", \"2013-04-18T00:00:00\", \"2013-04-19T00:00:00\", \"2013-04-22T00:00:00\", \"2013-04-23T00:00:00\", \"2013-04-24T00:00:00\", \"2013-04-25T00:00:00\", \"2013-04-26T00:00:00\", \"2013-04-29T00:00:00\", \"2013-04-30T00:00:00\", \"2013-05-01T00:00:00\", \"2013-05-02T00:00:00\", \"2013-05-03T00:00:00\", \"2013-05-06T00:00:00\", \"2013-05-07T00:00:00\", \"2013-05-08T00:00:00\", \"2013-05-09T00:00:00\", \"2013-05-10T00:00:00\", \"2013-05-13T00:00:00\", \"2013-05-14T00:00:00\", \"2013-05-15T00:00:00\", \"2013-05-16T00:00:00\", \"2013-05-17T00:00:00\", \"2013-05-20T00:00:00\", \"2013-05-21T00:00:00\", \"2013-05-22T00:00:00\", \"2013-05-23T00:00:00\", \"2013-05-24T00:00:00\", \"2013-05-28T00:00:00\", \"2013-05-29T00:00:00\", \"2013-05-30T00:00:00\", \"2013-05-31T00:00:00\", \"2013-06-03T00:00:00\", \"2013-06-04T00:00:00\", \"2013-06-05T00:00:00\", \"2013-06-06T00:00:00\", \"2013-06-07T00:00:00\", \"2013-06-10T00:00:00\", \"2013-06-11T00:00:00\", \"2013-06-12T00:00:00\", \"2013-06-13T00:00:00\", \"2013-06-14T00:00:00\", \"2013-06-17T00:00:00\", \"2013-06-18T00:00:00\", \"2013-06-19T00:00:00\", \"2013-06-20T00:00:00\", \"2013-06-21T00:00:00\", \"2013-06-24T00:00:00\", \"2013-06-25T00:00:00\", \"2013-06-26T00:00:00\", \"2013-06-27T00:00:00\", \"2013-06-28T00:00:00\", \"2013-07-01T00:00:00\", \"2013-07-02T00:00:00\", \"2013-07-03T00:00:00\", \"2013-07-05T00:00:00\", \"2013-07-08T00:00:00\", \"2013-07-09T00:00:00\", \"2013-07-10T00:00:00\", \"2013-07-11T00:00:00\", \"2013-07-12T00:00:00\", \"2013-07-15T00:00:00\", \"2013-07-16T00:00:00\", \"2013-07-17T00:00:00\", \"2013-07-18T00:00:00\", \"2013-07-19T00:00:00\", \"2013-07-22T00:00:00\", \"2013-07-23T00:00:00\", \"2013-07-24T00:00:00\", \"2013-07-25T00:00:00\", \"2013-07-26T00:00:00\", \"2013-07-29T00:00:00\", \"2013-07-30T00:00:00\", \"2013-07-31T00:00:00\", \"2013-08-01T00:00:00\", \"2013-08-02T00:00:00\", \"2013-08-05T00:00:00\", \"2013-08-06T00:00:00\", \"2013-08-07T00:00:00\", \"2013-08-08T00:00:00\", \"2013-08-09T00:00:00\", \"2013-08-12T00:00:00\", \"2013-08-13T00:00:00\", \"2013-08-14T00:00:00\", \"2013-08-15T00:00:00\", \"2013-08-16T00:00:00\", \"2013-08-19T00:00:00\", \"2013-08-20T00:00:00\", \"2013-08-21T00:00:00\", \"2013-08-22T00:00:00\", \"2013-08-23T00:00:00\", \"2013-08-26T00:00:00\", \"2013-08-27T00:00:00\", \"2013-08-28T00:00:00\", \"2013-08-29T00:00:00\", \"2013-08-30T00:00:00\", \"2013-09-03T00:00:00\", \"2013-09-04T00:00:00\", \"2013-09-05T00:00:00\", \"2013-09-06T00:00:00\", \"2013-09-09T00:00:00\", \"2013-09-10T00:00:00\", \"2013-09-11T00:00:00\", \"2013-09-12T00:00:00\", \"2013-09-13T00:00:00\", \"2013-09-16T00:00:00\", \"2013-09-17T00:00:00\", \"2013-09-18T00:00:00\", \"2013-09-19T00:00:00\", \"2013-09-20T00:00:00\", \"2013-09-23T00:00:00\", \"2013-09-24T00:00:00\", \"2013-09-25T00:00:00\", \"2013-09-26T00:00:00\", \"2013-09-27T00:00:00\", \"2013-09-30T00:00:00\", \"2013-10-01T00:00:00\", \"2013-10-02T00:00:00\", \"2013-10-03T00:00:00\", \"2013-10-04T00:00:00\", \"2013-10-07T00:00:00\", \"2013-10-08T00:00:00\", \"2013-10-09T00:00:00\", \"2013-10-10T00:00:00\", \"2013-10-11T00:00:00\", \"2013-10-14T00:00:00\", \"2013-10-15T00:00:00\", \"2013-10-16T00:00:00\", \"2013-10-17T00:00:00\", \"2013-10-18T00:00:00\", \"2013-10-21T00:00:00\", \"2013-10-22T00:00:00\", \"2013-10-23T00:00:00\", \"2013-10-24T00:00:00\", \"2013-10-25T00:00:00\", \"2013-10-28T00:00:00\", \"2013-10-29T00:00:00\", \"2013-10-30T00:00:00\", \"2013-10-31T00:00:00\", \"2013-11-01T00:00:00\", \"2013-11-04T00:00:00\", \"2013-11-05T00:00:00\", \"2013-11-06T00:00:00\", \"2013-11-07T00:00:00\", \"2013-11-08T00:00:00\", \"2013-11-11T00:00:00\", \"2013-11-12T00:00:00\", \"2013-11-13T00:00:00\", \"2013-11-14T00:00:00\", \"2013-11-15T00:00:00\", \"2013-11-18T00:00:00\", \"2013-11-19T00:00:00\", \"2013-11-20T00:00:00\", \"2013-11-21T00:00:00\", \"2013-11-22T00:00:00\", \"2013-11-25T00:00:00\", \"2013-11-26T00:00:00\", \"2013-11-27T00:00:00\", \"2013-11-29T00:00:00\", \"2013-12-02T00:00:00\", \"2013-12-03T00:00:00\", \"2013-12-04T00:00:00\", \"2013-12-05T00:00:00\", \"2013-12-06T00:00:00\", \"2013-12-09T00:00:00\", \"2013-12-10T00:00:00\", \"2013-12-11T00:00:00\", \"2013-12-12T00:00:00\", \"2013-12-13T00:00:00\", \"2013-12-16T00:00:00\", \"2013-12-17T00:00:00\", \"2013-12-18T00:00:00\", \"2013-12-19T00:00:00\", \"2013-12-20T00:00:00\", \"2013-12-23T00:00:00\", \"2013-12-24T00:00:00\", \"2013-12-26T00:00:00\", \"2013-12-27T00:00:00\", \"2013-12-30T00:00:00\", \"2013-12-31T00:00:00\", \"2014-01-02T00:00:00\", \"2014-01-03T00:00:00\", \"2014-01-06T00:00:00\", \"2014-01-07T00:00:00\", \"2014-01-08T00:00:00\", \"2014-01-09T00:00:00\", \"2014-01-10T00:00:00\", \"2014-01-13T00:00:00\", \"2014-01-14T00:00:00\", \"2014-01-15T00:00:00\", \"2014-01-16T00:00:00\", \"2014-01-17T00:00:00\", \"2014-01-21T00:00:00\", \"2014-01-22T00:00:00\", \"2014-01-23T00:00:00\", \"2014-01-24T00:00:00\", \"2014-01-27T00:00:00\", \"2014-01-28T00:00:00\", \"2014-01-29T00:00:00\", \"2014-01-30T00:00:00\", \"2014-01-31T00:00:00\", \"2014-02-03T00:00:00\", \"2014-02-04T00:00:00\", \"2014-02-05T00:00:00\", \"2014-02-06T00:00:00\", \"2014-02-07T00:00:00\", \"2014-02-10T00:00:00\", \"2014-02-11T00:00:00\", \"2014-02-12T00:00:00\", \"2014-02-13T00:00:00\", \"2014-02-14T00:00:00\", \"2014-02-18T00:00:00\", \"2014-02-19T00:00:00\", \"2014-02-20T00:00:00\", \"2014-02-21T00:00:00\", \"2014-02-24T00:00:00\", \"2014-02-25T00:00:00\", \"2014-02-26T00:00:00\", \"2014-02-27T00:00:00\", \"2014-02-28T00:00:00\", \"2014-03-03T00:00:00\", \"2014-03-04T00:00:00\", \"2014-03-05T00:00:00\", \"2014-03-06T00:00:00\", \"2014-03-07T00:00:00\", \"2014-03-10T00:00:00\", \"2014-03-11T00:00:00\", \"2014-03-12T00:00:00\", \"2014-03-13T00:00:00\", \"2014-03-14T00:00:00\", \"2014-03-17T00:00:00\", \"2014-03-18T00:00:00\", \"2014-03-19T00:00:00\", \"2014-03-20T00:00:00\", \"2014-03-21T00:00:00\", \"2014-03-24T00:00:00\", \"2014-03-25T00:00:00\", \"2014-03-26T00:00:00\", \"2014-03-27T00:00:00\", \"2014-03-28T00:00:00\", \"2014-03-31T00:00:00\", \"2014-04-01T00:00:00\", \"2014-04-02T00:00:00\", \"2014-04-03T00:00:00\", \"2014-04-04T00:00:00\", \"2014-04-07T00:00:00\", \"2014-04-08T00:00:00\", \"2014-04-09T00:00:00\", \"2014-04-10T00:00:00\", \"2014-04-11T00:00:00\", \"2014-04-14T00:00:00\", \"2014-04-15T00:00:00\", \"2014-04-16T00:00:00\", \"2014-04-17T00:00:00\", \"2014-04-21T00:00:00\", \"2014-04-22T00:00:00\", \"2014-04-23T00:00:00\", \"2014-04-24T00:00:00\", \"2014-04-25T00:00:00\", \"2014-04-28T00:00:00\", \"2014-04-29T00:00:00\", \"2014-04-30T00:00:00\", \"2014-05-01T00:00:00\", \"2014-05-02T00:00:00\", \"2014-05-05T00:00:00\", \"2014-05-06T00:00:00\", \"2014-05-07T00:00:00\", \"2014-05-08T00:00:00\", \"2014-05-09T00:00:00\", \"2014-05-12T00:00:00\", \"2014-05-13T00:00:00\", \"2014-05-14T00:00:00\", \"2014-05-15T00:00:00\", \"2014-05-16T00:00:00\", \"2014-05-19T00:00:00\", \"2014-05-20T00:00:00\", \"2014-05-21T00:00:00\", \"2014-05-22T00:00:00\", \"2014-05-23T00:00:00\", \"2014-05-27T00:00:00\", \"2014-05-28T00:00:00\", \"2014-05-29T00:00:00\", \"2014-05-30T00:00:00\", \"2014-06-02T00:00:00\", \"2014-06-03T00:00:00\", \"2014-06-04T00:00:00\", \"2014-06-05T00:00:00\", \"2014-06-06T00:00:00\", \"2014-06-09T00:00:00\", \"2014-06-10T00:00:00\", \"2014-06-11T00:00:00\", \"2014-06-12T00:00:00\", \"2014-06-13T00:00:00\", \"2014-06-16T00:00:00\", \"2014-06-17T00:00:00\", \"2014-06-18T00:00:00\", \"2014-06-19T00:00:00\", \"2014-06-20T00:00:00\", \"2014-06-23T00:00:00\", \"2014-06-24T00:00:00\", \"2014-06-25T00:00:00\", \"2014-06-26T00:00:00\", \"2014-06-27T00:00:00\", \"2014-06-30T00:00:00\", \"2014-07-01T00:00:00\", \"2014-07-02T00:00:00\", \"2014-07-03T00:00:00\", \"2014-07-07T00:00:00\", \"2014-07-08T00:00:00\", \"2014-07-09T00:00:00\", \"2014-07-10T00:00:00\", \"2014-07-11T00:00:00\", \"2014-07-14T00:00:00\", \"2014-07-15T00:00:00\", \"2014-07-16T00:00:00\", \"2014-07-17T00:00:00\", \"2014-07-18T00:00:00\", \"2014-07-21T00:00:00\", \"2014-07-22T00:00:00\", \"2014-07-23T00:00:00\", \"2014-07-24T00:00:00\", \"2014-07-25T00:00:00\", \"2014-07-28T00:00:00\", \"2014-07-29T00:00:00\", \"2014-07-30T00:00:00\", \"2014-07-31T00:00:00\", \"2014-08-01T00:00:00\", \"2014-08-04T00:00:00\", \"2014-08-05T00:00:00\", \"2014-08-06T00:00:00\", \"2014-08-07T00:00:00\", \"2014-08-08T00:00:00\", \"2014-08-11T00:00:00\", \"2014-08-12T00:00:00\", \"2014-08-13T00:00:00\", \"2014-08-14T00:00:00\", \"2014-08-15T00:00:00\", \"2014-08-18T00:00:00\", \"2014-08-19T00:00:00\", \"2014-08-20T00:00:00\", \"2014-08-21T00:00:00\", \"2014-08-22T00:00:00\", \"2014-08-25T00:00:00\", \"2014-08-26T00:00:00\", \"2014-08-27T00:00:00\", \"2014-08-28T00:00:00\", \"2014-08-29T00:00:00\", \"2014-09-02T00:00:00\", \"2014-09-03T00:00:00\", \"2014-09-04T00:00:00\", \"2014-09-05T00:00:00\", \"2014-09-08T00:00:00\", \"2014-09-09T00:00:00\", \"2014-09-10T00:00:00\", \"2014-09-11T00:00:00\", \"2014-09-12T00:00:00\", \"2014-09-15T00:00:00\", \"2014-09-16T00:00:00\", \"2014-09-17T00:00:00\", \"2014-09-18T00:00:00\", \"2014-09-19T00:00:00\", \"2014-09-22T00:00:00\", \"2014-09-23T00:00:00\", \"2014-09-24T00:00:00\", \"2014-09-25T00:00:00\", \"2014-09-26T00:00:00\", \"2014-09-29T00:00:00\", \"2014-09-30T00:00:00\", \"2014-10-01T00:00:00\", \"2014-10-02T00:00:00\", \"2014-10-03T00:00:00\", \"2014-10-06T00:00:00\", \"2014-10-07T00:00:00\", \"2014-10-08T00:00:00\", \"2014-10-09T00:00:00\", \"2014-10-10T00:00:00\", \"2014-10-13T00:00:00\", \"2014-10-14T00:00:00\", \"2014-10-15T00:00:00\", \"2014-10-16T00:00:00\", \"2014-10-17T00:00:00\", \"2014-10-20T00:00:00\", \"2014-10-21T00:00:00\", \"2014-10-22T00:00:00\", \"2014-10-23T00:00:00\", \"2014-10-24T00:00:00\", \"2014-10-27T00:00:00\", \"2014-10-28T00:00:00\", \"2014-10-29T00:00:00\", \"2014-10-30T00:00:00\", \"2014-10-31T00:00:00\", \"2014-11-03T00:00:00\", \"2014-11-04T00:00:00\", \"2014-11-05T00:00:00\", \"2014-11-06T00:00:00\", \"2014-11-07T00:00:00\", \"2014-11-10T00:00:00\", \"2014-11-11T00:00:00\", \"2014-11-12T00:00:00\", \"2014-11-13T00:00:00\", \"2014-11-14T00:00:00\", \"2014-11-17T00:00:00\", \"2014-11-18T00:00:00\", \"2014-11-19T00:00:00\", \"2014-11-20T00:00:00\", \"2014-11-21T00:00:00\", \"2014-11-24T00:00:00\", \"2014-11-25T00:00:00\", \"2014-11-26T00:00:00\", \"2014-11-28T00:00:00\", \"2014-12-01T00:00:00\", \"2014-12-02T00:00:00\", \"2014-12-03T00:00:00\", \"2014-12-04T00:00:00\", \"2014-12-05T00:00:00\", \"2014-12-08T00:00:00\", \"2014-12-09T00:00:00\", \"2014-12-10T00:00:00\", \"2014-12-11T00:00:00\", \"2014-12-12T00:00:00\", \"2014-12-15T00:00:00\", \"2014-12-16T00:00:00\", \"2014-12-17T00:00:00\", \"2014-12-18T00:00:00\", \"2014-12-19T00:00:00\", \"2014-12-22T00:00:00\", \"2014-12-23T00:00:00\", \"2014-12-24T00:00:00\", \"2014-12-26T00:00:00\", \"2014-12-29T00:00:00\", \"2014-12-30T00:00:00\", \"2014-12-31T00:00:00\", \"2015-01-02T00:00:00\", \"2015-01-05T00:00:00\", \"2015-01-06T00:00:00\", \"2015-01-07T00:00:00\", \"2015-01-08T00:00:00\", \"2015-01-09T00:00:00\", \"2015-01-12T00:00:00\", \"2015-01-13T00:00:00\", \"2015-01-14T00:00:00\", \"2015-01-15T00:00:00\", \"2015-01-16T00:00:00\", \"2015-01-20T00:00:00\", \"2015-01-21T00:00:00\", \"2015-01-22T00:00:00\", \"2015-01-23T00:00:00\", \"2015-01-26T00:00:00\", \"2015-01-27T00:00:00\", \"2015-01-28T00:00:00\", \"2015-01-29T00:00:00\", \"2015-01-30T00:00:00\", \"2015-02-02T00:00:00\", \"2015-02-03T00:00:00\", \"2015-02-04T00:00:00\", \"2015-02-05T00:00:00\", \"2015-02-06T00:00:00\", \"2015-02-09T00:00:00\", \"2015-02-10T00:00:00\", \"2015-02-11T00:00:00\", \"2015-02-12T00:00:00\", \"2015-02-13T00:00:00\", \"2015-02-17T00:00:00\", \"2015-02-18T00:00:00\", \"2015-02-19T00:00:00\", \"2015-02-20T00:00:00\", \"2015-02-23T00:00:00\", \"2015-02-24T00:00:00\", \"2015-02-25T00:00:00\", \"2015-02-26T00:00:00\", \"2015-02-27T00:00:00\", \"2015-03-02T00:00:00\", \"2015-03-03T00:00:00\", \"2015-03-04T00:00:00\", \"2015-03-05T00:00:00\", \"2015-03-06T00:00:00\", \"2015-03-09T00:00:00\", \"2015-03-10T00:00:00\", \"2015-03-11T00:00:00\", \"2015-03-12T00:00:00\", \"2015-03-13T00:00:00\", \"2015-03-16T00:00:00\", \"2015-03-17T00:00:00\", \"2015-03-18T00:00:00\", \"2015-03-19T00:00:00\", \"2015-03-20T00:00:00\", \"2015-03-23T00:00:00\", \"2015-03-24T00:00:00\", \"2015-03-25T00:00:00\", \"2015-03-26T00:00:00\", \"2015-03-27T00:00:00\", \"2015-03-30T00:00:00\", \"2015-03-31T00:00:00\", \"2015-04-01T00:00:00\", \"2015-04-02T00:00:00\", \"2015-04-06T00:00:00\", \"2015-04-07T00:00:00\", \"2015-04-08T00:00:00\", \"2015-04-09T00:00:00\", \"2015-04-10T00:00:00\", \"2015-04-13T00:00:00\", \"2015-04-14T00:00:00\", \"2015-04-15T00:00:00\", \"2015-04-16T00:00:00\", \"2015-04-17T00:00:00\", \"2015-04-20T00:00:00\", \"2015-04-21T00:00:00\", \"2015-04-22T00:00:00\", \"2015-04-23T00:00:00\", \"2015-04-24T00:00:00\", \"2015-04-27T00:00:00\", \"2015-04-28T00:00:00\", \"2015-04-29T00:00:00\", \"2015-04-30T00:00:00\", \"2015-05-01T00:00:00\", \"2015-05-04T00:00:00\", \"2015-05-05T00:00:00\", \"2015-05-06T00:00:00\", \"2015-05-07T00:00:00\", \"2015-05-08T00:00:00\", \"2015-05-11T00:00:00\", \"2015-05-12T00:00:00\", \"2015-05-13T00:00:00\", \"2015-05-14T00:00:00\", \"2015-05-15T00:00:00\", \"2015-05-18T00:00:00\", \"2015-05-19T00:00:00\", \"2015-05-20T00:00:00\", \"2015-05-21T00:00:00\", \"2015-05-22T00:00:00\", \"2015-05-26T00:00:00\", \"2015-05-27T00:00:00\", \"2015-05-28T00:00:00\", \"2015-05-29T00:00:00\", \"2015-06-01T00:00:00\", \"2015-06-02T00:00:00\", \"2015-06-03T00:00:00\", \"2015-06-04T00:00:00\", \"2015-06-05T00:00:00\", \"2015-06-08T00:00:00\", \"2015-06-09T00:00:00\", \"2015-06-10T00:00:00\", \"2015-06-11T00:00:00\", \"2015-06-12T00:00:00\", \"2015-06-15T00:00:00\", \"2015-06-16T00:00:00\", \"2015-06-17T00:00:00\", \"2015-06-18T00:00:00\", \"2015-06-19T00:00:00\", \"2015-06-22T00:00:00\", \"2015-06-23T00:00:00\", \"2015-06-24T00:00:00\", \"2015-06-25T00:00:00\", \"2015-06-26T00:00:00\", \"2015-06-29T00:00:00\", \"2015-06-30T00:00:00\", \"2015-07-01T00:00:00\", \"2015-07-02T00:00:00\", \"2015-07-06T00:00:00\", \"2015-07-07T00:00:00\", \"2015-07-08T00:00:00\", \"2015-07-09T00:00:00\", \"2015-07-10T00:00:00\", \"2015-07-13T00:00:00\", \"2015-07-14T00:00:00\", \"2015-07-15T00:00:00\", \"2015-07-16T00:00:00\", \"2015-07-17T00:00:00\", \"2015-07-20T00:00:00\", \"2015-07-21T00:00:00\", \"2015-07-22T00:00:00\", \"2015-07-23T00:00:00\", \"2015-07-24T00:00:00\", \"2015-07-27T00:00:00\", \"2015-07-28T00:00:00\", \"2015-07-29T00:00:00\", \"2015-07-30T00:00:00\", \"2015-07-31T00:00:00\", \"2015-08-03T00:00:00\", \"2015-08-04T00:00:00\", \"2015-08-05T00:00:00\", \"2015-08-06T00:00:00\", \"2015-08-07T00:00:00\", \"2015-08-10T00:00:00\", \"2015-08-11T00:00:00\", \"2015-08-12T00:00:00\", \"2015-08-13T00:00:00\", \"2015-08-14T00:00:00\", \"2015-08-17T00:00:00\", \"2015-08-18T00:00:00\", \"2015-08-19T00:00:00\", \"2015-08-20T00:00:00\", \"2015-08-21T00:00:00\", \"2015-08-24T00:00:00\", \"2015-08-25T00:00:00\", \"2015-08-26T00:00:00\", \"2015-08-27T00:00:00\", \"2015-08-28T00:00:00\", \"2015-08-31T00:00:00\", \"2015-09-01T00:00:00\", \"2015-09-02T00:00:00\", \"2015-09-03T00:00:00\", \"2015-09-04T00:00:00\", \"2015-09-08T00:00:00\", \"2015-09-09T00:00:00\", \"2015-09-10T00:00:00\", \"2015-09-11T00:00:00\", \"2015-09-14T00:00:00\", \"2015-09-15T00:00:00\", \"2015-09-16T00:00:00\", \"2015-09-17T00:00:00\", \"2015-09-18T00:00:00\", \"2015-09-21T00:00:00\", \"2015-09-22T00:00:00\", \"2015-09-23T00:00:00\", \"2015-09-24T00:00:00\", \"2015-09-25T00:00:00\", \"2015-09-28T00:00:00\", \"2015-09-29T00:00:00\", \"2015-09-30T00:00:00\", \"2015-10-01T00:00:00\", \"2015-10-02T00:00:00\", \"2015-10-05T00:00:00\", \"2015-10-06T00:00:00\", \"2015-10-07T00:00:00\", \"2015-10-08T00:00:00\", \"2015-10-09T00:00:00\", \"2015-10-12T00:00:00\", \"2015-10-13T00:00:00\", \"2015-10-14T00:00:00\", \"2015-10-15T00:00:00\", \"2015-10-16T00:00:00\", \"2015-10-19T00:00:00\", \"2015-10-20T00:00:00\", \"2015-10-21T00:00:00\", \"2015-10-22T00:00:00\", \"2015-10-23T00:00:00\", \"2015-10-26T00:00:00\", \"2015-10-27T00:00:00\", \"2015-10-28T00:00:00\", \"2015-10-29T00:00:00\", \"2015-10-30T00:00:00\", \"2015-11-02T00:00:00\", \"2015-11-03T00:00:00\", \"2015-11-04T00:00:00\", \"2015-11-05T00:00:00\", \"2015-11-06T00:00:00\", \"2015-11-09T00:00:00\", \"2015-11-10T00:00:00\", \"2015-11-11T00:00:00\", \"2015-11-12T00:00:00\", \"2015-11-13T00:00:00\", \"2015-11-16T00:00:00\", \"2015-11-17T00:00:00\", \"2015-11-18T00:00:00\", \"2015-11-19T00:00:00\", \"2015-11-20T00:00:00\", \"2015-11-23T00:00:00\", \"2015-11-24T00:00:00\", \"2015-11-25T00:00:00\", \"2015-11-27T00:00:00\", \"2015-11-30T00:00:00\", \"2015-12-01T00:00:00\", \"2015-12-02T00:00:00\", \"2015-12-03T00:00:00\", \"2015-12-04T00:00:00\", \"2015-12-07T00:00:00\", \"2015-12-08T00:00:00\", \"2015-12-09T00:00:00\", \"2015-12-10T00:00:00\", \"2015-12-11T00:00:00\", \"2015-12-14T00:00:00\", \"2015-12-15T00:00:00\", \"2015-12-16T00:00:00\", \"2015-12-17T00:00:00\", \"2015-12-18T00:00:00\", \"2015-12-21T00:00:00\", \"2015-12-22T00:00:00\", \"2015-12-23T00:00:00\", \"2015-12-24T00:00:00\", \"2015-12-28T00:00:00\", \"2015-12-29T00:00:00\", \"2015-12-30T00:00:00\", \"2015-12-31T00:00:00\", \"2016-01-04T00:00:00\", \"2016-01-05T00:00:00\", \"2016-01-06T00:00:00\", \"2016-01-07T00:00:00\", \"2016-01-08T00:00:00\", \"2016-01-11T00:00:00\", \"2016-01-12T00:00:00\", \"2016-01-13T00:00:00\", \"2016-01-14T00:00:00\", \"2016-01-15T00:00:00\", \"2016-01-19T00:00:00\", \"2016-01-20T00:00:00\", \"2016-01-21T00:00:00\", \"2016-01-22T00:00:00\", \"2016-01-25T00:00:00\", \"2016-01-26T00:00:00\", \"2016-01-27T00:00:00\", \"2016-01-28T00:00:00\", \"2016-01-29T00:00:00\", \"2016-02-01T00:00:00\", \"2016-02-02T00:00:00\", \"2016-02-03T00:00:00\", \"2016-02-04T00:00:00\", \"2016-02-05T00:00:00\", \"2016-02-08T00:00:00\", \"2016-02-09T00:00:00\", \"2016-02-10T00:00:00\", \"2016-02-11T00:00:00\", \"2016-02-12T00:00:00\", \"2016-02-16T00:00:00\", \"2016-02-17T00:00:00\", \"2016-02-18T00:00:00\", \"2016-02-19T00:00:00\", \"2016-02-22T00:00:00\", \"2016-02-23T00:00:00\", \"2016-02-24T00:00:00\", \"2016-02-25T00:00:00\", \"2016-02-26T00:00:00\", \"2016-02-29T00:00:00\", \"2016-03-01T00:00:00\", \"2016-03-02T00:00:00\", \"2016-03-03T00:00:00\", \"2016-03-04T00:00:00\", \"2016-03-07T00:00:00\", \"2016-03-08T00:00:00\", \"2016-03-09T00:00:00\", \"2016-03-10T00:00:00\", \"2016-03-11T00:00:00\", \"2016-03-14T00:00:00\", \"2016-03-15T00:00:00\", \"2016-03-16T00:00:00\", \"2016-03-17T00:00:00\", \"2016-03-18T00:00:00\", \"2016-03-21T00:00:00\", \"2016-03-22T00:00:00\", \"2016-03-23T00:00:00\", \"2016-03-24T00:00:00\", \"2016-03-28T00:00:00\", \"2016-03-29T00:00:00\", \"2016-03-30T00:00:00\", \"2016-03-31T00:00:00\", \"2016-04-01T00:00:00\", \"2016-04-04T00:00:00\", \"2016-04-05T00:00:00\", \"2016-04-06T00:00:00\", \"2016-04-07T00:00:00\", \"2016-04-08T00:00:00\", \"2016-04-11T00:00:00\", \"2016-04-12T00:00:00\", \"2016-04-13T00:00:00\", \"2016-04-14T00:00:00\", \"2016-04-15T00:00:00\", \"2016-04-18T00:00:00\", \"2016-04-19T00:00:00\", \"2016-04-20T00:00:00\", \"2016-04-21T00:00:00\", \"2016-04-22T00:00:00\", \"2016-04-25T00:00:00\", \"2016-04-26T00:00:00\", \"2016-04-27T00:00:00\", \"2016-04-28T00:00:00\", \"2016-04-29T00:00:00\", \"2016-05-02T00:00:00\", \"2016-05-03T00:00:00\", \"2016-05-04T00:00:00\", \"2016-05-05T00:00:00\", \"2016-05-06T00:00:00\", \"2016-05-09T00:00:00\", \"2016-05-10T00:00:00\", \"2016-05-11T00:00:00\", \"2016-05-12T00:00:00\", \"2016-05-13T00:00:00\", \"2016-05-16T00:00:00\", \"2016-05-17T00:00:00\", \"2016-05-18T00:00:00\", \"2016-05-19T00:00:00\", \"2016-05-20T00:00:00\", \"2016-05-23T00:00:00\", \"2016-05-24T00:00:00\", \"2016-05-25T00:00:00\", \"2016-05-26T00:00:00\", \"2016-05-27T00:00:00\", \"2016-05-31T00:00:00\", \"2016-06-01T00:00:00\", \"2016-06-02T00:00:00\", \"2016-06-03T00:00:00\", \"2016-06-06T00:00:00\", \"2016-06-07T00:00:00\", \"2016-06-08T00:00:00\", \"2016-06-09T00:00:00\", \"2016-06-10T00:00:00\", \"2016-06-13T00:00:00\", \"2016-06-14T00:00:00\", \"2016-06-15T00:00:00\", \"2016-06-16T00:00:00\"], \"xaxis\": \"x2\", \"y\": [43.35612106323242, 43.52299499511719, 43.23692321777344, 42.879337310791016, 42.97468566894531, 42.69655990600586, 43.141571044921875, 43.58656692504883, 43.53889083862305, 43.55479049682617, 43.81703186035156, 43.72960662841797, 44.49247360229492, 44.285865783691406, 44.540157318115234, 45.50167465209961, 45.549346923828125, 45.748008728027344, 45.056678771972656, 44.5560417175293, 44.76264572143555, 44.389163970947266, 44.43684005737305, 44.52426528930664, 44.5560417175293, 44.802391052246094, 45.08051681518555, 44.174617767333984, 44.25407791137695, 43.54684066772461, 43.666038513183594, 43.34818649291992, 43.50710678100586, 44.00774383544922, 42.64888000488281, 42.140316009521484, 41.39333724975586, 41.1231575012207, 41.30592727661133, 41.37744903564453, 41.29798126220703, 41.329769134521484, 41.37744903564453, 41.33770751953125, 41.67146301269531, 42.1475944519043, 42.131587982177734, 42.08357620239258, 41.867523193359375, 41.65945816040039, 41.11530685424805, 41.1073112487793, 41.22733688354492, 41.54741668701172, 41.611446380615234, 41.32337188720703, 42.08357620239258, 41.89152145385742, 41.76348114013672, 41.81951904296875, 41.8995361328125, 41.65145492553711, 41.715476989746094, 42.131587982177734, 42.203617095947266, 42.395668029785156, 42.411659240722656, 42.0435676574707, 42.267616271972656, 42.82777786254883, 42.91580581665039, 42.8117790222168, 42.851783752441406, 42.659732818603516, 42.691734313964844, 42.963829040527344, 42.87580108642578, 42.70774459838867, 43.13986587524414, 43.547977447509766, 43.764041900634766, 43.99609375, 44.044124603271484, 44.38019943237305, 44.30818557739258, 44.068115234375, 44.028106689453125, 44.09211730957031, 44.436222076416016, 44.44024658203125, 44.8832893371582, 44.8832893371582, 45.157161712646484, 44.73828887939453, 44.448307037353516, 44.6899528503418, 44.53691101074219, 44.48051452636719, 44.1260871887207, 43.94888687133789, 43.99721145629883, 44.061668395996094, 44.48051452636719, 43.73945617675781, 43.13531494140625, 43.22391891479492, 43.304481506347656, 43.36085891723633, 43.24808883666992, 43.19170379638672, 42.46674346923828, 42.386192321777344, 42.619789123535156, 42.1445426940918, 42.55533981323242, 42.547279357910156, 42.72450637817383, 42.9258918762207, 42.70034408569336, 42.9258918762207, 42.21702575683594, 42.12036895751953, 42.31369400024414, 42.40230941772461, 42.8050537109375, 43.10308837890625, 43.006431579589844, 43.27224349975586, 43.89250183105469, 43.5622444152832, 43.39308547973633, 43.449462890625, 43.513916015625, 43.19976043701172, 43.19976043701172, 42.95005416870117, 43.473628997802734, 43.4091911315918, 43.876399993896484, 43.91667175292969, 43.473628997802734, 43.16753005981445, 42.893653869628906, 42.684226989746094, 42.458683013916016, 42.386192321777344, 41.62900161743164, 41.306785583496094, 40.356285095214844, 40.960418701171875, 39.40577697753906, 40.93625259399414, 39.277069091796875, 40.3480339050293, 40.36427688598633, 40.55087661743164, 42.12487030029297, 41.82469177246094, 42.019412994384766, 42.433189392089844, 42.34394454956055, 43.171504974365234, 43.30133056640625, 42.75773239135742, 42.91999053955078, 43.1552848815918, 42.85508728027344, 43.1552848815918, 42.71715545654297, 42.21413040161133, 41.93015670776367, 42.53055191040039, 42.36016082763672, 41.6705207824707, 42.04374313354492, 41.85712432861328, 42.35205841064453, 42.60355758666992, 42.71715545654297, 42.554901123046875, 42.425071716308594, 41.63807678222656, 40.794281005859375, 41.21616744995117, 42.05186080932617, 42.21413040161133, 41.629974365234375, 42.13299560546875, 42.1086540222168, 42.15733337402344, 42.903770446777344, 42.71715545654297, 42.79829406738281, 43.56907272338867, 44.46965789794922, 44.396629333496094, 44.78607177734375, 44.64004135131836, 44.99702072143555, 44.4453010559082, 45.345909118652344, 45.63798141479492, 45.735347747802734, 46.181575775146484, 46.0680046081543, 46.01120376586914, 46.54669952392578, 46.903682708740234, 46.368202209472656, 46.01932144165039, 45.62175369262695, 46.13291549682617, 46.58726119995117, 46.65216827392578, 47.009151458740234, 48.12880325317383, 47.0984001159668, 47.16331481933594, 48.03144454956055, 47.779930114746094, 46.619712829589844, 45.98686599731445, 46.02743148803711, 46.433109283447266, 45.970638275146484, 46.12479782104492, 45.954410552978516, 46.15724563598633, 46.4493293762207, 47.195762634277344, 47.78804397583008, 47.55274963378906, 47.130859375, 47.33369445800781, 47.690677642822266, 47.768245697021484, 47.335540771484375, 47.613121032714844, 47.42534637451172, 47.02531051635742, 47.06612777709961, 47.31105422973633, 47.57231140136719, 47.17226791381836, 48.32341384887695, 48.48668670654297, 48.32341384887695, 48.97653579711914, 48.84591293334961, 48.764259338378906, 48.97653579711914, 48.78874588012695, 49.254119873046875, 48.74794387817383, 48.511192321777344, 48.16828536987305, 48.31523513793945, 48.20094680786133, 48.494850158691406, 48.57648468017578, 48.6091423034668, 48.86224365234375, 48.992862701416016, 49.48271179199219, 49.80927658081055, 49.727630615234375, 50.119510650634766, 50.1848258972168, 49.77661895751953, 49.56435012817383, 50.04602813720703, 50.09501647949219, 50.76447677612305, 50.56853485107422, 50.642005920410156, 50.51955795288086, 50.36443328857422, 50.307281494140625, 50.58486557006836, 50.535884857177734, 50.44607925415039, 50.79713821411133, 50.42158889770508, 50.65017318725586, 51.00939178466797, 49.041847229003906, 47.84172058105469, 47.79273986816406, 47.99684524536133, 47.72742462158203, 48.11113357543945, 48.23360061645508, 48.021331787109375, 48.17645263671875, 48.494850158691406, 48.1437873840332, 48.87040328979492, 49.12312316894531, 49.37791061401367, 49.87102508544922, 50.13402557373047, 50.19977951049805, 50.32305908203125, 50.002525329589844, 49.920345306396484, 49.80527877807617, 49.772403717041016, 49.84636306762695, 49.92856216430664, 50.29839324951172, 50.20798873901367, 50.29017639160156, 49.98609161376953, 50.29839324951172, 50.42989730834961, 49.84636306762695, 49.525840759277344, 49.86280822753906, 49.41899871826172, 49.25463104248047, 49.14778518676758, 49.427223205566406, 49.12312316894531, 49.78884506225586, 50.84904861450195, 51.00520324707031, 50.750423431396484, 51.32573318481445, 48.934085845947266, 47.47937774658203, 47.142417907714844, 48.449195861816406, 48.51494598388672, 48.416316986083984, 48.54781723022461, 48.498504638671875, 48.4820671081543, 48.24372482299805, 48.646446228027344, 48.531375885009766, 48.84374237060547, 48.97612380981445, 49.16643142700195, 48.8768196105957, 49.1085205078125, 48.97612380981445, 51.03644943237305, 51.65703201293945, 52.161766052246094, 52.73269271850586, 53.43603515625, 53.84147644042969, 54.0400505065918, 54.34621047973633, 54.14763259887695, 54.462039947509766, 54.238651275634766, 54.602718353271484, 54.1972770690918, 54.553070068359375, 54.5034294128418, 56.447906494140625, 55.87696075439453, 56.03418731689453, 55.496360778808594, 55.95970916748047, 56.05902862548828, 56.36515808105469, 56.10865020751953, 56.696128845214844, 56.01763153076172, 55.686668395996094, 56.41481399536133, 56.74578094482422, 56.75406265258789, 56.51410675048828, 57.68907165527344, 57.38290023803711, 58.541324615478516, 58.814395904541016, 59.04606628417969, 59.377044677734375, 59.66664123535156, 59.79077911376953, 59.83213806152344, 60.55200958251953, 60.38654327392578, 60.48581314086914, 60.27895736694336, 59.18672561645508, 59.78248596191406, 59.45151901245117, 59.69147491455078, 59.64181900024414, 60.957454681396484, 61.6607666015625, 62.04140090942383, 61.58628845214844, 60.916080474853516, 61.27186965942383, 61.68560028076172, 61.46220016479492, 61.22222137451172, 61.819122314453125, 61.43644332885742, 61.295021057128906, 61.06208419799805, 61.56955337524414, 61.93558883666992, 60.022212982177734, 59.88909149169922, 60.14699935913086, 59.423221588134766, 59.706077575683594, 59.531375885009766, 59.98891830444336, 60.313377380371094, 60.23849868774414, 60.53797912597656, 60.105384826660156, 60.39656066894531, 61.153587341308594, 61.1868782043457, 62.235084533691406, 61.4114875793457, 61.153587341308594, 61.61111831665039, 61.61945724487305, 62.50959777832031, 61.9771728515625, 61.552913665771484, 61.51963806152344, 61.8690299987793, 62.18516159057617, 61.93558883666992, 62.17682647705078, 61.77754211425781, 61.71929168701172, 61.544612884521484, 61.39486312866211, 61.60282897949219, 61.35326385498047, 61.72761154174805, 62.16020584106445, 62.50128936767578, 62.60111618041992, 61.67770004272461, 62.74251937866211, 62.40147399902344, 63.066978454589844, 64.18174743652344, 63.98208999633789, 64.08189392089844, 63.6909065246582, 62.90891647338867, 62.933868408203125, 62.19347381591797, 62.24339294433594, 62.65935134887695, 62.484657287597656, 62.40977096557617, 61.10366439819336, 60.53797912597656, 60.845794677734375, 61.36157989501953, 60.82083511352539, 60.29673385620117, 60.15531539916992, 60.29673385620117, 59.73934555053711, 59.32340621948242, 57.168739318847656, 56.594730377197266, 57.41831588745117, 57.40168762207031, 57.310176849365234, 58.399986267089844, 58.15871810913086, 57.817626953125, 58.6994743347168, 58.9240837097168, 59.9140510559082, 59.34834671020508, 59.997257232666016, 59.936588287353516, 59.88638687133789, 60.47196960449219, 60.354854583740234, 59.300838470458984, 57.66963577270508, 57.75328063964844, 57.51069641113281, 57.887123107910156, 58.138065338134766, 57.31827926635742, 57.719825744628906, 57.427032470703125, 57.36011505126953, 56.874935150146484, 57.04224395751953, 56.55706024169922, 57.07571029663086, 57.92058563232422, 57.55251693725586, 57.76999282836914, 57.21791458129883, 57.376853942871094, 57.36011505126953, 57.184444427490234, 57.410308837890625, 57.134273529052734, 57.70310974121094, 57.895477294921875, 57.59433364868164, 57.887123107910156, 58.20500946044922, 58.129695892333984, 58.38066482543945, 57.719825744628906, 58.01259994506836, 58.46431350708008, 58.34720993041992, 58.514522552490234, 58.96623611450195, 58.2468147277832, 59.200443267822266, 59.65218734741211, 59.58525085449219, 59.794395446777344, 59.72746276855469, 59.72746276855469, 59.71910095214844, 59.242286682128906, 57.97078323364258, 57.51906967163086, 57.895477294921875, 58.77382278442383, 58.89094543457031, 58.924407958984375, 59.48488235473633, 59.94496154785156, 59.20881652832031, 60.01187515258789, 61.28340148925781, 61.66816711425781, 61.38376235961914, 61.33357238769531, 61.48512268066406, 61.443031311035156, 61.96501541137695, 62.007110595703125, 61.64509201049805, 61.03892135620117, 60.828433990478516, 60.99683380126953, 61.45146179199219, 61.56931686401367, 62.53752517700195, 63.01742172241211, 62.950042724609375, 62.95849609375, 63.00059509277344, 63.50571060180664, 64.0024642944336, 63.98562240600586, 64.15399932861328, 64.31395721435547, 65.0716781616211, 65.77046966552734, 65.13904571533203, 65.49263763427734, 66.14090728759766, 66.06514739990234, 66.24193572998047, 66.09882354736328, 64.9622573852539, 65.91361236572266, 65.64419555664062, 66.5871353149414, 65.6947021484375, 66.21669006347656, 66.54505157470703, 65.99778747558594, 65.4336929321289, 65.719970703125, 66.05673217773438, 66.72184753417969, 66.36825561523438, 66.36825561523438, 66.27507019042969, 66.40210723876953, 66.81714630126953, 66.48682403564453, 66.72395324707031, 67.6386947631836, 66.48682403564453, 65.95323944091797, 65.5551528930664, 65.54668426513672, 65.24178314208984, 64.6489028930664, 65.47891235351562, 65.4874038696289, 64.56420135498047, 64.05599975585938, 63.38690185546875, 64.10684967041016, 64.31858825683594, 63.73418426513672, 64.05599975585938, 64.6489028930664, 64.15766143798828, 63.73418426513672, 63.38690185546875, 63.522430419921875, 63.412330627441406, 63.48006820678711, 64.14070892333984, 63.06507110595703, 61.853904724121094, 62.26044845581055, 62.844852447509766, 62.98883819580078, 63.53091049194336, 63.74264144897461, 63.09046936035156, 63.17517852783203, 63.27680969238281, 63.319149017333984, 63.70027542114258, 64.97073364257812, 65.24178314208984, 65.02156066894531, 65.74995422363281, 65.74995422363281, 65.24178314208984, 65.52974700927734, 65.38575744628906, 65.50432586669922, 66.13109588623047, 65.95323944091797, 66.5291519165039, 66.25813293457031, 66.0718002319336, 66.06330871582031, 66.05484008789062, 65.97016906738281, 66.01251983642578, 66.24968719482422, 66.69854736328125, 66.71549224853516, 65.95323944091797, 65.92766571044922, 65.82540130615234, 65.52717590332031, 65.68055725097656, 65.49307250976562, 65.10112762451172, 63.405418395996094, 63.149776458740234, 62.698177337646484, 62.39992904663086, 62.67262649536133, 62.59590530395508, 62.57884979248047, 62.22951126098633, 62.08465576171875, 61.67563247680664, 61.71824645996094, 62.18690872192383, 61.9312744140625, 62.12725830078125, 61.9227409362793, 61.854583740234375, 62.63850784301758, 63.02198028564453, 63.098655700683594, 62.9793701171875, 63.36281967163086, 63.720699310302734, 64.03596496582031, 65.11815643310547, 64.93921661376953, 64.61541748046875, 65.11815643310547, 64.54725646972656, 63.60993194580078, 63.5843620300293, 63.36281967163086, 63.02198028564453, 62.7066650390625, 62.817440032958984, 62.34029006958008, 62.03353500366211, 61.24106216430664, 62.118736267089844, 62.203956604003906, 63.72922897338867, 63.75477981567383, 63.635494232177734, 63.3713264465332, 64.41944122314453, 64.57280731201172, 64.51314544677734, 64.03596496582031, 65.03296661376953, 64.67504119873047, 65.11815643310547, 64.82844543457031, 65.73168182373047, 65.66350555419922, 65.53569030761719, 65.39934539794922, 65.67202758789062, 65.89358520507812, 65.97026062011719, 66.60083770751953, 66.04695892333984, 66.43040466308594, 67.32511901855469, 67.06949615478516, 67.23139953613281, 67.38478088378906, 67.50404357910156, 67.50404357910156, 67.52963256835938, 67.23139953613281, 67.19730377197266, 68.00679016113281, 68.53511810302734, 68.74813842773438, 68.96116638183594, 69.02932739257812, 69.11454772949219, 69.19978332519531, 68.75409698486328, 68.0855712890625, 68.51409149169922, 68.52266693115234, 67.77703857421875, 67.78560638427734, 67.27993774414062, 66.91996002197266, 66.62854766845703, 66.20858764648438, 66.79998779296875, 66.20001983642578, 66.36285400390625, 66.739990234375, 66.85997009277344, 67.18563842773438, 67.25421142578125, 67.39134216308594, 67.44279479980469, 67.6313247680664, 67.40847778320312, 67.0313720703125, 67.23709106445312, 66.7056884765625, 66.92851257324219, 66.88568115234375, 66.41427612304688, 66.81710052490234, 66.55998992919922, 65.78861999511719, 65.30010986328125, 65.00012969970703, 64.58016967773438, 64.24588012695312, 63.7830810546875, 63.55168914794922, 63.997337341308594, 63.50880813598633, 64.06591033935547, 64.00592803955078, 62.27463912963867, 62.33464813232422, 62.45463180541992, 62.41177749633789, 63.20885467529297, 63.2174186706543, 64.10877227783203, 64.24588012695312, 64.58873748779297, 64.95726013183594, 64.5630111694336, 64.15162658691406, 63.01172637939453, 62.668907165527344, 62.86602020263672, 62.86602020263672, 64.09163665771484, 63.90306091308594, 64.02307891845703, 63.525970458984375, 64.3916015625, 64.10877227783203, 64.17732238769531, 64.33258819580078, 64.2032241821289, 64.6258773803711, 65.1520767211914, 64.63450622558594, 64.0738296508789, 64.41885375976562, 64.49647521972656, 64.16007995605469, 65.0226821899414, 65.64374542236328, 66.21307373046875, 66.30795288085938, 65.75588989257812, 65.67826843261719, 65.56612396240234, 65.92842102050781, 66.2216796875, 66.57534790039062, 66.81690216064453, 66.6874771118164, 66.6874771118164, 67.4379653930664, 67.2568130493164, 66.32518005371094, 65.98880004882812, 66.74788665771484, 66.31657409667969, 66.60985565185547, 66.9894027709961, 66.9376449584961, 66.90314483642578, 67.31719207763672, 67.55009460449219, 67.81748962402344, 68.80085754394531, 68.72321319580078, 68.75772094726562, 68.74907684326172, 68.24879455566406, 67.81748962402344, 67.29132080078125, 67.66453552246094, 68.29814147949219, 68.74075317382812, 68.69737243652344, 68.6886978149414, 68.34152221679688, 66.68378448486328, 66.8399887084961, 66.49280548095703, 65.6943130493164, 65.66825866699219, 65.43392944335938, 65.62487030029297, 65.60750579833984, 65.55543518066406, 65.94599914550781, 66.63167572021484, 66.62298583984375, 66.57958984375, 66.94412994384766, 67.10905456542969, 67.0135726928711, 66.8399887084961, 66.5014877319336, 66.10222625732422, 65.72903442382812, 65.33845520019531, 65.39051818847656, 65.08673858642578, 65.7029800415039, 65.85052490234375, 65.68561553955078, 65.78109741210938, 65.93733978271484, 65.63356018066406, 65.01734161376953, 65.39051818847656, 65.15619659423828, 65.33845520019531, 65.63356018066406, 65.74638366699219, 66.02410125732422, 66.52752685546875, 67.0135726928711, 66.88336944580078, 66.67508697509766, 66.44073486328125, 66.69244384765625, 66.70978546142578, 66.49280548095703, 66.909423828125, 66.63167572021484, 66.51885223388672, 66.82263946533203, 66.26714324951172, 65.93733978271484, 65.71167755126953, 65.47731018066406, 64.90449523925781, 63.86295700073242, 63.82825469970703, 63.82825469970703, 63.65465545654297, 64.82534790039062, 64.60694885253906, 65.23595428466797, 64.96514129638672, 64.84282684326172, 64.67683410644531, 64.99134063720703, 64.56326293945312, 65.07869720458984, 65.41942596435547, 65.48933410644531, 66.00479125976562, 66.16205596923828, 66.12712860107422, 65.97857666015625, 66.26688385009766, 66.3105697631836, 65.96109008789062, 66.17952728271484, 66.40666961669922, 66.8871841430664, 67.71714782714844, 66.8609848022461, 67.04444122314453, 66.843505859375, 66.48530578613281, 66.19698333740234, 66.23193359375, 66.67749786376953, 66.60762023925781, 66.59015655517578, 67.13179016113281, 66.66876983642578, 66.04846954345703, 67.34148406982422, 66.5027847290039, 66.82603454589844, 66.46782684326172, 66.80855560302734, 66.5027847290039, 66.598876953125, 67.5511703491211, 67.57737731933594, 67.53369140625, 68.35494232177734, 68.02293395996094, 68.39861297607422, 67.76083374023438, 68.1277847290039, 65.69901275634766, 64.49334716796875, 64.73799133300781, 65.6465835571289, 66.41541290283203, 66.42414855957031, 66.6163558959961, 66.72992706298828, 66.91339874267578, 66.70370483398438, 66.73865509033203, 66.79106903076172, 66.63382720947266, 66.64253997802734, 67.49874114990234, 67.8831558227539, 67.97925567626953, 68.8179702758789, 69.40332794189453, 69.02764892578125, 69.1936264038086, 72.46112823486328, 72.47859954833984, 73.01151275634766, 73.20372772216797, 74.25212860107422, 73.89392852783203, 73.95506286621094, 74.61032104492188, 74.21717834472656, 74.2433853149414, 76.47993469238281, 75.32672119140625, 75.48395538330078, 74.62298583984375, 74.46485900878906, 73.90259552001953, 73.99925231933594, 73.4106216430664, 72.90108489990234, 73.6478271484375, 73.63025665283203, 73.74446868896484, 72.88350677490234, 73.99925231933594, 75.50154113769531, 74.8162841796875, 75.88807678222656, 76.13408660888672, 75.93202209472656, 76.35372161865234, 76.11650848388672, 76.24829864501953, 75.44883728027344, 75.46640014648438, 75.24677276611328, 75.82660675048828, 77.83844757080078, 79.48131561279297, 78.49734497070312, 79.08595275878906, 78.46221923828125, 76.09017181396484, 76.7666244506836, 76.23072814941406, 76.16044616699219, 76.11650848388672, 77.57487487792969, 77.75938415527344, 77.86477661132812, 76.89840698242188, 76.27465057373047, 77.06533813476562, 74.65815734863281, 75.29947662353516, 75.72117614746094, 76.12529754638672, 76.67877960205078, 76.72272491455078, 75.47518920898438, 76.68756103515625, 75.85295104980469, 75.45763397216797, 75.38733673095703, 75.51911163330078, 75.80902862548828, 73.37548828125, 74.06073760986328, 74.32428741455078, 74.29794311523438, 73.41940307617188, 73.62147521972656, 73.7356948852539, 73.76204681396484, 73.24370574951172, 72.5496597290039, 73.41940307617188, 72.55841064453125, 72.8132095336914, 72.10159301757812, 71.31501770019531, 72.38440704345703, 72.38440704345703, 73.61293029785156, 73.02076721191406, 72.94122314453125, 72.04855346679688, 73.5687255859375, 73.63059997558594, 73.40080261230469, 71.87181854248047, 72.37560272216797, 71.8983154296875, 72.94122314453125, 72.6937484741211, 71.33267211914062, 71.3503646850586, 71.58015441894531, 71.1470947265625, 71.61549377441406, 71.44758605957031, 71.27965545654297, 70.96147918701172, 70.83773803710938, 70.47540283203125, 70.03345489501953, 68.83148956298828, 69.061279296875, 68.96406555175781, 69.31758880615234, 69.98045349121094, 70.56375885009766, 70.14838409423828, 69.90975952148438, 68.83148956298828, 68.98175048828125, 69.46782684326172, 69.98045349121094, 69.05242156982422, 69.06131744384766, 69.39930725097656, 69.84400177001953, 69.46155548095703, 70.22642517089844, 69.51493835449219, 70.01300048828125, 70.47547149658203, 71.08023834228516, 67.97628021240234, 67.5049057006836, 67.69166564941406, 67.46931457519531, 66.61550903320312, 66.8734130859375, 66.5621337890625, 66.05516815185547, 66.46430969238281, 66.28641510009766, 66.60661315917969, 65.94845581054688, 64.97901153564453, 64.57878112792969, 64.45426940917969, 64.86339569091797, 64.8722915649414, 64.418701171875, 63.97401428222656, 64.34754180908203, 64.6855239868164, 64.90788269042969, 64.69440460205078, 64.73888397216797, 64.54322052001953, 64.37423706054688, 63.9117431640625, 64.14297485351562, 63.52042007446289, 63.0846061706543, 63.929534912109375, 63.9117431640625, 64.50765228271484, 65.6282730102539, 64.97901153564453, 64.73001098632812, 65.03238677978516, 65.70832061767578, 65.6282730102539, 65.50376892089844, 65.66386413574219, 65.27251434326172, 65.01458740234375, 64.69440460205078, 65.06796264648438, 64.48986053466797, 63.6627082824707, 63.484832763671875, 64.12521362304688, 64.2408447265625, 64.17857360839844, 64.01848602294922, 64.19636535644531, 64.25860595703125, 65.82566833496094, 65.18093872070312, 63.801910400390625, 64.00788116455078, 64.41085052490234, 64.99288940429688, 64.57202911376953, 64.81379699707031, 64.39292907714844, 62.21695327758789, 61.402069091796875, 61.27672576904297, 59.58429718017578, 57.26503372192383, 56.50389099121094, 58.053043365478516, 59.172359466552734, 58.15153884887695, 57.96349334716797, 57.14862060546875, 57.70380401611328, 58.079891204833984, 57.211299896240234, 59.441009521484375, 58.312721252441406, 57.41726303100586, 57.891849517822266, 57.56053161621094, 57.59634780883789, 57.927677154541016, 57.73066329956055, 56.71879577636719, 57.05906677246094, 56.942657470703125, 57.05906677246094, 57.15757369995117, 57.11280059814453, 57.005348205566406, 57.11280059814453, 58.061988830566406, 57.55156707763672, 58.18736267089844, 58.98431396484375, 58.814186096191406, 59.4231071472168, 59.888736724853516, 59.718597412109375, 59.933502197265625, 59.75442886352539, 53.754798889160156, 53.12797927856445, 52.733970642089844, 52.698150634765625, 52.608604431152344, 52.510093688964844, 52.742923736572266, 52.205650329589844, 51.95491027832031, 51.471351623535156, 51.6146354675293, 51.90118408203125, 51.25645446777344, 51.5877799987793, 52.035499572753906, 52.26832580566406, 52.483238220214844, 52.63545608520508, 52.37578582763672, 52.54592514038086, 51.560916900634766, 50.996768951416016, 50.52216720581055, 51.820594787597656, 53.65629959106445, 54.56071853637695, 54.35477066040039, 53.790611267089844, 53.96074676513672, 53.65629959106445, 53.94285202026367, 53.62943649291992, 52.6891975402832, 52.82352066040039, 52.68807601928711, 53.311119079589844, 53.87095642089844, 54.62944412231445, 53.825809478759766, 53.392391204833984, 53.780662536621094, 53.600074768066406, 54.530120849609375, 53.85289764404297, 54.4488525390625, 53.25695037841797, 53.139556884765625, 53.77163314819336, 54.66556930541992, 55.162200927734375, 54.92742919921875, 54.855194091796875, 55.631744384765625, 55.694942474365234, 55.35182189941406, 55.49629211425781, 56.81462097167969, 57.38349914550781, 58.719879150390625, 57.37446594238281, 57.988487243652344, 57.44670104980469, 55.911651611328125, 56.941043853759766, 55.920692443847656, 56.48957061767578, 54.93645477294922, 55.87554931640625, 56.6069450378418, 57.29320526123047, 57.789825439453125, 57.74468994140625, 57.988487243652344, 59.92083740234375, 60.95021438598633, 60.3723258972168, 59.83955764770508, 59.97500991821289, 60.49873733520508, 60.408424377441406, 59.424190521240234, 59.40614318847656, 58.98174285888672, 59.75830841064453, 59.505470275878906, 59.695091247558594, 57.898189544677734, 58.38579177856445, 59.26166534423828, 60.029170989990234, 60.60708236694336, 61.43781280517578, 60.056270599365234, 59.90277099609375, 60.0111198425293, 59.7853889465332, 59.7221794128418, 60.30007553100586, 61.3023681640625, 61.43781280517578, 61.42871856689453, 61.3195686340332, 61.10124969482422, 61.274078369140625, 61.938114166259766, 61.84716796875, 61.35593795776367, 60.90110778808594, 61.8289680480957, 61.73798751831055, 61.36504364013672, 61.856239318847656, 61.96541976928711, 61.883544921875, 62.583980560302734, 62.301979064941406, 62.82048797607422, 62.856876373291016, 62.43842315673828, 62.80229187011719, 62.05638122558594, 61.91082763671875, 61.310462951660156, 62.583980560302734, 62.90235900878906, 62.583980560302734, 62.82048797607422, 63.5482063293457, 63.466331481933594, 62.9569206237793, 62.28377914428711, 62.511199951171875, 63.19343185424805, 63.03880310058594, 63.147953033447266, 62.68404006958008, 60.82835388183594, 61.4832878112793, 60.94660568237305, 61.11942672729492, 61.13762283325195, 62.08366775512695, 62.72041702270508, 62.57487106323242, 60.85221481323242, 61.25537872314453, 59.50522994995117, 60.49484634399414, 59.6518440246582, 57.86503601074219, 63.40871810913086, 64.01348114013672, 63.68360137939453, 64.3616714477539, 64.58159637451172, 64.9206314086914, 64.82901000976562, 64.85649871826172, 64.59992980957031, 65.01224517822266, 64.93898010253906, 65.1039047241211, 65.08556365966797, 65.31465911865234, 65.14055633544922, 65.18635559082031, 64.6274185180664, 65.01224517822266, 65.16803741455078, 65.33296203613281], \"yaxis\": \"y2\"}, {\"marker\": {\"color\": \"red\"}, \"name\": \"Test\", \"type\": \"scatter\", \"x\": [\"2016-06-17T00:00:00\", \"2016-06-20T00:00:00\", \"2016-06-21T00:00:00\", \"2016-06-22T00:00:00\", \"2016-06-23T00:00:00\", \"2016-06-24T00:00:00\", \"2016-06-27T00:00:00\", \"2016-06-28T00:00:00\", \"2016-06-29T00:00:00\", \"2016-06-30T00:00:00\", \"2016-07-01T00:00:00\", \"2016-07-05T00:00:00\", \"2016-07-06T00:00:00\", \"2016-07-07T00:00:00\", \"2016-07-08T00:00:00\", \"2016-07-11T00:00:00\", \"2016-07-12T00:00:00\", \"2016-07-13T00:00:00\", \"2016-07-14T00:00:00\", \"2016-07-15T00:00:00\", \"2016-07-18T00:00:00\", \"2016-07-19T00:00:00\", \"2016-07-20T00:00:00\", \"2016-07-21T00:00:00\", \"2016-07-22T00:00:00\", \"2016-07-25T00:00:00\", \"2016-07-26T00:00:00\", \"2016-07-27T00:00:00\"], \"xaxis\": \"x2\", \"y\": [65.01224517822266, 65.14971160888672, 65.47957611083984, 65.74531555175781, 66.06602478027344, 65.937744140625, 65.51624298095703, 65.5254135131836, 66.39588928222656, 66.90901947021484, 66.71661376953125, 67.01898956298828, 67.64205932617188, 67.3763427734375, 67.660400390625, 67.86198425292969, 67.13809967041016, 67.45882415771484, 67.5321044921875, 67.50462341308594, 67.660400390625, 67.49549102783203, 67.61458587646484, 67.36717987060547, 67.39468383789062, 67.57794189453125, 67.55961608886719, 67.18390655517578], \"yaxis\": \"y2\"}, {\"marker\": {\"color\": \"green\"}, \"name\": \"After test\", \"type\": \"scatter\", \"x\": [\"2016-07-28T00:00:00\", \"2016-07-29T00:00:00\", \"2016-08-01T00:00:00\", \"2016-08-02T00:00:00\", \"2016-08-03T00:00:00\", \"2016-08-04T00:00:00\", \"2016-08-05T00:00:00\", \"2016-08-08T00:00:00\", \"2016-08-09T00:00:00\", \"2016-08-10T00:00:00\", \"2016-08-11T00:00:00\", \"2016-08-12T00:00:00\", \"2016-08-15T00:00:00\", \"2016-08-16T00:00:00\", \"2016-08-17T00:00:00\", \"2016-08-18T00:00:00\", \"2016-08-19T00:00:00\", \"2016-08-22T00:00:00\", \"2016-08-23T00:00:00\", \"2016-08-24T00:00:00\", \"2016-08-25T00:00:00\", \"2016-08-26T00:00:00\", \"2016-08-29T00:00:00\", \"2016-08-30T00:00:00\", \"2016-08-31T00:00:00\", \"2016-09-01T00:00:00\"], \"xaxis\": \"x2\", \"y\": [67.11060333251953, 66.86321258544922, 67.60541534423828, 67.00982666015625, 66.8357162475586, 67.16559600830078, 67.58708953857422, 67.20223236083984, 67.38551330566406, 68.22505950927734, 68.086669921875, 68.16969299316406, 67.64381408691406, 67.24711608886719, 67.28401947021484, 68.54796600341797, 67.17332458496094, 67.07183074951172, 66.39834594726562, 66.63822937011719, 65.70640563964844, 65.6325912475586, 65.87247467041016, 65.78944396972656, 65.90937805175781, 67.20098876953125], \"yaxis\": \"y2\"}],\n",
              "                        {\"height\": 800, \"shapes\": [{\"line\": {\"color\": \"Red\", \"width\": 1}, \"type\": \"line\", \"x0\": \"2011-01-31\", \"x1\": \"2016-09-01\", \"xref\": \"x2\", \"y0\": 65.1, \"y1\": 65.1, \"yref\": \"y2\"}, {\"line\": {\"color\": \"Lightcoral\", \"width\": 1}, \"type\": \"line\", \"x0\": \"2011-01-31\", \"x1\": \"2016-09-01\", \"xref\": \"x2\", \"y0\": 67.9, \"y1\": 67.9, \"yref\": \"y2\"}, {\"line\": {\"color\": \"DarkOrange\", \"width\": 1}, \"type\": \"line\", \"x0\": \"2013-04-07\", \"x1\": \"2013-04-07\", \"xref\": \"x2\", \"y0\": 35, \"y1\": 80, \"yref\": \"y2\"}], \"template\": {\"data\": {\"bar\": [{\"error_x\": {\"color\": \"#2a3f5f\"}, \"error_y\": {\"color\": \"#2a3f5f\"}, \"marker\": {\"line\": {\"color\": \"#E5ECF6\", \"width\": 0.5}}, \"type\": \"bar\"}], \"barpolar\": [{\"marker\": {\"line\": {\"color\": \"#E5ECF6\", \"width\": 0.5}}, \"type\": \"barpolar\"}], \"carpet\": [{\"aaxis\": {\"endlinecolor\": \"#2a3f5f\", \"gridcolor\": \"white\", \"linecolor\": \"white\", \"minorgridcolor\": \"white\", \"startlinecolor\": \"#2a3f5f\"}, \"baxis\": {\"endlinecolor\": \"#2a3f5f\", \"gridcolor\": \"white\", \"linecolor\": \"white\", \"minorgridcolor\": \"white\", \"startlinecolor\": \"#2a3f5f\"}, \"type\": \"carpet\"}], \"choropleth\": [{\"colorbar\": {\"outlinewidth\": 0, \"ticks\": \"\"}, \"type\": \"choropleth\"}], \"contour\": [{\"colorbar\": {\"outlinewidth\": 0, \"ticks\": \"\"}, \"colorscale\": [[0.0, \"#0d0887\"], [0.1111111111111111, \"#46039f\"], [0.2222222222222222, \"#7201a8\"], [0.3333333333333333, \"#9c179e\"], [0.4444444444444444, \"#bd3786\"], [0.5555555555555556, \"#d8576b\"], [0.6666666666666666, \"#ed7953\"], [0.7777777777777778, \"#fb9f3a\"], [0.8888888888888888, \"#fdca26\"], [1.0, \"#f0f921\"]], \"type\": \"contour\"}], \"contourcarpet\": [{\"colorbar\": {\"outlinewidth\": 0, \"ticks\": \"\"}, \"type\": \"contourcarpet\"}], \"heatmap\": [{\"colorbar\": {\"outlinewidth\": 0, \"ticks\": \"\"}, \"colorscale\": [[0.0, \"#0d0887\"], [0.1111111111111111, \"#46039f\"], [0.2222222222222222, \"#7201a8\"], [0.3333333333333333, \"#9c179e\"], [0.4444444444444444, \"#bd3786\"], [0.5555555555555556, \"#d8576b\"], [0.6666666666666666, \"#ed7953\"], [0.7777777777777778, \"#fb9f3a\"], [0.8888888888888888, \"#fdca26\"], [1.0, \"#f0f921\"]], \"type\": \"heatmap\"}], \"heatmapgl\": [{\"colorbar\": {\"outlinewidth\": 0, \"ticks\": \"\"}, \"colorscale\": [[0.0, \"#0d0887\"], [0.1111111111111111, \"#46039f\"], [0.2222222222222222, \"#7201a8\"], [0.3333333333333333, \"#9c179e\"], [0.4444444444444444, \"#bd3786\"], [0.5555555555555556, \"#d8576b\"], [0.6666666666666666, \"#ed7953\"], [0.7777777777777778, \"#fb9f3a\"], [0.8888888888888888, \"#fdca26\"], [1.0, \"#f0f921\"]], \"type\": \"heatmapgl\"}], \"histogram\": [{\"marker\": {\"colorbar\": {\"outlinewidth\": 0, \"ticks\": \"\"}}, \"type\": \"histogram\"}], \"histogram2d\": [{\"colorbar\": {\"outlinewidth\": 0, \"ticks\": \"\"}, \"colorscale\": [[0.0, \"#0d0887\"], [0.1111111111111111, \"#46039f\"], [0.2222222222222222, \"#7201a8\"], [0.3333333333333333, \"#9c179e\"], [0.4444444444444444, \"#bd3786\"], [0.5555555555555556, \"#d8576b\"], [0.6666666666666666, \"#ed7953\"], [0.7777777777777778, \"#fb9f3a\"], [0.8888888888888888, \"#fdca26\"], [1.0, \"#f0f921\"]], \"type\": \"histogram2d\"}], \"histogram2dcontour\": [{\"colorbar\": {\"outlinewidth\": 0, \"ticks\": \"\"}, \"colorscale\": [[0.0, \"#0d0887\"], [0.1111111111111111, \"#46039f\"], [0.2222222222222222, \"#7201a8\"], [0.3333333333333333, \"#9c179e\"], [0.4444444444444444, \"#bd3786\"], [0.5555555555555556, \"#d8576b\"], [0.6666666666666666, \"#ed7953\"], [0.7777777777777778, \"#fb9f3a\"], [0.8888888888888888, \"#fdca26\"], [1.0, \"#f0f921\"]], \"type\": \"histogram2dcontour\"}], \"mesh3d\": [{\"colorbar\": {\"outlinewidth\": 0, \"ticks\": \"\"}, \"type\": \"mesh3d\"}], \"parcoords\": [{\"line\": {\"colorbar\": {\"outlinewidth\": 0, \"ticks\": \"\"}}, \"type\": \"parcoords\"}], \"pie\": [{\"automargin\": true, \"type\": \"pie\"}], \"scatter\": [{\"marker\": {\"colorbar\": {\"outlinewidth\": 0, \"ticks\": \"\"}}, \"type\": \"scatter\"}], \"scatter3d\": [{\"line\": {\"colorbar\": {\"outlinewidth\": 0, \"ticks\": \"\"}}, \"marker\": {\"colorbar\": {\"outlinewidth\": 0, \"ticks\": \"\"}}, \"type\": \"scatter3d\"}], \"scattercarpet\": [{\"marker\": {\"colorbar\": {\"outlinewidth\": 0, \"ticks\": \"\"}}, \"type\": \"scattercarpet\"}], \"scattergeo\": [{\"marker\": {\"colorbar\": {\"outlinewidth\": 0, \"ticks\": \"\"}}, \"type\": \"scattergeo\"}], \"scattergl\": [{\"marker\": {\"colorbar\": {\"outlinewidth\": 0, \"ticks\": \"\"}}, \"type\": \"scattergl\"}], \"scattermapbox\": [{\"marker\": {\"colorbar\": {\"outlinewidth\": 0, \"ticks\": \"\"}}, \"type\": \"scattermapbox\"}], \"scatterpolar\": [{\"marker\": {\"colorbar\": {\"outlinewidth\": 0, \"ticks\": \"\"}}, \"type\": \"scatterpolar\"}], \"scatterpolargl\": [{\"marker\": {\"colorbar\": {\"outlinewidth\": 0, \"ticks\": \"\"}}, \"type\": \"scatterpolargl\"}], \"scatterternary\": [{\"marker\": {\"colorbar\": {\"outlinewidth\": 0, \"ticks\": \"\"}}, \"type\": \"scatterternary\"}], \"surface\": [{\"colorbar\": {\"outlinewidth\": 0, \"ticks\": \"\"}, \"colorscale\": [[0.0, \"#0d0887\"], [0.1111111111111111, \"#46039f\"], [0.2222222222222222, \"#7201a8\"], [0.3333333333333333, \"#9c179e\"], [0.4444444444444444, \"#bd3786\"], [0.5555555555555556, \"#d8576b\"], [0.6666666666666666, \"#ed7953\"], [0.7777777777777778, \"#fb9f3a\"], [0.8888888888888888, \"#fdca26\"], [1.0, \"#f0f921\"]], \"type\": \"surface\"}], \"table\": [{\"cells\": {\"fill\": {\"color\": \"#EBF0F8\"}, \"line\": {\"color\": \"white\"}}, \"header\": {\"fill\": {\"color\": \"#C8D4E3\"}, \"line\": {\"color\": \"white\"}}, \"type\": \"table\"}]}, \"layout\": {\"annotationdefaults\": {\"arrowcolor\": \"#2a3f5f\", \"arrowhead\": 0, \"arrowwidth\": 1}, \"coloraxis\": {\"colorbar\": {\"outlinewidth\": 0, \"ticks\": \"\"}}, \"colorscale\": {\"diverging\": [[0, \"#8e0152\"], [0.1, \"#c51b7d\"], [0.2, \"#de77ae\"], [0.3, \"#f1b6da\"], [0.4, \"#fde0ef\"], [0.5, \"#f7f7f7\"], [0.6, \"#e6f5d0\"], [0.7, \"#b8e186\"], [0.8, \"#7fbc41\"], [0.9, \"#4d9221\"], [1, \"#276419\"]], \"sequential\": [[0.0, \"#0d0887\"], [0.1111111111111111, \"#46039f\"], [0.2222222222222222, \"#7201a8\"], [0.3333333333333333, \"#9c179e\"], [0.4444444444444444, \"#bd3786\"], [0.5555555555555556, \"#d8576b\"], [0.6666666666666666, \"#ed7953\"], [0.7777777777777778, \"#fb9f3a\"], [0.8888888888888888, \"#fdca26\"], [1.0, \"#f0f921\"]], \"sequentialminus\": [[0.0, \"#0d0887\"], [0.1111111111111111, \"#46039f\"], [0.2222222222222222, \"#7201a8\"], [0.3333333333333333, \"#9c179e\"], [0.4444444444444444, \"#bd3786\"], [0.5555555555555556, \"#d8576b\"], [0.6666666666666666, \"#ed7953\"], [0.7777777777777778, \"#fb9f3a\"], [0.8888888888888888, \"#fdca26\"], [1.0, \"#f0f921\"]]}, \"colorway\": [\"#636efa\", \"#EF553B\", \"#00cc96\", \"#ab63fa\", \"#FFA15A\", \"#19d3f3\", \"#FF6692\", \"#B6E880\", \"#FF97FF\", \"#FECB52\"], \"font\": {\"color\": \"#2a3f5f\"}, \"geo\": {\"bgcolor\": \"white\", \"lakecolor\": \"white\", \"landcolor\": \"#E5ECF6\", \"showlakes\": true, \"showland\": true, \"subunitcolor\": \"white\"}, \"hoverlabel\": {\"align\": \"left\"}, \"hovermode\": \"closest\", \"mapbox\": {\"style\": \"light\"}, \"paper_bgcolor\": \"white\", \"plot_bgcolor\": \"#E5ECF6\", \"polar\": {\"angularaxis\": {\"gridcolor\": \"white\", \"linecolor\": \"white\", \"ticks\": \"\"}, \"bgcolor\": \"#E5ECF6\", \"radialaxis\": {\"gridcolor\": \"white\", \"linecolor\": \"white\", \"ticks\": \"\"}}, \"scene\": {\"xaxis\": {\"backgroundcolor\": \"#E5ECF6\", \"gridcolor\": \"white\", \"gridwidth\": 2, \"linecolor\": \"white\", \"showbackground\": true, \"ticks\": \"\", \"zerolinecolor\": \"white\"}, \"yaxis\": {\"backgroundcolor\": \"#E5ECF6\", \"gridcolor\": \"white\", \"gridwidth\": 2, \"linecolor\": \"white\", \"showbackground\": true, \"ticks\": \"\", \"zerolinecolor\": \"white\"}, \"zaxis\": {\"backgroundcolor\": \"#E5ECF6\", \"gridcolor\": \"white\", \"gridwidth\": 2, \"linecolor\": \"white\", \"showbackground\": true, \"ticks\": \"\", \"zerolinecolor\": \"white\"}}, \"shapedefaults\": {\"line\": {\"color\": \"#2a3f5f\"}}, \"ternary\": {\"aaxis\": {\"gridcolor\": \"white\", \"linecolor\": \"white\", \"ticks\": \"\"}, \"baxis\": {\"gridcolor\": \"white\", \"linecolor\": \"white\", \"ticks\": \"\"}, \"bgcolor\": \"#E5ECF6\", \"caxis\": {\"gridcolor\": \"white\", \"linecolor\": \"white\", \"ticks\": \"\"}}, \"title\": {\"x\": 0.05}, \"xaxis\": {\"automargin\": true, \"gridcolor\": \"white\", \"linecolor\": \"white\", \"ticks\": \"\", \"title\": {\"standoff\": 15}, \"zerolinecolor\": \"white\", \"zerolinewidth\": 2}, \"yaxis\": {\"automargin\": true, \"gridcolor\": \"white\", \"linecolor\": \"white\", \"ticks\": \"\", \"title\": {\"standoff\": 15}, \"zerolinecolor\": \"white\", \"zerolinewidth\": 2}}}, \"title\": {\"text\": \"Walmart Inc\"}, \"width\": 1000, \"xaxis\": {\"anchor\": \"y\", \"domain\": [0.0, 1.0], \"matches\": \"x2\", \"showticklabels\": false}, \"xaxis2\": {\"anchor\": \"y2\", \"domain\": [0.0, 1.0], \"title\": {\"text\": \"Years/Days\"}}, \"yaxis\": {\"anchor\": \"x\", \"domain\": [0.575, 1.0], \"mirror\": true, \"title\": {\"text\": \"Price\"}}, \"yaxis2\": {\"anchor\": \"x2\", \"domain\": [0.0, 0.425], \"mirror\": true, \"title\": {\"text\": \"Price\"}}},\n",
              "                        {\"responsive\": true}\n",
              "                    ).then(function(){\n",
              "                            \n",
              "var gd = document.getElementById('080ec0e0-0fc4-4cf3-a7c1-9c3d8867a769');\n",
              "var x = new MutationObserver(function (mutations, observer) {{\n",
              "        var display = window.getComputedStyle(gd).display;\n",
              "        if (!display || display === 'none') {{\n",
              "            console.log([gd, 'removed!']);\n",
              "            Plotly.purge(gd);\n",
              "            observer.disconnect();\n",
              "        }}\n",
              "}});\n",
              "\n",
              "// Listen for the removal of the full notebook cells\n",
              "var notebookContainer = gd.closest('#notebook-container');\n",
              "if (notebookContainer) {{\n",
              "    x.observe(notebookContainer, {childList: true});\n",
              "}}\n",
              "\n",
              "// Listen for the clearing of the current output cell\n",
              "var outputEl = gd.closest('.output');\n",
              "if (outputEl) {{\n",
              "    x.observe(outputEl, {childList: true});\n",
              "}}\n",
              "\n",
              "                        })\n",
              "                };\n",
              "                \n",
              "            </script>\n",
              "        </div>\n",
              "</body>\n",
              "</html>"
            ]
          },
          "metadata": {
            "tags": []
          }
        }
      ]
    },
    {
      "cell_type": "markdown",
      "metadata": {
        "id": "uOJyWaSdpRdz",
        "colab_type": "text"
      },
      "source": [
        "### change data"
      ]
    },
    {
      "cell_type": "code",
      "metadata": {
        "id": "bkaN1nc3CcD5",
        "colab_type": "code",
        "colab": {}
      },
      "source": [
        "df.date = df.date.astype('str')"
      ],
      "execution_count": null,
      "outputs": []
    },
    {
      "cell_type": "code",
      "metadata": {
        "id": "sntwIaF487QG",
        "colab_type": "code",
        "colab": {}
      },
      "source": [
        "data.date = data.date.astype('str')"
      ],
      "execution_count": null,
      "outputs": []
    },
    {
      "cell_type": "code",
      "metadata": {
        "id": "cujb-EdIgI14",
        "colab_type": "code",
        "colab": {}
      },
      "source": [
        "df = df[['date','Close','Volume', 'Adj Close']]"
      ],
      "execution_count": null,
      "outputs": []
    },
    {
      "cell_type": "code",
      "metadata": {
        "id": "QxqYqs1Y02sR",
        "colab_type": "code",
        "colab": {}
      },
      "source": [
        "data = data.merge(df, how='left', on='date')"
      ],
      "execution_count": null,
      "outputs": []
    },
    {
      "cell_type": "code",
      "metadata": {
        "id": "QZlwCLoT64bV",
        "colab_type": "code",
        "colab": {}
      },
      "source": [
        "#1884 '2016-03-27',1912 '2016-04-24'\n",
        "#<1884 train, 1884 -1912 valid\n",
        "#test 1912 >\n",
        "\n",
        "data.to_pickle('stocks_wmt.pkl')\n",
        "print('Saved')"
      ],
      "execution_count": null,
      "outputs": []
    },
    {
      "cell_type": "markdown",
      "metadata": {
        "id": "QSOm4uhR4SVa",
        "colab_type": "text"
      },
      "source": [
        "#lags"
      ]
    },
    {
      "cell_type": "code",
      "metadata": {
        "id": "gf8dX6uMtDoM",
        "colab_type": "code",
        "colab": {}
      },
      "source": [
        "# import time\n",
        "# df = pd.read_pickle(PATH_AGG)\n",
        "# df = df[['id', 'd', 'sales']]\n",
        "\n",
        "\n",
        "# # Rollings\n",
        "# # with sliding shift\n",
        "# for d_shift in [1, 5, 7, 10, 14, 19, 24]: \n",
        "#     print('Shifting period:', d_shift)\n",
        "#     for d_window in [7, 14, 21, 30, 37, 44, 51, 60]:\n",
        "#         col_name = 'rolling_mean_tmp_'+str(d_shift)+'_'+str(d_window)\n",
        "#         df[col_name] = df.groupby(['id'])['sales'].transform(lambda x: x.shift(d_shift).rolling(d_window).mean()).astype(np.float16)\n",
        "    \n",
        "    \n",
        "# print('%0.2f min: Lags' % ((time.time() - start_time) / 60))\n",
        "# df = reduce_mem_usage(df, verbose=True)\n",
        "# df.iloc[:, 3:].to_pickle('changed_lags_m5.pkl')\n",
        "# print('Saved')"
      ],
      "execution_count": null,
      "outputs": []
    },
    {
      "cell_type": "code",
      "metadata": {
        "id": "cogvhjuMtDoO",
        "colab_type": "code",
        "colab": {},
        "outputId": "fdf95377-d43c-44cd-842e-a19047df7797"
      },
      "source": [
        "import time\n",
        "df = pd.read_pickle(PATH_AGG)\n",
        "df = df[['id', 'd', 'sales']]\n",
        "\n",
        "\n",
        "# Rollings\n",
        "# with sliding shift\n",
        "for d_shift in [1, 5, 7]: #, 10, 14, 19]: \n",
        "    print('Shifting period:', d_shift)\n",
        "    for d_window in [7, 14, 21, 30, 37, 44, 51, 60]:\n",
        "        col_name = 'rolling_mean_tmp_'+str(d_shift)+'_'+str(d_window)\n",
        "        df[col_name] = df.groupby(['id'])['sales'].transform(lambda x: x.shift(d_shift).ewm(span = d_window, adjust=False)\\\n",
        "                                    .mean()).astype(np.float16)\n",
        "    \n",
        "    \n",
        "df = reduce_mem_usage(df, verbose=True)\n",
        "df.iloc[:, 3:].to_pickle('v1_changed_lags_m5.pkl')\n",
        "print('Saved')"
      ],
      "execution_count": null,
      "outputs": [
        {
          "output_type": "stream",
          "text": [
            "Shifting period: 1\n",
            "Shifting period: 5\n",
            "Shifting period: 7\n",
            "Mem. usage decreased to 2459.78 Mb (0.0% reduction)\n",
            "Saved\n"
          ],
          "name": "stdout"
        }
      ]
    },
    {
      "cell_type": "markdown",
      "metadata": {
        "id": "rWSjpqik5r7C",
        "colab_type": "text"
      },
      "source": [
        "#trend"
      ]
    },
    {
      "cell_type": "markdown",
      "metadata": {
        "id": "EzZoN_M-6Qir",
        "colab_type": "text"
      },
      "source": [
        "I drop by mem"
      ]
    },
    {
      "cell_type": "code",
      "metadata": {
        "id": "jKapCUt75rfi",
        "colab_type": "code",
        "colab": {}
      },
      "source": [
        "df= pd.read_pickle(PATH_D1 + 'default_m5.pkl')     "
      ],
      "execution_count": null,
      "outputs": []
    },
    {
      "cell_type": "markdown",
      "metadata": {
        "id": "LHaXX_C56Ma-",
        "colab_type": "text"
      },
      "source": [
        "###v1"
      ]
    },
    {
      "cell_type": "code",
      "metadata": {
        "id": "WrMBVDbT5-Xn",
        "colab_type": "code",
        "colab": {}
      },
      "source": [
        "df['d_avg_sold_state'] = df.groupby(['item_id','state_id','d'])['sales'].transform('mean').astype(np.float16)\n",
        "df['avg_sold'] = df.groupby(['item_id', 'state_id'])['sales'].transform('mean').astype(np.float16)\n",
        "df['trend_item_state'] = (df['d_avg_sold_state'] - df['avg_sold']).astype(np.float16)"
      ],
      "execution_count": null,
      "outputs": []
    },
    {
      "cell_type": "markdown",
      "metadata": {
        "id": "jXiSR3hs6LOT",
        "colab_type": "text"
      },
      "source": [
        "###v2"
      ]
    },
    {
      "cell_type": "code",
      "metadata": {
        "id": "tHzKrN5n5-cD",
        "colab_type": "code",
        "colab": {}
      },
      "source": [
        "df['d_avg_sold'] = df.groupby(['item_id','d'])['sales'].transform('mean').astype(np.float16)\n",
        "df['avg_sold'] = df.groupby(['item_id'])['sales'].transform('mean').astype(np.float16)\n",
        "df['trend_item_id'] = (df['d_avg_sold'] - df['avg_sold']).astype(np.float16)"
      ],
      "execution_count": null,
      "outputs": []
    },
    {
      "cell_type": "code",
      "metadata": {
        "id": "5ii6tdom5-aU",
        "colab_type": "code",
        "colab": {}
      },
      "source": [
        "df = df.drop(['d_avg_sold','avg_sold'], axis =1)"
      ],
      "execution_count": null,
      "outputs": []
    },
    {
      "cell_type": "code",
      "metadata": {
        "id": "qbtn6unu5-Uk",
        "colab_type": "code",
        "colab": {}
      },
      "source": [
        "df[['trend_item_state', 'trend_item_id', 'd_avg_sold_state']].to_pickle('trends.pkl')"
      ],
      "execution_count": null,
      "outputs": []
    },
    {
      "cell_type": "markdown",
      "metadata": {
        "id": "wXPothyl6lSV",
        "colab_type": "text"
      },
      "source": [
        "#prob"
      ]
    },
    {
      "cell_type": "markdown",
      "metadata": {
        "id": "IaX_WBEK6__B",
        "colab_type": "text"
      },
      "source": [
        "I drop by mem"
      ]
    },
    {
      "cell_type": "code",
      "metadata": {
        "id": "rylOxHuC6k9q",
        "colab_type": "code",
        "colab": {}
      },
      "source": [
        "df = pd.concat([\n",
        "                pd.read_pickle('default_m5.pkl'),\n",
        "                pd.read_pickle('agg_prices.pkl'),\n",
        "                pd.read_pickle('agg_days.pkl')],\n",
        "                axis =1)[['id', 'year', 'month', 'day','sales']]"
      ],
      "execution_count": null,
      "outputs": []
    },
    {
      "cell_type": "code",
      "metadata": {
        "id": "oh14URF26p4I",
        "colab_type": "code",
        "colab": {}
      },
      "source": [
        "for i in [2011, 2012,2013,2014,2015,2016]:\n",
        "    y = df[df.year==i].groupby(['id', 'year', 'month', 'day'])['sales'].sum()\n",
        "    print(i)\n",
        "    if i == 2011:\n",
        "        temp = df.merge(y.unstack(level=2).mean(axis =1).rename(\"diff\"), how = 'left', on= ['id', 'year', 'day'])\n",
        "        del y\n",
        "        gc.collect()\n",
        "    else:\n",
        "        temp = temp.merge(y.unstack(level=2).mean(axis =1).rename(\"diff\"), how = 'left', on= ['id', 'year', 'day'])\n",
        "        del y\n",
        "        gc.collect()   "
      ],
      "execution_count": null,
      "outputs": []
    },
    {
      "cell_type": "code",
      "metadata": {
        "id": "Lkregjer6s-o",
        "colab_type": "code",
        "colab": {}
      },
      "source": [
        "temp.iloc[:, 5:].sum(axis= 1).to_frame(name = 'prob_sales').to_pickle('prob_sales.pkl')"
      ],
      "execution_count": null,
      "outputs": []
    }
  ]
}